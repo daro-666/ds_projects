{
 "cells": [
  {
   "attachments": {},
   "cell_type": "markdown",
   "metadata": {},
   "source": [
    "# Text Classification"
   ]
  },
  {
   "cell_type": "code",
   "execution_count": 170,
   "metadata": {},
   "outputs": [],
   "source": [
    "import pandas as pd\n",
    "import numpy as np\n",
    "from glob import glob\n",
    "from lyricscomfunc import dwnld_sng_txt, gen_corpus_labels\n",
    "from sklearn.feature_extraction.text import TfidfVectorizer\n",
    "from sklearn.linear_model import LogisticRegression\n",
    "from sklearn.ensemble import RandomForestClassifier\n",
    "from sklearn.naive_bayes import MultinomialNB"
   ]
  },
  {
   "attachments": {},
   "cell_type": "markdown",
   "metadata": {},
   "source": [
    "save some artist urls"
   ]
  },
  {
   "cell_type": "code",
   "execution_count": 171,
   "metadata": {},
   "outputs": [],
   "source": [
    "mtlc_artist_url   = \"https://www.lyrics.com/artist/Metallica/4906\"\n",
    "jhnmyr_artist_url = \"https://www.lyrics.com/artist/John-Mayer/405816\"\n",
    "aild_artist_url   = \"https://www.lyrics.com/artist/As-I-Lay-Dying/513658\""
   ]
  },
  {
   "attachments": {},
   "cell_type": "markdown",
   "metadata": {},
   "source": [
    "download song lyrics"
   ]
  },
  {
   "cell_type": "code",
   "execution_count": 172,
   "metadata": {},
   "outputs": [],
   "source": [
    "#dwnld_sng_txt(jhnmyr_artist_url, 10, verb=True)"
   ]
  },
  {
   "attachments": {},
   "cell_type": "markdown",
   "metadata": {},
   "source": [
    "create lists for corpus(songtexts) and labels(artist names)"
   ]
  },
  {
   "cell_type": "code",
   "execution_count": 173,
   "metadata": {},
   "outputs": [],
   "source": [
    "filepathlist = glob(\"../data/Artists/*/*.txt\")\n",
    "\n",
    "cor_lab_list = gen_corpus_labels(filepathlist)"
   ]
  },
  {
   "cell_type": "code",
   "execution_count": 174,
   "metadata": {},
   "outputs": [],
   "source": [
    "#pd.DataFrame({\"songtext\": cor_lab_list[0], \"artist\": cor_lab_list[1]})"
   ]
  },
  {
   "attachments": {},
   "cell_type": "markdown",
   "metadata": {},
   "source": [
    "transform songtexts for ml algos"
   ]
  },
  {
   "cell_type": "code",
   "execution_count": 175,
   "metadata": {},
   "outputs": [],
   "source": [
    "vctrzr = TfidfVectorizer(stop_words='english', ngram_range=(1,2), max_df=0.75)\n",
    "X = vctrzr.fit_transform(cor_lab_list[0])\n",
    "\n",
    "Xarr = X.toarray()\n",
    "y = cor_lab_list[1].copy()"
   ]
  },
  {
   "attachments": {},
   "cell_type": "markdown",
   "metadata": {},
   "source": [
    "check if everything went as expected"
   ]
  },
  {
   "cell_type": "code",
   "execution_count": 176,
   "metadata": {},
   "outputs": [],
   "source": [
    "df = pd.DataFrame(X.toarray(), \n",
    "                  columns=vctrzr.get_feature_names_out(), \n",
    "                  index=cor_lab_list[1])\n",
    "#df\n",
    "#np.square(df).sum(axis=1)"
   ]
  },
  {
   "attachments": {},
   "cell_type": "markdown",
   "metadata": {},
   "source": [
    "fit lr model make test prediction"
   ]
  },
  {
   "cell_type": "code",
   "execution_count": 177,
   "metadata": {},
   "outputs": [],
   "source": [
    "new_song = [\"electric\"]\n",
    "\n",
    "new_song_vctrzd = vctrzr.transform(new_song)"
   ]
  },
  {
   "cell_type": "code",
   "execution_count": 178,
   "metadata": {},
   "outputs": [],
   "source": [
    "lr = LogisticRegression().fit(Xarr,y)"
   ]
  },
  {
   "cell_type": "code",
   "execution_count": 179,
   "metadata": {},
   "outputs": [
    {
     "name": "stdout",
     "output_type": "stream",
     "text": [
      "1.0\n",
      "['Metallica']\n",
      "[[0.30237085 0.28635233 0.41127682]]\n"
     ]
    }
   ],
   "source": [
    "print(lr.score(Xarr,y))\n",
    "print(lr.predict(new_song_vctrzd))\n",
    "print(lr.predict_proba(new_song_vctrzd))"
   ]
  },
  {
   "attachments": {},
   "cell_type": "markdown",
   "metadata": {},
   "source": [
    "fit rf model and make test prediction (doesn't work at all, probably overfitting massively)"
   ]
  },
  {
   "cell_type": "code",
   "execution_count": 180,
   "metadata": {},
   "outputs": [],
   "source": [
    "rf = RandomForestClassifier(max_depth=3, max_features=\"sqrt\", n_estimators=100).fit(Xarr,y)"
   ]
  },
  {
   "cell_type": "code",
   "execution_count": 181,
   "metadata": {},
   "outputs": [
    {
     "name": "stdout",
     "output_type": "stream",
     "text": [
      "1.0\n",
      "['As_I_Lay_Dying']\n",
      "[[0.42336767 0.29080258 0.28582975]]\n"
     ]
    }
   ],
   "source": [
    "print(rf.score(Xarr,y))\n",
    "print(rf.predict(new_song_vctrzd))\n",
    "print(rf.predict_proba(new_song_vctrzd))"
   ]
  },
  {
   "attachments": {},
   "cell_type": "markdown",
   "metadata": {},
   "source": [
    "fit naive bayes and make test pred"
   ]
  },
  {
   "cell_type": "code",
   "execution_count": 182,
   "metadata": {},
   "outputs": [],
   "source": [
    "nb = MultinomialNB().fit(Xarr,y)"
   ]
  },
  {
   "cell_type": "code",
   "execution_count": 183,
   "metadata": {},
   "outputs": [
    {
     "name": "stdout",
     "output_type": "stream",
     "text": [
      "1.0\n",
      "['Metallica']\n",
      "[[0.286885   0.28566842 0.42744658]]\n"
     ]
    }
   ],
   "source": [
    "print(nb.score(Xarr,y))\n",
    "print(nb.predict(new_song_vctrzd))\n",
    "print(nb.predict_proba(new_song_vctrzd))"
   ]
  },
  {
   "cell_type": "code",
   "execution_count": 3,
   "metadata": {},
   "outputs": [
    {
     "name": "stdout",
     "output_type": "stream",
     "text": [
      "skip\n"
     ]
    }
   ],
   "source": [
    "%%script echo skip\n",
    "\n",
    "import numpy as np\n",
    "from matplotlib import pyplot as plt\n",
    "import wordcloud\n",
    "\n",
    "mask = np.zeros((500, 500, 3), np.uint8)\n",
    "mask[150:350,150:350,:] = 255  # masked out area\n",
    "\n",
    "cloud = wordcloud.WordCloud(background_color=\"white\",\n",
    "                max_words=50,\n",
    "                mask=mask,\n",
    "                collocations=False,  # calculates frequencies\n",
    "                contour_color='steelblue').generate(\"This this this this this this this is just a test\")\n",
    "                # stop words are removed!\n",
    "\n",
    "plt.figure(figsize = (40,40))\n",
    "plt.imshow(cloud, interpolation='bilinear')\n",
    "plt.savefig('cloud.png')\n",
    "plt.show()"
   ]
  }
 ],
 "metadata": {
  "kernelspec": {
   "display_name": "davenv",
   "language": "python",
   "name": "python3"
  },
  "language_info": {
   "codemirror_mode": {
    "name": "ipython",
    "version": 3
   },
   "file_extension": ".py",
   "mimetype": "text/x-python",
   "name": "python",
   "nbconvert_exporter": "python",
   "pygments_lexer": "ipython3",
   "version": "3.11.3"
  },
  "orig_nbformat": 4
 },
 "nbformat": 4,
 "nbformat_minor": 2
}
