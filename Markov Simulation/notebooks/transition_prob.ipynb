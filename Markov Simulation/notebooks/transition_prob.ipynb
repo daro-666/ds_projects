{
 "cells": [
  {
   "attachments": {},
   "cell_type": "markdown",
   "metadata": {},
   "source": [
    "# Importing DF "
   ]
  },
  {
   "cell_type": "code",
   "execution_count": 33,
   "metadata": {},
   "outputs": [],
   "source": [
    "import pandas as pd\n",
    "%store -r df"
   ]
  },
  {
   "cell_type": "code",
   "execution_count": 34,
   "metadata": {},
   "outputs": [
    {
     "data": {
      "text/html": [
       "<div>\n",
       "<style scoped>\n",
       "    .dataframe tbody tr th:only-of-type {\n",
       "        vertical-align: middle;\n",
       "    }\n",
       "\n",
       "    .dataframe tbody tr th {\n",
       "        vertical-align: top;\n",
       "    }\n",
       "\n",
       "    .dataframe thead th {\n",
       "        text-align: right;\n",
       "    }\n",
       "</style>\n",
       "<table border=\"1\" class=\"dataframe\">\n",
       "  <thead>\n",
       "    <tr style=\"text-align: right;\">\n",
       "      <th></th>\n",
       "      <th>customer_no</th>\n",
       "      <th>location</th>\n",
       "      <th>day</th>\n",
       "      <th>day_name</th>\n",
       "      <th>hour</th>\n",
       "      <th>min</th>\n",
       "    </tr>\n",
       "    <tr>\n",
       "      <th>timestamp</th>\n",
       "      <th></th>\n",
       "      <th></th>\n",
       "      <th></th>\n",
       "      <th></th>\n",
       "      <th></th>\n",
       "      <th></th>\n",
       "    </tr>\n",
       "  </thead>\n",
       "  <tbody>\n",
       "    <tr>\n",
       "      <th>2019-09-02 07:03:00</th>\n",
       "      <td>1</td>\n",
       "      <td>dairy</td>\n",
       "      <td>2</td>\n",
       "      <td>Monday</td>\n",
       "      <td>7</td>\n",
       "      <td>3</td>\n",
       "    </tr>\n",
       "    <tr>\n",
       "      <th>2019-09-02 07:03:00</th>\n",
       "      <td>2</td>\n",
       "      <td>dairy</td>\n",
       "      <td>2</td>\n",
       "      <td>Monday</td>\n",
       "      <td>7</td>\n",
       "      <td>3</td>\n",
       "    </tr>\n",
       "    <tr>\n",
       "      <th>2019-09-02 07:04:00</th>\n",
       "      <td>3</td>\n",
       "      <td>dairy</td>\n",
       "      <td>2</td>\n",
       "      <td>Monday</td>\n",
       "      <td>7</td>\n",
       "      <td>4</td>\n",
       "    </tr>\n",
       "    <tr>\n",
       "      <th>2019-09-02 07:04:00</th>\n",
       "      <td>4</td>\n",
       "      <td>dairy</td>\n",
       "      <td>2</td>\n",
       "      <td>Monday</td>\n",
       "      <td>7</td>\n",
       "      <td>4</td>\n",
       "    </tr>\n",
       "    <tr>\n",
       "      <th>2019-09-02 07:04:00</th>\n",
       "      <td>5</td>\n",
       "      <td>spices</td>\n",
       "      <td>2</td>\n",
       "      <td>Monday</td>\n",
       "      <td>7</td>\n",
       "      <td>4</td>\n",
       "    </tr>\n",
       "    <tr>\n",
       "      <th>...</th>\n",
       "      <td>...</td>\n",
       "      <td>...</td>\n",
       "      <td>...</td>\n",
       "      <td>...</td>\n",
       "      <td>...</td>\n",
       "      <td>...</td>\n",
       "    </tr>\n",
       "    <tr>\n",
       "      <th>2019-09-06 21:50:00</th>\n",
       "      <td>7435</td>\n",
       "      <td>dairy</td>\n",
       "      <td>6</td>\n",
       "      <td>Friday</td>\n",
       "      <td>21</td>\n",
       "      <td>50</td>\n",
       "    </tr>\n",
       "    <tr>\n",
       "      <th>2019-09-06 21:50:00</th>\n",
       "      <td>7442</td>\n",
       "      <td>checkout</td>\n",
       "      <td>6</td>\n",
       "      <td>Friday</td>\n",
       "      <td>21</td>\n",
       "      <td>50</td>\n",
       "    </tr>\n",
       "    <tr>\n",
       "      <th>2019-09-06 21:50:00</th>\n",
       "      <td>7443</td>\n",
       "      <td>checkout</td>\n",
       "      <td>6</td>\n",
       "      <td>Friday</td>\n",
       "      <td>21</td>\n",
       "      <td>50</td>\n",
       "    </tr>\n",
       "    <tr>\n",
       "      <th>2019-09-06 21:50:00</th>\n",
       "      <td>7444</td>\n",
       "      <td>drinks</td>\n",
       "      <td>6</td>\n",
       "      <td>Friday</td>\n",
       "      <td>21</td>\n",
       "      <td>50</td>\n",
       "    </tr>\n",
       "    <tr>\n",
       "      <th>2019-09-06 21:50:00</th>\n",
       "      <td>7445</td>\n",
       "      <td>spices</td>\n",
       "      <td>6</td>\n",
       "      <td>Friday</td>\n",
       "      <td>21</td>\n",
       "      <td>50</td>\n",
       "    </tr>\n",
       "  </tbody>\n",
       "</table>\n",
       "<p>24877 rows × 6 columns</p>\n",
       "</div>"
      ],
      "text/plain": [
       "                     customer_no  location  day day_name  hour  min\n",
       "timestamp                                                          \n",
       "2019-09-02 07:03:00            1     dairy    2   Monday     7    3\n",
       "2019-09-02 07:03:00            2     dairy    2   Monday     7    3\n",
       "2019-09-02 07:04:00            3     dairy    2   Monday     7    4\n",
       "2019-09-02 07:04:00            4     dairy    2   Monday     7    4\n",
       "2019-09-02 07:04:00            5    spices    2   Monday     7    4\n",
       "...                          ...       ...  ...      ...   ...  ...\n",
       "2019-09-06 21:50:00         7435     dairy    6   Friday    21   50\n",
       "2019-09-06 21:50:00         7442  checkout    6   Friday    21   50\n",
       "2019-09-06 21:50:00         7443  checkout    6   Friday    21   50\n",
       "2019-09-06 21:50:00         7444    drinks    6   Friday    21   50\n",
       "2019-09-06 21:50:00         7445    spices    6   Friday    21   50\n",
       "\n",
       "[24877 rows x 6 columns]"
      ]
     },
     "execution_count": 34,
     "metadata": {},
     "output_type": "execute_result"
    }
   ],
   "source": [
    "df"
   ]
  },
  {
   "attachments": {},
   "cell_type": "markdown",
   "metadata": {},
   "source": [
    "# Sorting location to before and after"
   ]
  },
  {
   "cell_type": "code",
   "execution_count": 35,
   "metadata": {},
   "outputs": [
    {
     "data": {
      "text/html": [
       "<div>\n",
       "<style scoped>\n",
       "    .dataframe tbody tr th:only-of-type {\n",
       "        vertical-align: middle;\n",
       "    }\n",
       "\n",
       "    .dataframe tbody tr th {\n",
       "        vertical-align: top;\n",
       "    }\n",
       "\n",
       "    .dataframe thead th {\n",
       "        text-align: right;\n",
       "    }\n",
       "</style>\n",
       "<table border=\"1\" class=\"dataframe\">\n",
       "  <thead>\n",
       "    <tr style=\"text-align: right;\">\n",
       "      <th></th>\n",
       "      <th>customer_no</th>\n",
       "      <th>location</th>\n",
       "      <th>day</th>\n",
       "      <th>day_name</th>\n",
       "      <th>hour</th>\n",
       "      <th>min</th>\n",
       "    </tr>\n",
       "    <tr>\n",
       "      <th>timestamp</th>\n",
       "      <th></th>\n",
       "      <th></th>\n",
       "      <th></th>\n",
       "      <th></th>\n",
       "      <th></th>\n",
       "      <th></th>\n",
       "    </tr>\n",
       "  </thead>\n",
       "  <tbody>\n",
       "    <tr>\n",
       "      <th>2019-09-02 08:11:00</th>\n",
       "      <td>120</td>\n",
       "      <td>spices</td>\n",
       "      <td>2</td>\n",
       "      <td>Monday</td>\n",
       "      <td>8</td>\n",
       "      <td>11</td>\n",
       "    </tr>\n",
       "    <tr>\n",
       "      <th>2019-09-02 08:14:00</th>\n",
       "      <td>120</td>\n",
       "      <td>dairy</td>\n",
       "      <td>2</td>\n",
       "      <td>Monday</td>\n",
       "      <td>8</td>\n",
       "      <td>14</td>\n",
       "    </tr>\n",
       "    <tr>\n",
       "      <th>2019-09-02 08:15:00</th>\n",
       "      <td>120</td>\n",
       "      <td>checkout</td>\n",
       "      <td>2</td>\n",
       "      <td>Monday</td>\n",
       "      <td>8</td>\n",
       "      <td>15</td>\n",
       "    </tr>\n",
       "  </tbody>\n",
       "</table>\n",
       "</div>"
      ],
      "text/plain": [
       "                     customer_no  location  day day_name  hour  min\n",
       "timestamp                                                          \n",
       "2019-09-02 08:11:00          120    spices    2   Monday     8   11\n",
       "2019-09-02 08:14:00          120     dairy    2   Monday     8   14\n",
       "2019-09-02 08:15:00          120  checkout    2   Monday     8   15"
      ]
     },
     "execution_count": 35,
     "metadata": {},
     "output_type": "execute_result"
    }
   ],
   "source": [
    "df[df[\"customer_no\"] == 120]"
   ]
  },
  {
   "cell_type": "code",
   "execution_count": 36,
   "metadata": {},
   "outputs": [],
   "source": [
    "tm = pd.DataFrame(columns=[\"Before\", \"After\"])\n",
    "\n",
    "for costumer in df[\"customer_no\"].unique():\n",
    "    df_costumer = df[df[\"customer_no\"] == costumer]\n",
    "    \n",
    "    for i in range(1, len(df_costumer)):\n",
    "        prev = df_costumer.iloc[i-1][\"location\"]\n",
    "        after = df_costumer.iloc[i][\"location\"]\n",
    "        row_to_append = []\n",
    "        \n",
    "        if prev != after:\n",
    "            row_to_append.append ({\n",
    "                \"Before\":prev,\n",
    "                \"After\": after\n",
    "            })\n",
    "            tm = pd.concat([tm, pd.DataFrame(row_to_append)])\n",
    "                \n",
    "\n",
    "tm.reset_index(drop=True, inplace=True)\n"
   ]
  },
  {
   "cell_type": "code",
   "execution_count": 37,
   "metadata": {},
   "outputs": [
    {
     "data": {
      "text/html": [
       "<div>\n",
       "<style scoped>\n",
       "    .dataframe tbody tr th:only-of-type {\n",
       "        vertical-align: middle;\n",
       "    }\n",
       "\n",
       "    .dataframe tbody tr th {\n",
       "        vertical-align: top;\n",
       "    }\n",
       "\n",
       "    .dataframe thead th {\n",
       "        text-align: right;\n",
       "    }\n",
       "</style>\n",
       "<table border=\"1\" class=\"dataframe\">\n",
       "  <thead>\n",
       "    <tr style=\"text-align: right;\">\n",
       "      <th></th>\n",
       "      <th>Before</th>\n",
       "      <th>After</th>\n",
       "    </tr>\n",
       "  </thead>\n",
       "  <tbody>\n",
       "    <tr>\n",
       "      <th>0</th>\n",
       "      <td>dairy</td>\n",
       "      <td>checkout</td>\n",
       "    </tr>\n",
       "    <tr>\n",
       "      <th>1</th>\n",
       "      <td>dairy</td>\n",
       "      <td>checkout</td>\n",
       "    </tr>\n",
       "    <tr>\n",
       "      <th>2</th>\n",
       "      <td>dairy</td>\n",
       "      <td>checkout</td>\n",
       "    </tr>\n",
       "    <tr>\n",
       "      <th>3</th>\n",
       "      <td>dairy</td>\n",
       "      <td>checkout</td>\n",
       "    </tr>\n",
       "    <tr>\n",
       "      <th>4</th>\n",
       "      <td>spices</td>\n",
       "      <td>checkout</td>\n",
       "    </tr>\n",
       "    <tr>\n",
       "      <th>...</th>\n",
       "      <td>...</td>\n",
       "      <td>...</td>\n",
       "    </tr>\n",
       "    <tr>\n",
       "      <th>17427</th>\n",
       "      <td>dairy</td>\n",
       "      <td>drinks</td>\n",
       "    </tr>\n",
       "    <tr>\n",
       "      <th>17428</th>\n",
       "      <td>fruit</td>\n",
       "      <td>checkout</td>\n",
       "    </tr>\n",
       "    <tr>\n",
       "      <th>17429</th>\n",
       "      <td>fruit</td>\n",
       "      <td>dairy</td>\n",
       "    </tr>\n",
       "    <tr>\n",
       "      <th>17430</th>\n",
       "      <td>dairy</td>\n",
       "      <td>checkout</td>\n",
       "    </tr>\n",
       "    <tr>\n",
       "      <th>17431</th>\n",
       "      <td>dairy</td>\n",
       "      <td>checkout</td>\n",
       "    </tr>\n",
       "  </tbody>\n",
       "</table>\n",
       "<p>17432 rows × 2 columns</p>\n",
       "</div>"
      ],
      "text/plain": [
       "       Before     After\n",
       "0       dairy  checkout\n",
       "1       dairy  checkout\n",
       "2       dairy  checkout\n",
       "3       dairy  checkout\n",
       "4      spices  checkout\n",
       "...       ...       ...\n",
       "17427   dairy    drinks\n",
       "17428   fruit  checkout\n",
       "17429   fruit     dairy\n",
       "17430   dairy  checkout\n",
       "17431   dairy  checkout\n",
       "\n",
       "[17432 rows x 2 columns]"
      ]
     },
     "execution_count": 37,
     "metadata": {},
     "output_type": "execute_result"
    }
   ],
   "source": [
    "tm"
   ]
  },
  {
   "attachments": {},
   "cell_type": "markdown",
   "metadata": {},
   "source": [
    "# Crosstab with probability"
   ]
  },
  {
   "cell_type": "code",
   "execution_count": 38,
   "metadata": {},
   "outputs": [],
   "source": [
    "transition_prob  = pd.crosstab(tm[\"Before\"], tm[\"After\"], normalize=\"index\")"
   ]
  },
  {
   "cell_type": "code",
   "execution_count": 39,
   "metadata": {},
   "outputs": [
    {
     "data": {
      "text/html": [
       "<div>\n",
       "<style scoped>\n",
       "    .dataframe tbody tr th:only-of-type {\n",
       "        vertical-align: middle;\n",
       "    }\n",
       "\n",
       "    .dataframe tbody tr th {\n",
       "        vertical-align: top;\n",
       "    }\n",
       "\n",
       "    .dataframe thead th {\n",
       "        text-align: right;\n",
       "    }\n",
       "</style>\n",
       "<table border=\"1\" class=\"dataframe\">\n",
       "  <thead>\n",
       "    <tr style=\"text-align: right;\">\n",
       "      <th>After</th>\n",
       "      <th>checkout</th>\n",
       "      <th>dairy</th>\n",
       "      <th>drinks</th>\n",
       "      <th>fruit</th>\n",
       "      <th>spices</th>\n",
       "    </tr>\n",
       "    <tr>\n",
       "      <th>Before</th>\n",
       "      <th></th>\n",
       "      <th></th>\n",
       "      <th></th>\n",
       "      <th></th>\n",
       "      <th></th>\n",
       "    </tr>\n",
       "  </thead>\n",
       "  <tbody>\n",
       "    <tr>\n",
       "      <th>dairy</th>\n",
       "      <td>0.391211</td>\n",
       "      <td>0.000000</td>\n",
       "      <td>0.223151</td>\n",
       "      <td>0.189925</td>\n",
       "      <td>0.195713</td>\n",
       "    </tr>\n",
       "    <tr>\n",
       "      <th>drinks</th>\n",
       "      <td>0.537023</td>\n",
       "      <td>0.027159</td>\n",
       "      <td>0.000000</td>\n",
       "      <td>0.219062</td>\n",
       "      <td>0.216756</td>\n",
       "    </tr>\n",
       "    <tr>\n",
       "      <th>fruit</th>\n",
       "      <td>0.499511</td>\n",
       "      <td>0.238319</td>\n",
       "      <td>0.136266</td>\n",
       "      <td>0.000000</td>\n",
       "      <td>0.125904</td>\n",
       "    </tr>\n",
       "    <tr>\n",
       "      <th>spices</th>\n",
       "      <td>0.251000</td>\n",
       "      <td>0.323553</td>\n",
       "      <td>0.273140</td>\n",
       "      <td>0.152307</td>\n",
       "      <td>0.000000</td>\n",
       "    </tr>\n",
       "  </tbody>\n",
       "</table>\n",
       "</div>"
      ],
      "text/plain": [
       "After   checkout     dairy    drinks     fruit    spices\n",
       "Before                                                  \n",
       "dairy   0.391211  0.000000  0.223151  0.189925  0.195713\n",
       "drinks  0.537023  0.027159  0.000000  0.219062  0.216756\n",
       "fruit   0.499511  0.238319  0.136266  0.000000  0.125904\n",
       "spices  0.251000  0.323553  0.273140  0.152307  0.000000"
      ]
     },
     "execution_count": 39,
     "metadata": {},
     "output_type": "execute_result"
    }
   ],
   "source": [
    "transition_prob"
   ]
  },
  {
   "cell_type": "code",
   "execution_count": 42,
   "metadata": {},
   "outputs": [
    {
     "data": {
      "text/plain": [
       "After\n",
       "checkout    0.391211\n",
       "dairy       0.000000\n",
       "drinks      0.223151\n",
       "fruit       0.189925\n",
       "spices      0.195713\n",
       "Name: dairy, dtype: float64"
      ]
     },
     "execution_count": 42,
     "metadata": {},
     "output_type": "execute_result"
    }
   ],
   "source": [
    "transition_prob.loc[\"dairy\"]"
   ]
  },
  {
   "cell_type": "code",
   "execution_count": 40,
   "metadata": {},
   "outputs": [],
   "source": [
    "transition_prob.to_csv(\"tp.csv\", sep=\";\")"
   ]
  },
  {
   "attachments": {},
   "cell_type": "markdown",
   "metadata": {},
   "source": [
    "# Heat map"
   ]
  },
  {
   "cell_type": "code",
   "execution_count": 41,
   "metadata": {},
   "outputs": [
    {
     "data": {
      "text/plain": [
       "<Axes: xlabel='After', ylabel='After'>"
      ]
     },
     "execution_count": 41,
     "metadata": {},
     "output_type": "execute_result"
    },
    {
     "data": {
      "image/png": "[encoded data removed]",
      "text/plain": [
       "<Figure size 1200x400 with 2 Axes>"
      ]
     },
     "metadata": {},
     "output_type": "display_data"
    }
   ],
   "source": [
    "import seaborn as sns\n",
    "sns.set(rc={'figure.figsize':(12,4)})\n",
    "sns.heatmap(transition_prob.corr(numeric_only=True), cmap=\"bwr\", annot=True, fmt=\"0.2f\", center=0.0)"
   ]
  }
 ],
 "metadata": {
  "kernelspec": {
   "display_name": "base",
   "language": "python",
   "name": "python3"
  },
  "language_info": {
   "codemirror_mode": {
    "name": "ipython",
    "version": 3
   },
   "file_extension": ".py",
   "mimetype": "text/x-python",
   "name": "python",
   "nbconvert_exporter": "python",
   "pygments_lexer": "ipython3",
   "version": "3.10.9"
  },
  "orig_nbformat": 4
 },
 "nbformat": 4,
 "nbformat_minor": 2
}
