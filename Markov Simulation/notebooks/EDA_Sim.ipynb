{
 "cells": [
  {
   "attachments": {},
   "cell_type": "markdown",
   "metadata": {},
   "source": [
    "# EDA: Rewe simulation"
   ]
  },
  {
   "attachments": {},
   "cell_type": "markdown",
   "metadata": {},
   "source": [
    "## Importing"
   ]
  },
  {
   "cell_type": "code",
   "execution_count": 97,
   "metadata": {},
   "outputs": [],
   "source": [
    "import pandas as pd\n",
    "import plotly.express as px\n",
    "import os\n",
    "import numpy as np"
   ]
  },
  {
   "cell_type": "code",
   "execution_count": 98,
   "metadata": {},
   "outputs": [
    {
     "name": "stderr",
     "output_type": "stream",
     "text": [
      "/var/folders/mx/s7wggw1s7c7dwlnksqrwkm0m0000gn/T/ipykernel_2891/915542970.py:1: UserWarning:\n",
      "\n",
      "Could not infer format, so each element will be parsed individually, falling back to `dateutil`. To ensure parsing is consistent and as-expected, please specify a format.\n",
      "\n"
     ]
    },
    {
     "data": {
      "text/html": [
       "<div>\n",
       "<style scoped>\n",
       "    .dataframe tbody tr th:only-of-type {\n",
       "        vertical-align: middle;\n",
       "    }\n",
       "\n",
       "    .dataframe tbody tr th {\n",
       "        vertical-align: top;\n",
       "    }\n",
       "\n",
       "    .dataframe thead th {\n",
       "        text-align: right;\n",
       "    }\n",
       "</style>\n",
       "<table border=\"1\" class=\"dataframe\">\n",
       "  <thead>\n",
       "    <tr style=\"text-align: right;\">\n",
       "      <th></th>\n",
       "      <th>customer name</th>\n",
       "      <th>location</th>\n",
       "    </tr>\n",
       "  </thead>\n",
       "  <tbody>\n",
       "    <tr>\n",
       "      <th>2023-06-30 07:01:00</th>\n",
       "      <td>Gregory Decker</td>\n",
       "      <td>dairy</td>\n",
       "    </tr>\n",
       "    <tr>\n",
       "      <th>2023-06-30 07:01:00</th>\n",
       "      <td>Diane Williams</td>\n",
       "      <td>fruit</td>\n",
       "    </tr>\n",
       "    <tr>\n",
       "      <th>2023-06-30 07:01:00</th>\n",
       "      <td>Lindsay Henderson</td>\n",
       "      <td>drinks</td>\n",
       "    </tr>\n",
       "    <tr>\n",
       "      <th>2023-06-30 07:02:00</th>\n",
       "      <td>Gregory Decker</td>\n",
       "      <td>spices</td>\n",
       "    </tr>\n",
       "    <tr>\n",
       "      <th>2023-06-30 07:02:00</th>\n",
       "      <td>Lindsay Henderson</td>\n",
       "      <td>fruit</td>\n",
       "    </tr>\n",
       "    <tr>\n",
       "      <th>...</th>\n",
       "      <td>...</td>\n",
       "      <td>...</td>\n",
       "    </tr>\n",
       "    <tr>\n",
       "      <th>2023-06-30 21:58:00</th>\n",
       "      <td>Nathan Simmons</td>\n",
       "      <td>fruit</td>\n",
       "    </tr>\n",
       "    <tr>\n",
       "      <th>2023-06-30 21:59:00</th>\n",
       "      <td>Jenna Garcia</td>\n",
       "      <td>dairy</td>\n",
       "    </tr>\n",
       "    <tr>\n",
       "      <th>2023-06-30 21:59:00</th>\n",
       "      <td>Marissa Hunter</td>\n",
       "      <td>checkout</td>\n",
       "    </tr>\n",
       "    <tr>\n",
       "      <th>2023-06-30 21:59:00</th>\n",
       "      <td>John Cisneros</td>\n",
       "      <td>fruit</td>\n",
       "    </tr>\n",
       "    <tr>\n",
       "      <th>2023-06-30 21:59:00</th>\n",
       "      <td>Kevin Martinez</td>\n",
       "      <td>fruit</td>\n",
       "    </tr>\n",
       "  </tbody>\n",
       "</table>\n",
       "<p>5358 rows × 2 columns</p>\n",
       "</div>"
      ],
      "text/plain": [
       "                         customer name  location\n",
       "2023-06-30 07:01:00     Gregory Decker     dairy\n",
       "2023-06-30 07:01:00     Diane Williams     fruit\n",
       "2023-06-30 07:01:00  Lindsay Henderson    drinks\n",
       "2023-06-30 07:02:00     Gregory Decker    spices\n",
       "2023-06-30 07:02:00  Lindsay Henderson     fruit\n",
       "...                                ...       ...\n",
       "2023-06-30 21:58:00     Nathan Simmons     fruit\n",
       "2023-06-30 21:59:00       Jenna Garcia     dairy\n",
       "2023-06-30 21:59:00     Marissa Hunter  checkout\n",
       "2023-06-30 21:59:00      John Cisneros     fruit\n",
       "2023-06-30 21:59:00     Kevin Martinez     fruit\n",
       "\n",
       "[5358 rows x 2 columns]"
      ]
     },
     "execution_count": 98,
     "metadata": {},
     "output_type": "execute_result"
    }
   ],
   "source": [
    "df = pd.read_csv(\"../output/sim2.csv\", index_col=0, names=[\"customer name\", \"location\"],parse_dates=True, sep=\",\")\n",
    "df"
   ]
  },
  {
   "attachments": {},
   "cell_type": "markdown",
   "metadata": {},
   "source": [
    "modify the customer_no to be unique throughout the days"
   ]
  },
  {
   "cell_type": "code",
   "execution_count": 99,
   "metadata": {},
   "outputs": [],
   "source": [
    "df[\"customer_no\"] = df.groupby(\"customer name\").ngroup(ascending=True)"
   ]
  },
  {
   "cell_type": "code",
   "execution_count": 100,
   "metadata": {},
   "outputs": [
    {
     "data": {
      "text/html": [
       "<div>\n",
       "<style scoped>\n",
       "    .dataframe tbody tr th:only-of-type {\n",
       "        vertical-align: middle;\n",
       "    }\n",
       "\n",
       "    .dataframe tbody tr th {\n",
       "        vertical-align: top;\n",
       "    }\n",
       "\n",
       "    .dataframe thead th {\n",
       "        text-align: right;\n",
       "    }\n",
       "</style>\n",
       "<table border=\"1\" class=\"dataframe\">\n",
       "  <thead>\n",
       "    <tr style=\"text-align: right;\">\n",
       "      <th></th>\n",
       "      <th>customer name</th>\n",
       "      <th>location</th>\n",
       "      <th>customer_no</th>\n",
       "    </tr>\n",
       "  </thead>\n",
       "  <tbody>\n",
       "    <tr>\n",
       "      <th>2023-06-30 07:01:00</th>\n",
       "      <td>Gregory Decker</td>\n",
       "      <td>dairy</td>\n",
       "      <td>563</td>\n",
       "    </tr>\n",
       "    <tr>\n",
       "      <th>2023-06-30 07:01:00</th>\n",
       "      <td>Diane Williams</td>\n",
       "      <td>fruit</td>\n",
       "      <td>452</td>\n",
       "    </tr>\n",
       "    <tr>\n",
       "      <th>2023-06-30 07:01:00</th>\n",
       "      <td>Lindsay Henderson</td>\n",
       "      <td>drinks</td>\n",
       "      <td>941</td>\n",
       "    </tr>\n",
       "    <tr>\n",
       "      <th>2023-06-30 07:02:00</th>\n",
       "      <td>Gregory Decker</td>\n",
       "      <td>spices</td>\n",
       "      <td>563</td>\n",
       "    </tr>\n",
       "    <tr>\n",
       "      <th>2023-06-30 07:02:00</th>\n",
       "      <td>Lindsay Henderson</td>\n",
       "      <td>fruit</td>\n",
       "      <td>941</td>\n",
       "    </tr>\n",
       "    <tr>\n",
       "      <th>...</th>\n",
       "      <td>...</td>\n",
       "      <td>...</td>\n",
       "      <td>...</td>\n",
       "    </tr>\n",
       "    <tr>\n",
       "      <th>2023-06-30 21:58:00</th>\n",
       "      <td>Nathan Simmons</td>\n",
       "      <td>fruit</td>\n",
       "      <td>1159</td>\n",
       "    </tr>\n",
       "    <tr>\n",
       "      <th>2023-06-30 21:59:00</th>\n",
       "      <td>Jenna Garcia</td>\n",
       "      <td>dairy</td>\n",
       "      <td>659</td>\n",
       "    </tr>\n",
       "    <tr>\n",
       "      <th>2023-06-30 21:59:00</th>\n",
       "      <td>Marissa Hunter</td>\n",
       "      <td>checkout</td>\n",
       "      <td>991</td>\n",
       "    </tr>\n",
       "    <tr>\n",
       "      <th>2023-06-30 21:59:00</th>\n",
       "      <td>John Cisneros</td>\n",
       "      <td>fruit</td>\n",
       "      <td>719</td>\n",
       "    </tr>\n",
       "    <tr>\n",
       "      <th>2023-06-30 21:59:00</th>\n",
       "      <td>Kevin Martinez</td>\n",
       "      <td>fruit</td>\n",
       "      <td>882</td>\n",
       "    </tr>\n",
       "  </tbody>\n",
       "</table>\n",
       "<p>5358 rows × 3 columns</p>\n",
       "</div>"
      ],
      "text/plain": [
       "                         customer name  location  customer_no\n",
       "2023-06-30 07:01:00     Gregory Decker     dairy          563\n",
       "2023-06-30 07:01:00     Diane Williams     fruit          452\n",
       "2023-06-30 07:01:00  Lindsay Henderson    drinks          941\n",
       "2023-06-30 07:02:00     Gregory Decker    spices          563\n",
       "2023-06-30 07:02:00  Lindsay Henderson     fruit          941\n",
       "...                                ...       ...          ...\n",
       "2023-06-30 21:58:00     Nathan Simmons     fruit         1159\n",
       "2023-06-30 21:59:00       Jenna Garcia     dairy          659\n",
       "2023-06-30 21:59:00     Marissa Hunter  checkout          991\n",
       "2023-06-30 21:59:00      John Cisneros     fruit          719\n",
       "2023-06-30 21:59:00     Kevin Martinez     fruit          882\n",
       "\n",
       "[5358 rows x 3 columns]"
      ]
     },
     "execution_count": 100,
     "metadata": {},
     "output_type": "execute_result"
    }
   ],
   "source": [
    "df"
   ]
  },
  {
   "attachments": {},
   "cell_type": "markdown",
   "metadata": {},
   "source": [
    "create time related features for easier filtering"
   ]
  },
  {
   "cell_type": "code",
   "execution_count": 101,
   "metadata": {},
   "outputs": [
    {
     "data": {
      "text/html": [
       "<div>\n",
       "<style scoped>\n",
       "    .dataframe tbody tr th:only-of-type {\n",
       "        vertical-align: middle;\n",
       "    }\n",
       "\n",
       "    .dataframe tbody tr th {\n",
       "        vertical-align: top;\n",
       "    }\n",
       "\n",
       "    .dataframe thead th {\n",
       "        text-align: right;\n",
       "    }\n",
       "</style>\n",
       "<table border=\"1\" class=\"dataframe\">\n",
       "  <thead>\n",
       "    <tr style=\"text-align: right;\">\n",
       "      <th></th>\n",
       "      <th>customer name</th>\n",
       "      <th>location</th>\n",
       "      <th>customer_no</th>\n",
       "      <th>day</th>\n",
       "      <th>day_name</th>\n",
       "      <th>hour</th>\n",
       "      <th>min</th>\n",
       "    </tr>\n",
       "  </thead>\n",
       "  <tbody>\n",
       "    <tr>\n",
       "      <th>2023-06-30 07:01:00</th>\n",
       "      <td>Gregory Decker</td>\n",
       "      <td>dairy</td>\n",
       "      <td>563</td>\n",
       "      <td>30</td>\n",
       "      <td>Friday</td>\n",
       "      <td>7</td>\n",
       "      <td>1</td>\n",
       "    </tr>\n",
       "    <tr>\n",
       "      <th>2023-06-30 07:01:00</th>\n",
       "      <td>Diane Williams</td>\n",
       "      <td>fruit</td>\n",
       "      <td>452</td>\n",
       "      <td>30</td>\n",
       "      <td>Friday</td>\n",
       "      <td>7</td>\n",
       "      <td>1</td>\n",
       "    </tr>\n",
       "    <tr>\n",
       "      <th>2023-06-30 07:01:00</th>\n",
       "      <td>Lindsay Henderson</td>\n",
       "      <td>drinks</td>\n",
       "      <td>941</td>\n",
       "      <td>30</td>\n",
       "      <td>Friday</td>\n",
       "      <td>7</td>\n",
       "      <td>1</td>\n",
       "    </tr>\n",
       "    <tr>\n",
       "      <th>2023-06-30 07:02:00</th>\n",
       "      <td>Gregory Decker</td>\n",
       "      <td>spices</td>\n",
       "      <td>563</td>\n",
       "      <td>30</td>\n",
       "      <td>Friday</td>\n",
       "      <td>7</td>\n",
       "      <td>2</td>\n",
       "    </tr>\n",
       "    <tr>\n",
       "      <th>2023-06-30 07:02:00</th>\n",
       "      <td>Lindsay Henderson</td>\n",
       "      <td>fruit</td>\n",
       "      <td>941</td>\n",
       "      <td>30</td>\n",
       "      <td>Friday</td>\n",
       "      <td>7</td>\n",
       "      <td>2</td>\n",
       "    </tr>\n",
       "    <tr>\n",
       "      <th>...</th>\n",
       "      <td>...</td>\n",
       "      <td>...</td>\n",
       "      <td>...</td>\n",
       "      <td>...</td>\n",
       "      <td>...</td>\n",
       "      <td>...</td>\n",
       "      <td>...</td>\n",
       "    </tr>\n",
       "    <tr>\n",
       "      <th>2023-06-30 21:58:00</th>\n",
       "      <td>Nathan Simmons</td>\n",
       "      <td>fruit</td>\n",
       "      <td>1159</td>\n",
       "      <td>30</td>\n",
       "      <td>Friday</td>\n",
       "      <td>21</td>\n",
       "      <td>58</td>\n",
       "    </tr>\n",
       "    <tr>\n",
       "      <th>2023-06-30 21:59:00</th>\n",
       "      <td>Jenna Garcia</td>\n",
       "      <td>dairy</td>\n",
       "      <td>659</td>\n",
       "      <td>30</td>\n",
       "      <td>Friday</td>\n",
       "      <td>21</td>\n",
       "      <td>59</td>\n",
       "    </tr>\n",
       "    <tr>\n",
       "      <th>2023-06-30 21:59:00</th>\n",
       "      <td>Marissa Hunter</td>\n",
       "      <td>checkout</td>\n",
       "      <td>991</td>\n",
       "      <td>30</td>\n",
       "      <td>Friday</td>\n",
       "      <td>21</td>\n",
       "      <td>59</td>\n",
       "    </tr>\n",
       "    <tr>\n",
       "      <th>2023-06-30 21:59:00</th>\n",
       "      <td>John Cisneros</td>\n",
       "      <td>fruit</td>\n",
       "      <td>719</td>\n",
       "      <td>30</td>\n",
       "      <td>Friday</td>\n",
       "      <td>21</td>\n",
       "      <td>59</td>\n",
       "    </tr>\n",
       "    <tr>\n",
       "      <th>2023-06-30 21:59:00</th>\n",
       "      <td>Kevin Martinez</td>\n",
       "      <td>fruit</td>\n",
       "      <td>882</td>\n",
       "      <td>30</td>\n",
       "      <td>Friday</td>\n",
       "      <td>21</td>\n",
       "      <td>59</td>\n",
       "    </tr>\n",
       "  </tbody>\n",
       "</table>\n",
       "<p>5358 rows × 7 columns</p>\n",
       "</div>"
      ],
      "text/plain": [
       "                         customer name  location  customer_no  day day_name  \\\n",
       "2023-06-30 07:01:00     Gregory Decker     dairy          563   30   Friday   \n",
       "2023-06-30 07:01:00     Diane Williams     fruit          452   30   Friday   \n",
       "2023-06-30 07:01:00  Lindsay Henderson    drinks          941   30   Friday   \n",
       "2023-06-30 07:02:00     Gregory Decker    spices          563   30   Friday   \n",
       "2023-06-30 07:02:00  Lindsay Henderson     fruit          941   30   Friday   \n",
       "...                                ...       ...          ...  ...      ...   \n",
       "2023-06-30 21:58:00     Nathan Simmons     fruit         1159   30   Friday   \n",
       "2023-06-30 21:59:00       Jenna Garcia     dairy          659   30   Friday   \n",
       "2023-06-30 21:59:00     Marissa Hunter  checkout          991   30   Friday   \n",
       "2023-06-30 21:59:00      John Cisneros     fruit          719   30   Friday   \n",
       "2023-06-30 21:59:00     Kevin Martinez     fruit          882   30   Friday   \n",
       "\n",
       "                     hour  min  \n",
       "2023-06-30 07:01:00     7    1  \n",
       "2023-06-30 07:01:00     7    1  \n",
       "2023-06-30 07:01:00     7    1  \n",
       "2023-06-30 07:02:00     7    2  \n",
       "2023-06-30 07:02:00     7    2  \n",
       "...                   ...  ...  \n",
       "2023-06-30 21:58:00    21   58  \n",
       "2023-06-30 21:59:00    21   59  \n",
       "2023-06-30 21:59:00    21   59  \n",
       "2023-06-30 21:59:00    21   59  \n",
       "2023-06-30 21:59:00    21   59  \n",
       "\n",
       "[5358 rows x 7 columns]"
      ]
     },
     "execution_count": 101,
     "metadata": {},
     "output_type": "execute_result"
    }
   ],
   "source": [
    "df[\"day\"]  = df.index.day\n",
    "df[\"day_name\"] = df.index.day_name()\n",
    "df[\"hour\"] = df.index.hour\n",
    "df[\"min\"]  = df.index.minute\n",
    "df "
   ]
  },
  {
   "cell_type": "code",
   "execution_count": 102,
   "metadata": {},
   "outputs": [
    {
     "name": "stdout",
     "output_type": "stream",
     "text": [
      "Stored 'sim_df' (DataFrame)\n"
     ]
    }
   ],
   "source": [
    "sim_df = df.copy()\n",
    "%store sim_df "
   ]
  },
  {
   "attachments": {},
   "cell_type": "markdown",
   "metadata": {},
   "source": [
    "## Q1: total number of customers in each section?"
   ]
  },
  {
   "cell_type": "code",
   "execution_count": 80,
   "metadata": {},
   "outputs": [
    {
     "data": {
      "text/plain": [
       "location\n",
       "checkout    1554\n",
       "dairy        779\n",
       "drinks       707\n",
       "fruit        917\n",
       "spices       643\n",
       "Name: customer_no, dtype: int64"
      ]
     },
     "execution_count": 80,
     "metadata": {},
     "output_type": "execute_result"
    }
   ],
   "source": [
    "df.groupby(df[\"location\"]).nunique()[\"customer_no\"]"
   ]
  },
  {
   "attachments": {},
   "cell_type": "markdown",
   "metadata": {},
   "source": [
    "## Q2, Q3: total number of customers in each section over time and total number of customers in checkout over time"
   ]
  },
  {
   "cell_type": "code",
   "execution_count": 81,
   "metadata": {},
   "outputs": [
    {
     "data": {
      "text/html": [
       "<div>\n",
       "<style scoped>\n",
       "    .dataframe tbody tr th:only-of-type {\n",
       "        vertical-align: middle;\n",
       "    }\n",
       "\n",
       "    .dataframe tbody tr th {\n",
       "        vertical-align: top;\n",
       "    }\n",
       "\n",
       "    .dataframe thead th {\n",
       "        text-align: right;\n",
       "    }\n",
       "</style>\n",
       "<table border=\"1\" class=\"dataframe\">\n",
       "  <thead>\n",
       "    <tr style=\"text-align: right;\">\n",
       "      <th></th>\n",
       "      <th>day</th>\n",
       "      <th>day_name</th>\n",
       "      <th>hour</th>\n",
       "      <th>location</th>\n",
       "      <th>customer_no</th>\n",
       "    </tr>\n",
       "  </thead>\n",
       "  <tbody>\n",
       "    <tr>\n",
       "      <th>0</th>\n",
       "      <td>30</td>\n",
       "      <td>Friday</td>\n",
       "      <td>7</td>\n",
       "      <td>checkout</td>\n",
       "      <td>90</td>\n",
       "    </tr>\n",
       "    <tr>\n",
       "      <th>1</th>\n",
       "      <td>30</td>\n",
       "      <td>Friday</td>\n",
       "      <td>7</td>\n",
       "      <td>dairy</td>\n",
       "      <td>57</td>\n",
       "    </tr>\n",
       "    <tr>\n",
       "      <th>2</th>\n",
       "      <td>30</td>\n",
       "      <td>Friday</td>\n",
       "      <td>7</td>\n",
       "      <td>drinks</td>\n",
       "      <td>40</td>\n",
       "    </tr>\n",
       "    <tr>\n",
       "      <th>3</th>\n",
       "      <td>30</td>\n",
       "      <td>Friday</td>\n",
       "      <td>7</td>\n",
       "      <td>fruit</td>\n",
       "      <td>51</td>\n",
       "    </tr>\n",
       "    <tr>\n",
       "      <th>4</th>\n",
       "      <td>30</td>\n",
       "      <td>Friday</td>\n",
       "      <td>7</td>\n",
       "      <td>spices</td>\n",
       "      <td>33</td>\n",
       "    </tr>\n",
       "    <tr>\n",
       "      <th>...</th>\n",
       "      <td>...</td>\n",
       "      <td>...</td>\n",
       "      <td>...</td>\n",
       "      <td>...</td>\n",
       "      <td>...</td>\n",
       "    </tr>\n",
       "    <tr>\n",
       "      <th>70</th>\n",
       "      <td>30</td>\n",
       "      <td>Friday</td>\n",
       "      <td>21</td>\n",
       "      <td>checkout</td>\n",
       "      <td>101</td>\n",
       "    </tr>\n",
       "    <tr>\n",
       "      <th>71</th>\n",
       "      <td>30</td>\n",
       "      <td>Friday</td>\n",
       "      <td>21</td>\n",
       "      <td>dairy</td>\n",
       "      <td>55</td>\n",
       "    </tr>\n",
       "    <tr>\n",
       "      <th>72</th>\n",
       "      <td>30</td>\n",
       "      <td>Friday</td>\n",
       "      <td>21</td>\n",
       "      <td>drinks</td>\n",
       "      <td>42</td>\n",
       "    </tr>\n",
       "    <tr>\n",
       "      <th>73</th>\n",
       "      <td>30</td>\n",
       "      <td>Friday</td>\n",
       "      <td>21</td>\n",
       "      <td>fruit</td>\n",
       "      <td>62</td>\n",
       "    </tr>\n",
       "    <tr>\n",
       "      <th>74</th>\n",
       "      <td>30</td>\n",
       "      <td>Friday</td>\n",
       "      <td>21</td>\n",
       "      <td>spices</td>\n",
       "      <td>40</td>\n",
       "    </tr>\n",
       "  </tbody>\n",
       "</table>\n",
       "<p>75 rows × 5 columns</p>\n",
       "</div>"
      ],
      "text/plain": [
       "    day day_name  hour  location  customer_no\n",
       "0    30   Friday     7  checkout           90\n",
       "1    30   Friday     7     dairy           57\n",
       "2    30   Friday     7    drinks           40\n",
       "3    30   Friday     7     fruit           51\n",
       "4    30   Friday     7    spices           33\n",
       "..  ...      ...   ...       ...          ...\n",
       "70   30   Friday    21  checkout          101\n",
       "71   30   Friday    21     dairy           55\n",
       "72   30   Friday    21    drinks           42\n",
       "73   30   Friday    21     fruit           62\n",
       "74   30   Friday    21    spices           40\n",
       "\n",
       "[75 rows x 5 columns]"
      ]
     },
     "execution_count": 81,
     "metadata": {},
     "output_type": "execute_result"
    }
   ],
   "source": [
    "plotdf = df.groupby([df[\"day\"], df[\"day_name\"],df[\"hour\"], df[\"location\"]]).nunique()[\"customer_no\"].reset_index()\n",
    "plotdf"
   ]
  },
  {
   "cell_type": "code",
   "execution_count": 82,
   "metadata": {},
   "outputs": [
    {
     "data": {
      "application/vnd.plotly.v1+json": {
       "config": {
        "plotlyServerURL": "https://plot.ly"
       },
       "data": [
        {
         "hovertemplate": "location=checkout<br>weekday=Friday<br>hour=%{x}<br>total # of customers=%{y}<extra></extra>",
         "legendgroup": "checkout",
         "line": {
          "color": "#636efa",
          "dash": "solid"
         },
         "marker": {
          "symbol": "circle"
         },
         "mode": "markers+lines",
         "name": "checkout",
         "orientation": "v",
         "showlegend": true,
         "type": "scatter",
         "x": [
          7,
          8,
          9,
          10,
          11,
          12,
          13,
          14,
          15,
          16,
          17,
          18,
          19,
          20,
          21
         ],
         "xaxis": "x",
         "y": [
          90,
          141,
          97,
          98,
          107,
          98,
          101,
          95,
          101,
          97,
          107,
          101,
          141,
          101,
          101
         ],
         "yaxis": "y"
        },
        {
         "hovertemplate": "location=dairy<br>weekday=Friday<br>hour=%{x}<br>total # of customers=%{y}<extra></extra>",
         "legendgroup": "dairy",
         "line": {
          "color": "#EF553B",
          "dash": "solid"
         },
         "marker": {
          "symbol": "circle"
         },
         "mode": "markers+lines",
         "name": "dairy",
         "orientation": "v",
         "showlegend": true,
         "type": "scatter",
         "x": [
          7,
          8,
          9,
          10,
          11,
          12,
          13,
          14,
          15,
          16,
          17,
          18,
          19,
          20,
          21
         ],
         "xaxis": "x",
         "y": [
          57,
          75,
          52,
          46,
          50,
          44,
          45,
          39,
          56,
          55,
          51,
          57,
          74,
          48,
          55
         ],
         "yaxis": "y"
        },
        {
         "hovertemplate": "location=drinks<br>weekday=Friday<br>hour=%{x}<br>total # of customers=%{y}<extra></extra>",
         "legendgroup": "drinks",
         "line": {
          "color": "#00cc96",
          "dash": "solid"
         },
         "marker": {
          "symbol": "circle"
         },
         "mode": "markers+lines",
         "name": "drinks",
         "orientation": "v",
         "showlegend": true,
         "type": "scatter",
         "x": [
          7,
          8,
          9,
          10,
          11,
          12,
          13,
          14,
          15,
          16,
          17,
          18,
          19,
          20,
          21
         ],
         "xaxis": "x",
         "y": [
          40,
          68,
          41,
          43,
          47,
          48,
          44,
          41,
          56,
          33,
          44,
          43,
          80,
          51,
          42
         ],
         "yaxis": "y"
        },
        {
         "hovertemplate": "location=fruit<br>weekday=Friday<br>hour=%{x}<br>total # of customers=%{y}<extra></extra>",
         "legendgroup": "fruit",
         "line": {
          "color": "#ab63fa",
          "dash": "solid"
         },
         "marker": {
          "symbol": "circle"
         },
         "mode": "markers+lines",
         "name": "fruit",
         "orientation": "v",
         "showlegend": true,
         "type": "scatter",
         "x": [
          7,
          8,
          9,
          10,
          11,
          12,
          13,
          14,
          15,
          16,
          17,
          18,
          19,
          20,
          21
         ],
         "xaxis": "x",
         "y": [
          51,
          93,
          65,
          67,
          55,
          53,
          62,
          52,
          62,
          53,
          67,
          62,
          75,
          60,
          62
         ],
         "yaxis": "y"
        },
        {
         "hovertemplate": "location=spices<br>weekday=Friday<br>hour=%{x}<br>total # of customers=%{y}<extra></extra>",
         "legendgroup": "spices",
         "line": {
          "color": "#FFA15A",
          "dash": "solid"
         },
         "marker": {
          "symbol": "circle"
         },
         "mode": "markers+lines",
         "name": "spices",
         "orientation": "v",
         "showlegend": true,
         "type": "scatter",
         "x": [
          7,
          8,
          9,
          10,
          11,
          12,
          13,
          14,
          15,
          16,
          17,
          18,
          19,
          20,
          21
         ],
         "xaxis": "x",
         "y": [
          33,
          64,
          40,
          35,
          38,
          39,
          38,
          43,
          48,
          42,
          44,
          43,
          61,
          53,
          40
         ],
         "yaxis": "y"
        }
       ],
       "layout": {
        "autosize": false,
        "height": 700,
        "legend": {
         "title": {
          "text": "location"
         },
         "tracegroupgap": 0
        },
        "margin": {
         "t": 60
        },
        "template": {
         "data": {
          "bar": [
           {
            "error_x": {
             "color": "#f2f5fa"
            },
            "error_y": {
             "color": "#f2f5fa"
            },
            "marker": {
             "line": {
              "color": "rgb(17,17,17)",
              "width": 0.5
             },
             "pattern": {
              "fillmode": "overlay",
              "size": 10,
              "solidity": 0.2
             }
            },
            "type": "bar"
           }
          ],
          "barpolar": [
           {
            "marker": {
             "line": {
              "color": "rgb(17,17,17)",
              "width": 0.5
             },
             "pattern": {
              "fillmode": "overlay",
              "size": 10,
              "solidity": 0.2
             }
            },
            "type": "barpolar"
           }
          ],
          "carpet": [
           {
            "aaxis": {
             "endlinecolor": "#A2B1C6",
             "gridcolor": "#506784",
             "linecolor": "#506784",
             "minorgridcolor": "#506784",
             "startlinecolor": "#A2B1C6"
            },
            "baxis": {
             "endlinecolor": "#A2B1C6",
             "gridcolor": "#506784",
             "linecolor": "#506784",
             "minorgridcolor": "#506784",
             "startlinecolor": "#A2B1C6"
            },
            "type": "carpet"
           }
          ],
          "choropleth": [
           {
            "colorbar": {
             "outlinewidth": 0,
             "ticks": ""
            },
            "type": "choropleth"
           }
          ],
          "contour": [
           {
            "colorbar": {
             "outlinewidth": 0,
             "ticks": ""
            },
            "colorscale": [
             [
              0,
              "#0d0887"
             ],
             [
              0.1111111111111111,
              "#46039f"
             ],
             [
              0.2222222222222222,
              "#7201a8"
             ],
             [
              0.3333333333333333,
              "#9c179e"
             ],
             [
              0.4444444444444444,
              "#bd3786"
             ],
             [
              0.5555555555555556,
              "#d8576b"
             ],
             [
              0.6666666666666666,
              "#ed7953"
             ],
             [
              0.7777777777777778,
              "#fb9f3a"
             ],
             [
              0.8888888888888888,
              "#fdca26"
             ],
             [
              1,
              "#f0f921"
             ]
            ],
            "type": "contour"
           }
          ],
          "contourcarpet": [
           {
            "colorbar": {
             "outlinewidth": 0,
             "ticks": ""
            },
            "type": "contourcarpet"
           }
          ],
          "heatmap": [
           {
            "colorbar": {
             "outlinewidth": 0,
             "ticks": ""
            },
            "colorscale": [
             [
              0,
              "#0d0887"
             ],
             [
              0.1111111111111111,
              "#46039f"
             ],
             [
              0.2222222222222222,
              "#7201a8"
             ],
             [
              0.3333333333333333,
              "#9c179e"
             ],
             [
              0.4444444444444444,
              "#bd3786"
             ],
             [
              0.5555555555555556,
              "#d8576b"
             ],
             [
              0.6666666666666666,
              "#ed7953"
             ],
             [
              0.7777777777777778,
              "#fb9f3a"
             ],
             [
              0.8888888888888888,
              "#fdca26"
             ],
             [
              1,
              "#f0f921"
             ]
            ],
            "type": "heatmap"
           }
          ],
          "heatmapgl": [
           {
            "colorbar": {
             "outlinewidth": 0,
             "ticks": ""
            },
            "colorscale": [
             [
              0,
              "#0d0887"
             ],
             [
              0.1111111111111111,
              "#46039f"
             ],
             [
              0.2222222222222222,
              "#7201a8"
             ],
             [
              0.3333333333333333,
              "#9c179e"
             ],
             [
              0.4444444444444444,
              "#bd3786"
             ],
             [
              0.5555555555555556,
              "#d8576b"
             ],
             [
              0.6666666666666666,
              "#ed7953"
             ],
             [
              0.7777777777777778,
              "#fb9f3a"
             ],
             [
              0.8888888888888888,
              "#fdca26"
             ],
             [
              1,
              "#f0f921"
             ]
            ],
            "type": "heatmapgl"
           }
          ],
          "histogram": [
           {
            "marker": {
             "pattern": {
              "fillmode": "overlay",
              "size": 10,
              "solidity": 0.2
             }
            },
            "type": "histogram"
           }
          ],
          "histogram2d": [
           {
            "colorbar": {
             "outlinewidth": 0,
             "ticks": ""
            },
            "colorscale": [
             [
              0,
              "#0d0887"
             ],
             [
              0.1111111111111111,
              "#46039f"
             ],
             [
              0.2222222222222222,
              "#7201a8"
             ],
             [
              0.3333333333333333,
              "#9c179e"
             ],
             [
              0.4444444444444444,
              "#bd3786"
             ],
             [
              0.5555555555555556,
              "#d8576b"
             ],
             [
              0.6666666666666666,
              "#ed7953"
             ],
             [
              0.7777777777777778,
              "#fb9f3a"
             ],
             [
              0.8888888888888888,
              "#fdca26"
             ],
             [
              1,
              "#f0f921"
             ]
            ],
            "type": "histogram2d"
           }
          ],
          "histogram2dcontour": [
           {
            "colorbar": {
             "outlinewidth": 0,
             "ticks": ""
            },
            "colorscale": [
             [
              0,
              "#0d0887"
             ],
             [
              0.1111111111111111,
              "#46039f"
             ],
             [
              0.2222222222222222,
              "#7201a8"
             ],
             [
              0.3333333333333333,
              "#9c179e"
             ],
             [
              0.4444444444444444,
              "#bd3786"
             ],
             [
              0.5555555555555556,
              "#d8576b"
             ],
             [
              0.6666666666666666,
              "#ed7953"
             ],
             [
              0.7777777777777778,
              "#fb9f3a"
             ],
             [
              0.8888888888888888,
              "#fdca26"
             ],
             [
              1,
              "#f0f921"
             ]
            ],
            "type": "histogram2dcontour"
           }
          ],
          "mesh3d": [
           {
            "colorbar": {
             "outlinewidth": 0,
             "ticks": ""
            },
            "type": "mesh3d"
           }
          ],
          "parcoords": [
           {
            "line": {
             "colorbar": {
              "outlinewidth": 0,
              "ticks": ""
             }
            },
            "type": "parcoords"
           }
          ],
          "pie": [
           {
            "automargin": true,
            "type": "pie"
           }
          ],
          "scatter": [
           {
            "marker": {
             "line": {
              "color": "#283442"
             }
            },
            "type": "scatter"
           }
          ],
          "scatter3d": [
           {
            "line": {
             "colorbar": {
              "outlinewidth": 0,
              "ticks": ""
             }
            },
            "marker": {
             "colorbar": {
              "outlinewidth": 0,
              "ticks": ""
             }
            },
            "type": "scatter3d"
           }
          ],
          "scattercarpet": [
           {
            "marker": {
             "colorbar": {
              "outlinewidth": 0,
              "ticks": ""
             }
            },
            "type": "scattercarpet"
           }
          ],
          "scattergeo": [
           {
            "marker": {
             "colorbar": {
              "outlinewidth": 0,
              "ticks": ""
             }
            },
            "type": "scattergeo"
           }
          ],
          "scattergl": [
           {
            "marker": {
             "line": {
              "color": "#283442"
             }
            },
            "type": "scattergl"
           }
          ],
          "scattermapbox": [
           {
            "marker": {
             "colorbar": {
              "outlinewidth": 0,
              "ticks": ""
             }
            },
            "type": "scattermapbox"
           }
          ],
          "scatterpolar": [
           {
            "marker": {
             "colorbar": {
              "outlinewidth": 0,
              "ticks": ""
             }
            },
            "type": "scatterpolar"
           }
          ],
          "scatterpolargl": [
           {
            "marker": {
             "colorbar": {
              "outlinewidth": 0,
              "ticks": ""
             }
            },
            "type": "scatterpolargl"
           }
          ],
          "scatterternary": [
           {
            "marker": {
             "colorbar": {
              "outlinewidth": 0,
              "ticks": ""
             }
            },
            "type": "scatterternary"
           }
          ],
          "surface": [
           {
            "colorbar": {
             "outlinewidth": 0,
             "ticks": ""
            },
            "colorscale": [
             [
              0,
              "#0d0887"
             ],
             [
              0.1111111111111111,
              "#46039f"
             ],
             [
              0.2222222222222222,
              "#7201a8"
             ],
             [
              0.3333333333333333,
              "#9c179e"
             ],
             [
              0.4444444444444444,
              "#bd3786"
             ],
             [
              0.5555555555555556,
              "#d8576b"
             ],
             [
              0.6666666666666666,
              "#ed7953"
             ],
             [
              0.7777777777777778,
              "#fb9f3a"
             ],
             [
              0.8888888888888888,
              "#fdca26"
             ],
             [
              1,
              "#f0f921"
             ]
            ],
            "type": "surface"
           }
          ],
          "table": [
           {
            "cells": {
             "fill": {
              "color": "#506784"
             },
             "line": {
              "color": "rgb(17,17,17)"
             }
            },
            "header": {
             "fill": {
              "color": "#2a3f5f"
             },
             "line": {
              "color": "rgb(17,17,17)"
             }
            },
            "type": "table"
           }
          ]
         },
         "layout": {
          "annotationdefaults": {
           "arrowcolor": "#f2f5fa",
           "arrowhead": 0,
           "arrowwidth": 1
          },
          "autotypenumbers": "strict",
          "coloraxis": {
           "colorbar": {
            "outlinewidth": 0,
            "ticks": ""
           }
          },
          "colorscale": {
           "diverging": [
            [
             0,
             "#8e0152"
            ],
            [
             0.1,
             "#c51b7d"
            ],
            [
             0.2,
             "#de77ae"
            ],
            [
             0.3,
             "#f1b6da"
            ],
            [
             0.4,
             "#fde0ef"
            ],
            [
             0.5,
             "#f7f7f7"
            ],
            [
             0.6,
             "#e6f5d0"
            ],
            [
             0.7,
             "#b8e186"
            ],
            [
             0.8,
             "#7fbc41"
            ],
            [
             0.9,
             "#4d9221"
            ],
            [
             1,
             "#276419"
            ]
           ],
           "sequential": [
            [
             0,
             "#0d0887"
            ],
            [
             0.1111111111111111,
             "#46039f"
            ],
            [
             0.2222222222222222,
             "#7201a8"
            ],
            [
             0.3333333333333333,
             "#9c179e"
            ],
            [
             0.4444444444444444,
             "#bd3786"
            ],
            [
             0.5555555555555556,
             "#d8576b"
            ],
            [
             0.6666666666666666,
             "#ed7953"
            ],
            [
             0.7777777777777778,
             "#fb9f3a"
            ],
            [
             0.8888888888888888,
             "#fdca26"
            ],
            [
             1,
             "#f0f921"
            ]
           ],
           "sequentialminus": [
            [
             0,
             "#0d0887"
            ],
            [
             0.1111111111111111,
             "#46039f"
            ],
            [
             0.2222222222222222,
             "#7201a8"
            ],
            [
             0.3333333333333333,
             "#9c179e"
            ],
            [
             0.4444444444444444,
             "#bd3786"
            ],
            [
             0.5555555555555556,
             "#d8576b"
            ],
            [
             0.6666666666666666,
             "#ed7953"
            ],
            [
             0.7777777777777778,
             "#fb9f3a"
            ],
            [
             0.8888888888888888,
             "#fdca26"
            ],
            [
             1,
             "#f0f921"
            ]
           ]
          },
          "colorway": [
           "#636efa",
           "#EF553B",
           "#00cc96",
           "#ab63fa",
           "#FFA15A",
           "#19d3f3",
           "#FF6692",
           "#B6E880",
           "#FF97FF",
           "#FECB52"
          ],
          "font": {
           "color": "#f2f5fa"
          },
          "geo": {
           "bgcolor": "rgb(17,17,17)",
           "lakecolor": "rgb(17,17,17)",
           "landcolor": "rgb(17,17,17)",
           "showlakes": true,
           "showland": true,
           "subunitcolor": "#506784"
          },
          "hoverlabel": {
           "align": "left"
          },
          "hovermode": "closest",
          "mapbox": {
           "style": "dark"
          },
          "paper_bgcolor": "rgb(17,17,17)",
          "plot_bgcolor": "rgb(17,17,17)",
          "polar": {
           "angularaxis": {
            "gridcolor": "#506784",
            "linecolor": "#506784",
            "ticks": ""
           },
           "bgcolor": "rgb(17,17,17)",
           "radialaxis": {
            "gridcolor": "#506784",
            "linecolor": "#506784",
            "ticks": ""
           }
          },
          "scene": {
           "xaxis": {
            "backgroundcolor": "rgb(17,17,17)",
            "gridcolor": "#506784",
            "gridwidth": 2,
            "linecolor": "#506784",
            "showbackground": true,
            "ticks": "",
            "zerolinecolor": "#C8D4E3"
           },
           "yaxis": {
            "backgroundcolor": "rgb(17,17,17)",
            "gridcolor": "#506784",
            "gridwidth": 2,
            "linecolor": "#506784",
            "showbackground": true,
            "ticks": "",
            "zerolinecolor": "#C8D4E3"
           },
           "zaxis": {
            "backgroundcolor": "rgb(17,17,17)",
            "gridcolor": "#506784",
            "gridwidth": 2,
            "linecolor": "#506784",
            "showbackground": true,
            "ticks": "",
            "zerolinecolor": "#C8D4E3"
           }
          },
          "shapedefaults": {
           "line": {
            "color": "#f2f5fa"
           }
          },
          "sliderdefaults": {
           "bgcolor": "#C8D4E3",
           "bordercolor": "rgb(17,17,17)",
           "borderwidth": 1,
           "tickwidth": 0
          },
          "ternary": {
           "aaxis": {
            "gridcolor": "#506784",
            "linecolor": "#506784",
            "ticks": ""
           },
           "baxis": {
            "gridcolor": "#506784",
            "linecolor": "#506784",
            "ticks": ""
           },
           "bgcolor": "rgb(17,17,17)",
           "caxis": {
            "gridcolor": "#506784",
            "linecolor": "#506784",
            "ticks": ""
           }
          },
          "title": {
           "x": 0.05
          },
          "updatemenudefaults": {
           "bgcolor": "#506784",
           "borderwidth": 0
          },
          "xaxis": {
           "automargin": true,
           "gridcolor": "#283442",
           "linecolor": "#506784",
           "ticks": "",
           "title": {
            "standoff": 15
           },
           "zerolinecolor": "#283442",
           "zerolinewidth": 2
          },
          "yaxis": {
           "automargin": true,
           "gridcolor": "#283442",
           "linecolor": "#506784",
           "ticks": "",
           "title": {
            "standoff": 15
           },
           "zerolinecolor": "#283442",
           "zerolinewidth": 2
          }
         }
        },
        "width": 1400,
        "xaxis": {
         "anchor": "y",
         "domain": [
          0,
          1
         ],
         "title": {
          "text": "hour"
         }
        },
        "yaxis": {
         "anchor": "x",
         "domain": [
          0,
          1
         ],
         "title": {
          "text": "total # of customers"
         }
        }
       }
      }
     },
     "metadata": {},
     "output_type": "display_data"
    }
   ],
   "source": [
    "fig=px.line(\n",
    "    plotdf,\n",
    "    x='hour',\n",
    "    y='customer_no',\n",
    "    color='location',\n",
    "    animation_frame='day_name',\n",
    "    markers=True,\n",
    "    labels={\n",
    "        \"customer_no\": \"total # of customers\",\n",
    "        \"day_name\": \"weekday\"\n",
    "    },\n",
    "    template='plotly_dark'\n",
    "    )\n",
    "\n",
    "fig.update_layout(autosize=False, width=1400, height=700)\n",
    "\n",
    "fig.show()\n",
    "\n",
    "if not os.path.exists(\"../plots\"):\n",
    "    os.mkdir(\"../plots\")\n",
    "\n",
    "if not os.path.exists(\"../plots/customers.html\"):\n",
    "    fig.write_html(\"../plots/customers.html\")"
   ]
  },
  {
   "cell_type": "code",
   "execution_count": 83,
   "metadata": {},
   "outputs": [],
   "source": [
    "df = df.drop(columns=([\"day\", \"day_name\", \"hour\", \"min\"])).reset_index()\n"
   ]
  },
  {
   "cell_type": "code",
   "execution_count": 84,
   "metadata": {},
   "outputs": [],
   "source": [
    "plotser = (df.groupby(\"customer_no\").max()[\"index\"] - df.groupby(\"customer_no\").min()[\"index\"]).apply(lambda x: x.seconds//60)\n",
    "plotser = plotser[plotser > 0]\n"
   ]
  },
  {
   "cell_type": "code",
   "execution_count": 85,
   "metadata": {},
   "outputs": [
    {
     "data": {
      "application/vnd.plotly.v1+json": {
       "config": {
        "plotlyServerURL": "https://plot.ly"
       },
       "data": [
        {
         "alignmentgroup": "True",
         "bingroup": "x",
         "hovertemplate": "variable=index<br>minutes spent in market=%{x}<br>count=%{y}<extra></extra>",
         "legendgroup": "index",
         "marker": {
          "color": "#636efa",
          "pattern": {
           "shape": ""
          }
         },
         "name": "index",
         "offsetgroup": "index",
         "orientation": "v",
         "showlegend": true,
         "type": "histogram",
         "x": [
          7,
          1,
          1,
          1,
          2,
          3,
          14,
          3,
          6,
          1,
          3,
          4,
          7,
          1,
          2,
          1,
          1,
          3,
          14,
          2,
          11,
          2,
          6,
          7,
          2,
          5,
          3,
          1,
          5,
          6,
          3,
          2,
          3,
          4,
          10,
          17,
          17,
          9,
          1,
          1,
          2,
          6,
          8,
          9,
          4,
          2,
          3,
          2,
          166,
          7,
          3,
          2,
          2,
          4,
          1,
          7,
          2,
          7,
          1,
          5,
          1,
          4,
          12,
          19,
          1,
          4,
          2,
          3,
          9,
          3,
          2,
          1,
          7,
          1,
          1,
          2,
          4,
          1,
          1,
          3,
          2,
          2,
          1,
          16,
          6,
          6,
          7,
          1,
          5,
          2,
          3,
          1,
          7,
          8,
          1,
          4,
          5,
          2,
          2,
          9,
          2,
          3,
          1,
          4,
          1,
          4,
          1,
          5,
          1,
          1,
          5,
          1,
          1,
          11,
          2,
          2,
          1,
          2,
          5,
          3,
          2,
          1,
          2,
          2,
          2,
          2,
          5,
          5,
          7,
          7,
          1,
          2,
          1,
          1,
          4,
          5,
          2,
          316,
          17,
          2,
          4,
          9,
          2,
          3,
          1,
          3,
          325,
          2,
          2,
          4,
          5,
          3,
          7,
          2,
          1,
          8,
          2,
          1,
          1,
          6,
          3,
          5,
          6,
          4,
          3,
          13,
          2,
          1,
          2,
          1,
          3,
          3,
          6,
          1,
          1,
          6,
          7,
          6,
          5,
          1,
          5,
          12,
          7,
          13,
          1,
          12,
          1,
          18,
          2,
          6,
          2,
          2,
          10,
          5,
          3,
          13,
          5,
          3,
          16,
          15,
          1,
          1,
          8,
          1,
          2,
          4,
          3,
          1,
          1,
          2,
          1,
          3,
          10,
          6,
          1,
          1,
          5,
          4,
          8,
          5,
          2,
          8,
          7,
          1,
          1,
          1,
          21,
          2,
          2,
          1,
          2,
          1,
          7,
          1,
          4,
          9,
          2,
          8,
          6,
          6,
          4,
          1,
          3,
          7,
          4,
          2,
          6,
          9,
          12,
          4,
          6,
          1,
          4,
          5,
          1,
          2,
          1,
          1,
          3,
          1,
          1,
          7,
          9,
          5,
          1,
          4,
          5,
          3,
          2,
          2,
          2,
          271,
          1,
          3,
          4,
          1,
          2,
          12,
          10,
          2,
          5,
          8,
          4,
          7,
          2,
          6,
          5,
          4,
          9,
          5,
          2,
          15,
          3,
          4,
          4,
          4,
          1,
          18,
          8,
          1,
          1,
          4,
          14,
          3,
          2,
          1,
          3,
          2,
          2,
          11,
          12,
          1,
          6,
          2,
          3,
          1,
          11,
          3,
          3,
          5,
          3,
          125,
          1,
          7,
          18,
          1,
          3,
          7,
          1,
          2,
          2,
          5,
          1,
          2,
          1,
          11,
          2,
          1,
          5,
          1,
          1,
          4,
          6,
          2,
          1,
          4,
          1,
          9,
          1,
          1,
          3,
          12,
          10,
          1,
          8,
          4,
          4,
          3,
          5,
          7,
          9,
          5,
          1,
          4,
          3,
          1,
          8,
          1,
          3,
          4,
          2,
          2,
          10,
          4,
          7,
          6,
          2,
          3,
          1,
          4,
          8,
          4,
          1,
          3,
          18,
          3,
          353,
          2,
          2,
          11,
          2,
          1,
          6,
          1,
          1,
          2,
          6,
          5,
          1,
          1,
          82,
          6,
          3,
          4,
          1,
          2,
          4,
          1,
          1,
          2,
          124,
          3,
          26,
          6,
          8,
          8,
          3,
          4,
          14,
          1,
          4,
          17,
          2,
          1,
          9,
          2,
          4,
          2,
          27,
          4,
          9,
          2,
          6,
          4,
          3,
          3,
          4,
          1,
          7,
          6,
          14,
          1,
          3,
          10,
          4,
          2,
          3,
          6,
          10,
          1,
          7,
          2,
          2,
          5,
          12,
          6,
          3,
          1,
          1,
          4,
          1,
          1,
          7,
          4,
          9,
          4,
          3,
          1,
          2,
          4,
          15,
          1,
          3,
          1,
          1,
          4,
          2,
          1,
          4,
          5,
          1,
          2,
          4,
          13,
          2,
          2,
          5,
          9,
          18,
          1,
          2,
          6,
          3,
          4,
          14,
          1,
          4,
          1,
          1,
          2,
          1,
          4,
          6,
          4,
          2,
          1,
          1,
          6,
          2,
          3,
          1,
          6,
          1,
          2,
          2,
          1,
          5,
          3,
          8,
          3,
          9,
          8,
          4,
          3,
          1,
          2,
          17,
          1,
          4,
          3,
          2,
          4,
          7,
          1,
          11,
          10,
          2,
          1,
          6,
          6,
          6,
          2,
          1,
          15,
          17,
          5,
          1,
          1,
          13,
          1,
          8,
          5,
          16,
          3,
          8,
          4,
          9,
          2,
          4,
          6,
          2,
          3,
          10,
          6,
          1,
          4,
          4,
          7,
          9,
          12,
          2,
          11,
          2,
          4,
          11,
          2,
          5,
          4,
          1,
          5,
          1,
          2,
          1,
          19,
          8,
          1,
          3,
          4,
          8,
          2,
          2,
          8,
          2,
          10,
          4,
          25,
          1,
          3,
          1,
          8,
          7,
          1,
          6,
          2,
          4,
          5,
          3,
          1,
          4,
          573,
          3,
          1,
          2,
          6,
          1,
          2,
          3,
          5,
          5,
          1,
          14,
          2,
          15,
          10,
          1,
          4,
          1,
          10,
          6,
          1,
          668,
          23,
          1,
          1,
          4,
          8,
          5,
          3,
          5,
          5,
          8,
          2,
          2,
          2,
          4,
          1,
          17,
          5,
          6,
          13,
          2,
          3,
          1,
          10,
          1,
          10,
          7,
          2,
          5,
          5,
          1,
          1,
          1,
          1,
          4,
          5,
          6,
          2,
          13,
          2,
          7,
          4,
          7,
          1,
          2,
          2,
          3,
          6,
          6,
          2,
          4,
          12,
          2,
          3,
          4,
          13,
          1,
          1,
          11,
          1,
          4,
          2,
          5,
          5,
          5,
          2,
          2,
          4,
          7,
          4,
          4,
          287,
          5,
          3,
          4,
          1,
          6,
          1,
          1,
          1,
          21,
          1,
          2,
          4,
          3,
          5,
          7,
          1,
          6,
          2,
          8,
          19,
          4,
          2,
          2,
          5,
          4,
          11,
          5,
          3,
          7,
          2,
          1,
          4,
          1,
          3,
          3,
          2,
          3,
          1,
          2,
          1,
          1,
          1,
          84,
          8,
          1,
          6,
          3,
          16,
          1,
          7,
          9,
          6,
          4,
          2,
          8,
          9,
          2,
          3,
          9,
          2,
          3,
          6,
          5,
          478,
          15,
          1,
          7,
          2,
          12,
          1,
          93,
          1,
          2,
          5,
          1,
          5,
          1,
          8,
          5,
          9,
          3,
          2,
          5,
          1,
          6,
          1,
          2,
          3,
          4,
          10,
          8,
          3,
          5,
          4,
          2,
          4,
          2,
          1,
          11,
          3,
          1,
          5,
          7,
          1,
          3,
          6,
          8,
          1,
          2,
          1,
          4,
          3,
          7,
          3,
          3,
          3,
          6,
          36,
          8,
          7,
          1,
          2,
          2,
          3,
          12,
          5,
          7,
          9,
          1,
          2,
          2,
          5,
          2,
          8,
          5,
          1,
          2,
          5,
          14,
          3,
          1,
          4,
          9,
          5,
          8,
          14,
          3,
          5,
          5,
          2,
          14,
          5,
          4,
          3,
          13,
          4,
          3,
          1,
          4,
          1,
          2,
          1,
          1,
          1,
          1,
          3,
          1,
          6,
          3,
          4,
          3,
          19,
          2,
          2,
          1,
          9,
          1,
          3,
          8,
          2,
          6,
          2,
          2,
          2,
          1,
          1,
          7,
          6,
          8,
          1,
          6,
          2,
          2,
          11,
          5,
          2,
          6,
          1,
          5,
          9,
          1,
          9,
          3,
          5,
          1,
          14,
          1,
          8,
          1,
          2,
          2,
          9,
          22,
          3,
          6,
          15,
          5,
          1,
          2,
          2,
          5,
          1,
          2,
          5,
          3,
          1,
          2,
          4,
          2,
          2,
          2,
          5,
          2,
          6,
          2,
          9,
          3,
          2,
          3,
          26,
          2,
          9,
          1,
          1,
          1,
          6,
          5,
          13,
          1,
          3,
          1,
          1,
          10,
          1,
          3,
          6,
          2,
          3,
          6,
          10,
          5,
          11,
          1,
          3,
          3,
          1,
          4,
          6,
          6,
          1,
          1,
          1,
          10,
          1,
          2,
          8,
          3,
          1,
          4,
          1,
          5,
          4,
          1,
          1,
          3,
          6,
          1,
          5,
          2,
          1,
          6,
          2,
          1,
          3,
          4,
          1,
          1,
          1,
          1,
          14,
          1,
          1,
          340,
          3,
          1,
          1,
          2,
          10,
          11,
          2,
          1,
          3,
          10,
          11,
          3,
          4,
          5,
          10,
          3,
          7,
          3,
          4,
          3,
          4,
          326,
          8,
          4,
          4,
          6,
          12,
          1,
          5,
          3,
          10,
          3,
          2,
          14,
          7,
          2,
          3,
          9,
          10,
          1,
          7,
          8,
          1,
          39,
          2,
          4,
          6,
          1,
          3,
          12,
          1,
          4,
          2,
          3,
          11,
          5,
          2,
          10,
          4,
          5,
          2,
          1,
          10,
          1,
          113,
          3,
          5,
          2,
          7,
          5,
          411,
          1,
          1,
          1,
          7,
          1,
          9,
          7,
          2,
          2,
          2,
          1,
          24,
          518,
          4,
          1,
          2,
          1,
          1,
          3,
          7,
          12,
          3,
          4,
          3,
          3,
          2,
          1,
          1,
          5,
          3,
          2,
          3,
          3,
          4,
          14,
          2,
          2,
          1,
          1,
          10,
          15,
          15,
          8,
          1,
          1,
          8,
          1,
          5,
          1,
          3,
          11,
          6,
          17,
          3,
          5,
          10,
          5,
          2,
          2,
          4,
          11,
          12,
          5,
          1,
          4,
          1,
          22,
          11,
          1,
          4,
          1,
          3,
          1,
          5,
          4,
          9,
          2,
          7,
          8,
          2,
          3,
          4,
          6,
          1,
          13,
          17,
          3,
          1,
          13,
          11,
          3,
          1,
          1,
          2,
          1,
          1,
          3,
          14,
          25,
          17,
          6,
          3,
          5,
          1,
          6,
          2,
          2,
          1,
          7,
          19,
          24,
          1,
          3,
          5,
          116,
          1,
          1,
          3,
          4,
          3,
          5,
          4,
          1,
          2,
          1,
          9,
          1,
          3,
          7,
          4,
          3,
          1,
          9,
          11,
          2,
          2,
          7,
          2,
          1,
          7,
          2,
          2,
          12,
          11,
          3,
          1,
          1,
          13,
          3,
          1,
          4,
          1,
          561,
          3,
          3,
          3,
          4,
          2,
          2,
          6,
          1,
          6,
          15,
          3,
          1,
          6,
          3,
          6,
          5,
          4,
          5,
          4,
          8,
          8,
          7,
          7,
          3,
          3,
          2,
          10,
          8,
          1,
          1,
          7,
          2,
          12,
          2,
          2,
          1,
          11,
          2,
          5,
          21,
          3,
          11,
          1,
          7,
          3,
          4,
          9,
          4,
          3,
          4,
          6,
          13,
          8,
          3,
          14,
          2,
          1,
          4,
          6,
          15,
          8,
          4,
          3,
          7,
          9,
          1,
          3,
          1,
          2,
          1,
          1,
          2,
          1,
          3,
          7,
          3,
          1,
          2,
          3,
          1,
          3,
          5,
          6,
          1,
          2,
          2,
          2,
          2,
          1,
          6,
          2,
          4,
          1,
          4,
          3,
          613,
          1,
          1,
          2,
          8,
          8,
          2,
          3,
          2,
          7,
          4,
          1,
          1,
          4,
          3,
          3,
          7,
          2,
          3,
          1,
          2,
          3,
          6,
          7,
          2,
          6,
          1,
          1,
          1,
          2,
          3,
          11,
          2,
          2,
          3,
          5,
          3,
          1,
          8,
          7,
          2,
          1,
          5,
          1,
          4,
          1,
          2,
          8,
          2,
          3,
          3,
          2,
          2,
          3,
          2,
          5,
          1,
          3,
          3,
          6,
          3,
          12,
          9,
          7,
          12,
          1,
          6,
          3,
          2,
          2,
          9,
          2,
          4,
          1,
          2,
          4,
          8,
          1,
          1,
          14,
          5,
          4,
          7,
          13,
          2,
          2,
          5,
          5,
          5,
          15,
          3,
          5,
          5,
          2,
          1,
          1,
          21,
          6,
          2,
          2,
          6,
          2,
          3,
          2,
          2,
          1,
          1,
          7,
          3,
          7,
          6,
          8,
          3,
          4,
          4,
          1,
          1,
          1,
          2,
          1,
          3,
          1,
          6,
          6,
          7,
          7,
          1,
          7,
          3,
          4,
          3,
          2,
          1,
          1,
          2,
          8,
          2,
          3,
          17,
          3,
          3,
          10,
          5,
          3,
          5,
          5,
          2,
          8,
          7,
          1,
          2,
          2,
          5,
          3,
          4,
          5,
          12,
          9,
          7,
          1,
          11,
          4,
          10,
          1,
          2,
          6,
          2,
          1,
          3,
          2,
          1,
          6,
          2,
          1,
          3,
          4,
          4,
          1,
          1,
          5,
          5,
          2,
          4,
          1,
          7,
          1,
          15,
          1,
          3,
          6,
          4,
          1,
          18,
          1,
          2,
          1,
          5,
          4,
          8,
          6,
          1,
          4,
          4,
          1,
          11,
          1,
          1,
          13,
          22,
          8,
          3,
          1,
          9,
          1,
          3,
          3,
          3,
          10,
          6,
          1,
          1,
          1,
          2,
          1,
          3,
          17,
          7,
          1,
          4,
          6,
          4,
          9,
          2
         ],
         "xaxis": "x",
         "yaxis": "y"
        }
       ],
       "layout": {
        "autosize": false,
        "barmode": "relative",
        "height": 700,
        "legend": {
         "title": {
          "text": "variable"
         },
         "tracegroupgap": 0
        },
        "margin": {
         "t": 60
        },
        "showlegend": false,
        "template": {
         "data": {
          "bar": [
           {
            "error_x": {
             "color": "#f2f5fa"
            },
            "error_y": {
             "color": "#f2f5fa"
            },
            "marker": {
             "line": {
              "color": "rgb(17,17,17)",
              "width": 0.5
             },
             "pattern": {
              "fillmode": "overlay",
              "size": 10,
              "solidity": 0.2
             }
            },
            "type": "bar"
           }
          ],
          "barpolar": [
           {
            "marker": {
             "line": {
              "color": "rgb(17,17,17)",
              "width": 0.5
             },
             "pattern": {
              "fillmode": "overlay",
              "size": 10,
              "solidity": 0.2
             }
            },
            "type": "barpolar"
           }
          ],
          "carpet": [
           {
            "aaxis": {
             "endlinecolor": "#A2B1C6",
             "gridcolor": "#506784",
             "linecolor": "#506784",
             "minorgridcolor": "#506784",
             "startlinecolor": "#A2B1C6"
            },
            "baxis": {
             "endlinecolor": "#A2B1C6",
             "gridcolor": "#506784",
             "linecolor": "#506784",
             "minorgridcolor": "#506784",
             "startlinecolor": "#A2B1C6"
            },
            "type": "carpet"
           }
          ],
          "choropleth": [
           {
            "colorbar": {
             "outlinewidth": 0,
             "ticks": ""
            },
            "type": "choropleth"
           }
          ],
          "contour": [
           {
            "colorbar": {
             "outlinewidth": 0,
             "ticks": ""
            },
            "colorscale": [
             [
              0,
              "#0d0887"
             ],
             [
              0.1111111111111111,
              "#46039f"
             ],
             [
              0.2222222222222222,
              "#7201a8"
             ],
             [
              0.3333333333333333,
              "#9c179e"
             ],
             [
              0.4444444444444444,
              "#bd3786"
             ],
             [
              0.5555555555555556,
              "#d8576b"
             ],
             [
              0.6666666666666666,
              "#ed7953"
             ],
             [
              0.7777777777777778,
              "#fb9f3a"
             ],
             [
              0.8888888888888888,
              "#fdca26"
             ],
             [
              1,
              "#f0f921"
             ]
            ],
            "type": "contour"
           }
          ],
          "contourcarpet": [
           {
            "colorbar": {
             "outlinewidth": 0,
             "ticks": ""
            },
            "type": "contourcarpet"
           }
          ],
          "heatmap": [
           {
            "colorbar": {
             "outlinewidth": 0,
             "ticks": ""
            },
            "colorscale": [
             [
              0,
              "#0d0887"
             ],
             [
              0.1111111111111111,
              "#46039f"
             ],
             [
              0.2222222222222222,
              "#7201a8"
             ],
             [
              0.3333333333333333,
              "#9c179e"
             ],
             [
              0.4444444444444444,
              "#bd3786"
             ],
             [
              0.5555555555555556,
              "#d8576b"
             ],
             [
              0.6666666666666666,
              "#ed7953"
             ],
             [
              0.7777777777777778,
              "#fb9f3a"
             ],
             [
              0.8888888888888888,
              "#fdca26"
             ],
             [
              1,
              "#f0f921"
             ]
            ],
            "type": "heatmap"
           }
          ],
          "heatmapgl": [
           {
            "colorbar": {
             "outlinewidth": 0,
             "ticks": ""
            },
            "colorscale": [
             [
              0,
              "#0d0887"
             ],
             [
              0.1111111111111111,
              "#46039f"
             ],
             [
              0.2222222222222222,
              "#7201a8"
             ],
             [
              0.3333333333333333,
              "#9c179e"
             ],
             [
              0.4444444444444444,
              "#bd3786"
             ],
             [
              0.5555555555555556,
              "#d8576b"
             ],
             [
              0.6666666666666666,
              "#ed7953"
             ],
             [
              0.7777777777777778,
              "#fb9f3a"
             ],
             [
              0.8888888888888888,
              "#fdca26"
             ],
             [
              1,
              "#f0f921"
             ]
            ],
            "type": "heatmapgl"
           }
          ],
          "histogram": [
           {
            "marker": {
             "pattern": {
              "fillmode": "overlay",
              "size": 10,
              "solidity": 0.2
             }
            },
            "type": "histogram"
           }
          ],
          "histogram2d": [
           {
            "colorbar": {
             "outlinewidth": 0,
             "ticks": ""
            },
            "colorscale": [
             [
              0,
              "#0d0887"
             ],
             [
              0.1111111111111111,
              "#46039f"
             ],
             [
              0.2222222222222222,
              "#7201a8"
             ],
             [
              0.3333333333333333,
              "#9c179e"
             ],
             [
              0.4444444444444444,
              "#bd3786"
             ],
             [
              0.5555555555555556,
              "#d8576b"
             ],
             [
              0.6666666666666666,
              "#ed7953"
             ],
             [
              0.7777777777777778,
              "#fb9f3a"
             ],
             [
              0.8888888888888888,
              "#fdca26"
             ],
             [
              1,
              "#f0f921"
             ]
            ],
            "type": "histogram2d"
           }
          ],
          "histogram2dcontour": [
           {
            "colorbar": {
             "outlinewidth": 0,
             "ticks": ""
            },
            "colorscale": [
             [
              0,
              "#0d0887"
             ],
             [
              0.1111111111111111,
              "#46039f"
             ],
             [
              0.2222222222222222,
              "#7201a8"
             ],
             [
              0.3333333333333333,
              "#9c179e"
             ],
             [
              0.4444444444444444,
              "#bd3786"
             ],
             [
              0.5555555555555556,
              "#d8576b"
             ],
             [
              0.6666666666666666,
              "#ed7953"
             ],
             [
              0.7777777777777778,
              "#fb9f3a"
             ],
             [
              0.8888888888888888,
              "#fdca26"
             ],
             [
              1,
              "#f0f921"
             ]
            ],
            "type": "histogram2dcontour"
           }
          ],
          "mesh3d": [
           {
            "colorbar": {
             "outlinewidth": 0,
             "ticks": ""
            },
            "type": "mesh3d"
           }
          ],
          "parcoords": [
           {
            "line": {
             "colorbar": {
              "outlinewidth": 0,
              "ticks": ""
             }
            },
            "type": "parcoords"
           }
          ],
          "pie": [
           {
            "automargin": true,
            "type": "pie"
           }
          ],
          "scatter": [
           {
            "marker": {
             "line": {
              "color": "#283442"
             }
            },
            "type": "scatter"
           }
          ],
          "scatter3d": [
           {
            "line": {
             "colorbar": {
              "outlinewidth": 0,
              "ticks": ""
             }
            },
            "marker": {
             "colorbar": {
              "outlinewidth": 0,
              "ticks": ""
             }
            },
            "type": "scatter3d"
           }
          ],
          "scattercarpet": [
           {
            "marker": {
             "colorbar": {
              "outlinewidth": 0,
              "ticks": ""
             }
            },
            "type": "scattercarpet"
           }
          ],
          "scattergeo": [
           {
            "marker": {
             "colorbar": {
              "outlinewidth": 0,
              "ticks": ""
             }
            },
            "type": "scattergeo"
           }
          ],
          "scattergl": [
           {
            "marker": {
             "line": {
              "color": "#283442"
             }
            },
            "type": "scattergl"
           }
          ],
          "scattermapbox": [
           {
            "marker": {
             "colorbar": {
              "outlinewidth": 0,
              "ticks": ""
             }
            },
            "type": "scattermapbox"
           }
          ],
          "scatterpolar": [
           {
            "marker": {
             "colorbar": {
              "outlinewidth": 0,
              "ticks": ""
             }
            },
            "type": "scatterpolar"
           }
          ],
          "scatterpolargl": [
           {
            "marker": {
             "colorbar": {
              "outlinewidth": 0,
              "ticks": ""
             }
            },
            "type": "scatterpolargl"
           }
          ],
          "scatterternary": [
           {
            "marker": {
             "colorbar": {
              "outlinewidth": 0,
              "ticks": ""
             }
            },
            "type": "scatterternary"
           }
          ],
          "surface": [
           {
            "colorbar": {
             "outlinewidth": 0,
             "ticks": ""
            },
            "colorscale": [
             [
              0,
              "#0d0887"
             ],
             [
              0.1111111111111111,
              "#46039f"
             ],
             [
              0.2222222222222222,
              "#7201a8"
             ],
             [
              0.3333333333333333,
              "#9c179e"
             ],
             [
              0.4444444444444444,
              "#bd3786"
             ],
             [
              0.5555555555555556,
              "#d8576b"
             ],
             [
              0.6666666666666666,
              "#ed7953"
             ],
             [
              0.7777777777777778,
              "#fb9f3a"
             ],
             [
              0.8888888888888888,
              "#fdca26"
             ],
             [
              1,
              "#f0f921"
             ]
            ],
            "type": "surface"
           }
          ],
          "table": [
           {
            "cells": {
             "fill": {
              "color": "#506784"
             },
             "line": {
              "color": "rgb(17,17,17)"
             }
            },
            "header": {
             "fill": {
              "color": "#2a3f5f"
             },
             "line": {
              "color": "rgb(17,17,17)"
             }
            },
            "type": "table"
           }
          ]
         },
         "layout": {
          "annotationdefaults": {
           "arrowcolor": "#f2f5fa",
           "arrowhead": 0,
           "arrowwidth": 1
          },
          "autotypenumbers": "strict",
          "coloraxis": {
           "colorbar": {
            "outlinewidth": 0,
            "ticks": ""
           }
          },
          "colorscale": {
           "diverging": [
            [
             0,
             "#8e0152"
            ],
            [
             0.1,
             "#c51b7d"
            ],
            [
             0.2,
             "#de77ae"
            ],
            [
             0.3,
             "#f1b6da"
            ],
            [
             0.4,
             "#fde0ef"
            ],
            [
             0.5,
             "#f7f7f7"
            ],
            [
             0.6,
             "#e6f5d0"
            ],
            [
             0.7,
             "#b8e186"
            ],
            [
             0.8,
             "#7fbc41"
            ],
            [
             0.9,
             "#4d9221"
            ],
            [
             1,
             "#276419"
            ]
           ],
           "sequential": [
            [
             0,
             "#0d0887"
            ],
            [
             0.1111111111111111,
             "#46039f"
            ],
            [
             0.2222222222222222,
             "#7201a8"
            ],
            [
             0.3333333333333333,
             "#9c179e"
            ],
            [
             0.4444444444444444,
             "#bd3786"
            ],
            [
             0.5555555555555556,
             "#d8576b"
            ],
            [
             0.6666666666666666,
             "#ed7953"
            ],
            [
             0.7777777777777778,
             "#fb9f3a"
            ],
            [
             0.8888888888888888,
             "#fdca26"
            ],
            [
             1,
             "#f0f921"
            ]
           ],
           "sequentialminus": [
            [
             0,
             "#0d0887"
            ],
            [
             0.1111111111111111,
             "#46039f"
            ],
            [
             0.2222222222222222,
             "#7201a8"
            ],
            [
             0.3333333333333333,
             "#9c179e"
            ],
            [
             0.4444444444444444,
             "#bd3786"
            ],
            [
             0.5555555555555556,
             "#d8576b"
            ],
            [
             0.6666666666666666,
             "#ed7953"
            ],
            [
             0.7777777777777778,
             "#fb9f3a"
            ],
            [
             0.8888888888888888,
             "#fdca26"
            ],
            [
             1,
             "#f0f921"
            ]
           ]
          },
          "colorway": [
           "#636efa",
           "#EF553B",
           "#00cc96",
           "#ab63fa",
           "#FFA15A",
           "#19d3f3",
           "#FF6692",
           "#B6E880",
           "#FF97FF",
           "#FECB52"
          ],
          "font": {
           "color": "#f2f5fa"
          },
          "geo": {
           "bgcolor": "rgb(17,17,17)",
           "lakecolor": "rgb(17,17,17)",
           "landcolor": "rgb(17,17,17)",
           "showlakes": true,
           "showland": true,
           "subunitcolor": "#506784"
          },
          "hoverlabel": {
           "align": "left"
          },
          "hovermode": "closest",
          "mapbox": {
           "style": "dark"
          },
          "paper_bgcolor": "rgb(17,17,17)",
          "plot_bgcolor": "rgb(17,17,17)",
          "polar": {
           "angularaxis": {
            "gridcolor": "#506784",
            "linecolor": "#506784",
            "ticks": ""
           },
           "bgcolor": "rgb(17,17,17)",
           "radialaxis": {
            "gridcolor": "#506784",
            "linecolor": "#506784",
            "ticks": ""
           }
          },
          "scene": {
           "xaxis": {
            "backgroundcolor": "rgb(17,17,17)",
            "gridcolor": "#506784",
            "gridwidth": 2,
            "linecolor": "#506784",
            "showbackground": true,
            "ticks": "",
            "zerolinecolor": "#C8D4E3"
           },
           "yaxis": {
            "backgroundcolor": "rgb(17,17,17)",
            "gridcolor": "#506784",
            "gridwidth": 2,
            "linecolor": "#506784",
            "showbackground": true,
            "ticks": "",
            "zerolinecolor": "#C8D4E3"
           },
           "zaxis": {
            "backgroundcolor": "rgb(17,17,17)",
            "gridcolor": "#506784",
            "gridwidth": 2,
            "linecolor": "#506784",
            "showbackground": true,
            "ticks": "",
            "zerolinecolor": "#C8D4E3"
           }
          },
          "shapedefaults": {
           "line": {
            "color": "#f2f5fa"
           }
          },
          "sliderdefaults": {
           "bgcolor": "#C8D4E3",
           "bordercolor": "rgb(17,17,17)",
           "borderwidth": 1,
           "tickwidth": 0
          },
          "ternary": {
           "aaxis": {
            "gridcolor": "#506784",
            "linecolor": "#506784",
            "ticks": ""
           },
           "baxis": {
            "gridcolor": "#506784",
            "linecolor": "#506784",
            "ticks": ""
           },
           "bgcolor": "rgb(17,17,17)",
           "caxis": {
            "gridcolor": "#506784",
            "linecolor": "#506784",
            "ticks": ""
           }
          },
          "title": {
           "x": 0.05
          },
          "updatemenudefaults": {
           "bgcolor": "#506784",
           "borderwidth": 0
          },
          "xaxis": {
           "automargin": true,
           "gridcolor": "#283442",
           "linecolor": "#506784",
           "ticks": "",
           "title": {
            "standoff": 15
           },
           "zerolinecolor": "#283442",
           "zerolinewidth": 2
          },
          "yaxis": {
           "automargin": true,
           "gridcolor": "#283442",
           "linecolor": "#506784",
           "ticks": "",
           "title": {
            "standoff": 15
           },
           "zerolinecolor": "#283442",
           "zerolinewidth": 2
          }
         }
        },
        "width": 1400,
        "xaxis": {
         "anchor": "y",
         "domain": [
          0,
          1
         ],
         "title": {
          "text": "minutes spent in market"
         }
        },
        "yaxis": {
         "anchor": "x",
         "domain": [
          0,
          1
         ],
         "title": {
          "text": "# of customers"
         }
        }
       }
      }
     },
     "metadata": {},
     "output_type": "display_data"
    }
   ],
   "source": [
    "fig = px.histogram(\n",
    "    plotser,\n",
    "    labels={\n",
    "        \"value\": \"minutes spent in market\",\n",
    "    },\n",
    "    template='plotly_dark'\n",
    "    )\n",
    "\n",
    "fig.update_layout(showlegend=False, autosize=False, width=1400, height=700, yaxis_title=\"# of customers\")\n",
    "\n",
    "fig.show()\n",
    "\n",
    "if not os.path.exists(\"../plots\"):\n",
    "    os.mkdir(\"../plots\")\n",
    "\n",
    "if not os.path.exists(\"../plots/time_spent.svg\"):\n",
    "    fig.write_image(\"../plots/time_spent.svg\")\n"
   ]
  },
  {
   "cell_type": "code",
   "execution_count": 86,
   "metadata": {},
   "outputs": [
    {
     "data": {
      "text/plain": [
       "8.9781631342325"
      ]
     },
     "execution_count": 86,
     "metadata": {},
     "output_type": "execute_result"
    }
   ],
   "source": [
    "plotser.mean()"
   ]
  },
  {
   "cell_type": "code",
   "execution_count": 89,
   "metadata": {},
   "outputs": [
    {
     "data": {
      "text/plain": [
       "(1.6589743589743589, 0.07625960310365552)"
      ]
     },
     "execution_count": 89,
     "metadata": {},
     "output_type": "execute_result"
    }
   ],
   "source": [
    "mu = plotdf[(plotdf[\"location\"]==\"checkout\") & (plotdf[\"hour\"] != 8) & (plotdf[\"hour\"] != 19)][\"customer_no\"].mean()/60\n",
    "sigma = plotdf[(plotdf[\"location\"]==\"checkout\") & (plotdf[\"hour\"] != 8) & (plotdf[\"hour\"] != 19)][\"customer_no\"].std()/60\n",
    "mu, sigma"
   ]
  },
  {
   "cell_type": "code",
   "execution_count": 90,
   "metadata": {},
   "outputs": [
    {
     "data": {
      "text/plain": [
       "(2.35, 0.0)"
      ]
     },
     "execution_count": 90,
     "metadata": {},
     "output_type": "execute_result"
    }
   ],
   "source": [
    "mu_peak = plotdf[(plotdf[\"location\"]==\"checkout\") & ((plotdf[\"hour\"] == 8) | (plotdf[\"hour\"] == 19))][\"customer_no\"].mean()/60\n",
    "sigma_peak = plotdf[(plotdf[\"location\"]==\"checkout\") & ((plotdf[\"hour\"] == 8) | (plotdf[\"hour\"] == 19))][\"customer_no\"].std()/60\n",
    "mu_peak, sigma_peak"
   ]
  }
 ],
 "metadata": {
  "kernelspec": {
   "display_name": "davenv",
   "language": "python",
   "name": "python3"
  },
  "language_info": {
   "codemirror_mode": {
    "name": "ipython",
    "version": 3
   },
   "file_extension": ".py",
   "mimetype": "text/x-python",
   "name": "python",
   "nbconvert_exporter": "python",
   "pygments_lexer": "ipython3",
   "version": "3.10.9"
  },
  "orig_nbformat": 4
 },
 "nbformat": 4,
 "nbformat_minor": 2
}
