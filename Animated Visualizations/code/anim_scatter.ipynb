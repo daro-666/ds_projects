{
 "cells": [
  {
   "attachments": {},
   "cell_type": "markdown",
   "metadata": {},
   "source": [
    "# Animated Scatterplot"
   ]
  },
  {
   "attachments": {},
   "cell_type": "markdown",
   "metadata": {},
   "source": [
    "#### Initial setup"
   ]
  },
  {
   "cell_type": "code",
   "execution_count": 1,
   "metadata": {},
   "outputs": [],
   "source": [
    "import pandas as pd\n",
    "import matplotlib.pyplot as plt\n",
    "import seaborn as sns\n",
    "import imageio\n",
    "plt.style.use('ggplot')"
   ]
  },
  {
   "attachments": {},
   "cell_type": "markdown",
   "metadata": {},
   "source": [
    "#### Import data:"
   ]
  },
  {
   "cell_type": "code",
   "execution_count": 2,
   "metadata": {},
   "outputs": [],
   "source": [
    "life = pd.read_excel('../data/gapminder_lifeexpectancy.xlsx', index_col=0)\n",
    "fert = pd.read_csv('../data/gapminder_total_fertility.csv', index_col=0)\n",
    "popu = pd.read_excel(\"../data/gapminder_population.xlsx\", index_col=0)\n",
    "cont = pd.read_csv(\"../data/continents.csv\", sep=\";\", index_col=1)"
   ]
  },
  {
   "attachments": {},
   "cell_type": "markdown",
   "metadata": {},
   "source": [
    "#### Check shape:"
   ]
  },
  {
   "cell_type": "code",
   "execution_count": 3,
   "metadata": {},
   "outputs": [
    {
     "name": "stdout",
     "output_type": "stream",
     "text": [
      "(260, 217)\n",
      "(260, 216)\n",
      "(275, 81)\n",
      "(194, 1)\n"
     ]
    }
   ],
   "source": [
    "print(life.shape)\n",
    "print(fert.shape)\n",
    "print(popu.shape)\n",
    "print(cont.shape)"
   ]
  },
  {
   "attachments": {},
   "cell_type": "markdown",
   "metadata": {},
   "source": [
    "#### Check column dtype:"
   ]
  },
  {
   "cell_type": "code",
   "execution_count": 5,
   "metadata": {},
   "outputs": [
    {
     "name": "stdout",
     "output_type": "stream",
     "text": [
      "int64\n",
      "int64\n",
      "int64\n"
     ]
    }
   ],
   "source": [
    "fert.columns = fert.columns.astype(int)\n",
    "\n",
    "print(life.columns.dtype)\n",
    "print(fert.columns.dtype)\n",
    "print(popu.columns.dtype)\n",
    "# con doesn't have a \"year\" feature -> no check needed"
   ]
  },
  {
   "attachments": {},
   "cell_type": "markdown",
   "metadata": {},
   "source": [
    "#### Correct index names:"
   ]
  },
  {
   "cell_type": "code",
   "execution_count": 29,
   "metadata": {},
   "outputs": [],
   "source": [
    "life.index.name=\"country\"\n",
    "fert.index.name=\"country\"\n",
    "popu.index.name=\"country\""
   ]
  },
  {
   "attachments": {},
   "cell_type": "markdown",
   "metadata": {},
   "source": [
    "#### Reset index for melting:"
   ]
  },
  {
   "cell_type": "code",
   "execution_count": 30,
   "metadata": {},
   "outputs": [],
   "source": [
    "fert = fert.reset_index()\n",
    "life = life.reset_index()\n",
    "popu = popu.reset_index()\n",
    "cont = cont.reset_index()"
   ]
  },
  {
   "attachments": {},
   "cell_type": "markdown",
   "metadata": {},
   "source": [
    "#### Like ice in the sunshine:"
   ]
  },
  {
   "cell_type": "code",
   "execution_count": 31,
   "metadata": {},
   "outputs": [],
   "source": [
    "# cont already has right format for merging!\n",
    "\n",
    "fert = fert.melt(id_vars='country', var_name='year', value_name='fertility_rate')\n",
    "life = life.melt(id_vars='country', var_name='year', value_name='life_expectancy')\n",
    "popu = popu.melt(id_vars='country', var_name='year', value_name='population')"
   ]
  },
  {
   "attachments": {},
   "cell_type": "markdown",
   "metadata": {},
   "source": [
    "#### Merge all DF's and drop NaN Rows"
   ]
  },
  {
   "cell_type": "code",
   "execution_count": 32,
   "metadata": {},
   "outputs": [
    {
     "data": {
      "text/html": [
       "<div>\n",
       "<style scoped>\n",
       "    .dataframe tbody tr th:only-of-type {\n",
       "        vertical-align: middle;\n",
       "    }\n",
       "\n",
       "    .dataframe tbody tr th {\n",
       "        vertical-align: top;\n",
       "    }\n",
       "\n",
       "    .dataframe thead th {\n",
       "        text-align: right;\n",
       "    }\n",
       "</style>\n",
       "<table border=\"1\" class=\"dataframe\">\n",
       "  <thead>\n",
       "    <tr style=\"text-align: right;\">\n",
       "      <th></th>\n",
       "      <th>country</th>\n",
       "      <th>year</th>\n",
       "      <th>fertility_rate</th>\n",
       "      <th>population</th>\n",
       "      <th>life_expectancy</th>\n",
       "      <th>continent</th>\n",
       "    </tr>\n",
       "  </thead>\n",
       "  <tbody>\n",
       "    <tr>\n",
       "      <th>133</th>\n",
       "      <td>Albania</td>\n",
       "      <td>1987</td>\n",
       "      <td>3.13</td>\n",
       "      <td>3121336.0</td>\n",
       "      <td>73.14</td>\n",
       "      <td>Europe</td>\n",
       "    </tr>\n",
       "    <tr>\n",
       "      <th>386</th>\n",
       "      <td>Angola</td>\n",
       "      <td>1997</td>\n",
       "      <td>6.95</td>\n",
       "      <td>13801868.0</td>\n",
       "      <td>51.70</td>\n",
       "      <td>Africa</td>\n",
       "    </tr>\n",
       "    <tr>\n",
       "      <th>4168</th>\n",
       "      <td>Estonia</td>\n",
       "      <td>1972</td>\n",
       "      <td>2.13</td>\n",
       "      <td>1386099.0</td>\n",
       "      <td>70.48</td>\n",
       "      <td>Europe</td>\n",
       "    </tr>\n",
       "    <tr>\n",
       "      <th>13725</th>\n",
       "      <td>Vanuatu</td>\n",
       "      <td>1971</td>\n",
       "      <td>6.20</td>\n",
       "      <td>88023.0</td>\n",
       "      <td>52.21</td>\n",
       "      <td>Australia and Oceania</td>\n",
       "    </tr>\n",
       "    <tr>\n",
       "      <th>9278</th>\n",
       "      <td>Nicaragua</td>\n",
       "      <td>1979</td>\n",
       "      <td>6.23</td>\n",
       "      <td>3157356.0</td>\n",
       "      <td>65.28</td>\n",
       "      <td>North America</td>\n",
       "    </tr>\n",
       "    <tr>\n",
       "      <th>3691</th>\n",
       "      <td>Dominican Republic</td>\n",
       "      <td>1981</td>\n",
       "      <td>4.30</td>\n",
       "      <td>5943591.0</td>\n",
       "      <td>66.60</td>\n",
       "      <td>North America</td>\n",
       "    </tr>\n",
       "    <tr>\n",
       "      <th>3257</th>\n",
       "      <td>Cyprus</td>\n",
       "      <td>1952</td>\n",
       "      <td>3.73</td>\n",
       "      <td>506627.0</td>\n",
       "      <td>66.58</td>\n",
       "      <td>Europe</td>\n",
       "    </tr>\n",
       "    <tr>\n",
       "      <th>12037</th>\n",
       "      <td>Swaziland</td>\n",
       "      <td>1984</td>\n",
       "      <td>6.46</td>\n",
       "      <td>680253.0</td>\n",
       "      <td>58.00</td>\n",
       "      <td>Africa</td>\n",
       "    </tr>\n",
       "    <tr>\n",
       "      <th>4402</th>\n",
       "      <td>Finland</td>\n",
       "      <td>1963</td>\n",
       "      <td>2.66</td>\n",
       "      <td>4522727.0</td>\n",
       "      <td>69.19</td>\n",
       "      <td>Europe</td>\n",
       "    </tr>\n",
       "    <tr>\n",
       "      <th>9817</th>\n",
       "      <td>Panama</td>\n",
       "      <td>1951</td>\n",
       "      <td>5.70</td>\n",
       "      <td>881346.0</td>\n",
       "      <td>56.42</td>\n",
       "      <td>North America</td>\n",
       "    </tr>\n",
       "  </tbody>\n",
       "</table>\n",
       "</div>"
      ],
      "text/plain": [
       "                  country  year  fertility_rate  population  life_expectancy  \\\n",
       "133               Albania  1987            3.13   3121336.0            73.14   \n",
       "386                Angola  1997            6.95  13801868.0            51.70   \n",
       "4168              Estonia  1972            2.13   1386099.0            70.48   \n",
       "13725             Vanuatu  1971            6.20     88023.0            52.21   \n",
       "9278            Nicaragua  1979            6.23   3157356.0            65.28   \n",
       "3691   Dominican Republic  1981            4.30   5943591.0            66.60   \n",
       "3257               Cyprus  1952            3.73    506627.0            66.58   \n",
       "12037           Swaziland  1984            6.46    680253.0            58.00   \n",
       "4402              Finland  1963            2.66   4522727.0            69.19   \n",
       "9817               Panama  1951            5.70    881346.0            56.42   \n",
       "\n",
       "                   continent  \n",
       "133                   Europe  \n",
       "386                   Africa  \n",
       "4168                  Europe  \n",
       "13725  Australia and Oceania  \n",
       "9278           North America  \n",
       "3691           North America  \n",
       "3257                  Europe  \n",
       "12037                 Africa  \n",
       "4402                  Europe  \n",
       "9817           North America  "
      ]
     },
     "execution_count": 32,
     "metadata": {},
     "output_type": "execute_result"
    }
   ],
   "source": [
    "merged_df = fert.merge(popu)\n",
    "merged_df = merged_df.merge(life)\n",
    "merged_df = merged_df.merge(cont)\n",
    "merged_df = merged_df.dropna()\n",
    "merged_df.sample(10)"
   ]
  },
  {
   "attachments": {},
   "cell_type": "markdown",
   "metadata": {},
   "source": [
    "#### Determine minmax values for plotaxis and marker size norm:"
   ]
  },
  {
   "cell_type": "code",
   "execution_count": 33,
   "metadata": {},
   "outputs": [],
   "source": [
    "plot_ymax = merged_df[\"fertility_rate\"].max()\n",
    "plot_ymin = merged_df[\"fertility_rate\"].min()\n",
    "plot_xmax = merged_df[\"life_expectancy\"].max()\n",
    "plot_xmin = merged_df[\"life_expectancy\"].min()\n",
    "minsize = merged_df[\"population\"].min()\n",
    "maxsize = merged_df[\"population\"].max()"
   ]
  },
  {
   "cell_type": "code",
   "execution_count": 34,
   "metadata": {},
   "outputs": [
    {
     "name": "stdout",
     "output_type": "stream",
     "text": [
      "4.0 83.3 1.13 9.22 2128.0 1376048943.0\n"
     ]
    }
   ],
   "source": [
    "print(plot_xmin, plot_xmax, plot_ymin, plot_ymax, minsize, maxsize)"
   ]
  },
  {
   "attachments": {},
   "cell_type": "markdown",
   "metadata": {},
   "source": [
    "#### Create the plots:"
   ]
  },
  {
   "cell_type": "code",
   "execution_count": 35,
   "metadata": {},
   "outputs": [],
   "source": [
    "opac = 0.6\n",
    "for year in range(1960, 2016):\n",
    "\n",
    "    merged_subdf = merged_df.loc[merged_df[\"year\"] == year]\n",
    "    plt.figure(figsize=(16,8))\n",
    "    \n",
    "    # named the plot for legend handles and labels generation later\n",
    "\n",
    "    fig = sns.scatterplot(\n",
    "        data=merged_subdf,\n",
    "        x=\"life_expectancy\",\n",
    "        y=\"fertility_rate\",\n",
    "        size=\"population\",\n",
    "        sizes=(50, 1000),\n",
    "        size_norm=(minsize, maxsize),\n",
    "        hue=\"continent\",\n",
    "        palette=\"bright\",\n",
    "        alpha=opac\n",
    "        )\n",
    "    \n",
    "    \n",
    "    plt.xlabel(\"Life Expectancy (years)\")\n",
    "    plt.ylabel(\"Fertility Rate\")\n",
    "    plt.title(f\"Gapminder Data: {year}\")\n",
    "    plt.axis((plot_xmin, plot_xmax, plot_ymin, plot_ymax))\n",
    "    \n",
    "    # not satisfied with auto legend so:\n",
    "    # create lists of handle and label matplotlib.objects\n",
    "    # select only first 7 items in h an l for colors and continent name\n",
    "    # give params so the legend stays always in the same spot\n",
    "    # for loop sets alpha for handles\n",
    "\n",
    "    h, l = fig.get_legend_handles_labels()\n",
    "    leg = plt.legend(h[0:7], l[0:7], loc=\"lower left\", bbox_to_anchor=(0, 0))\n",
    "    for lh in leg.legendHandles:\n",
    "        lh.set_alpha(opac)\n",
    "\n",
    "    plt.savefig(\"plots/gapplot_\"+str(year)+\".png\", format=\"png\")\n",
    "    plt.close()"
   ]
  },
  {
   "attachments": {},
   "cell_type": "markdown",
   "metadata": {},
   "source": [
    "#### Create the gif:"
   ]
  },
  {
   "cell_type": "code",
   "execution_count": 36,
   "metadata": {},
   "outputs": [],
   "source": [
    "images = []\n",
    "\n",
    "for i in range(1960, 2016):\n",
    "    filename = \"plots/gapplot_\"+str(i)+\".png\".format(i-1960)\n",
    "    images.append(imageio.imread(filename))\n",
    "\n",
    "imageio.mimsave('gapm_anim_1960_2015.gif', images, fps=25)"
   ]
  }
 ],
 "metadata": {
  "kernelspec": {
   "display_name": "Python 3",
   "language": "python",
   "name": "python3"
  },
  "language_info": {
   "codemirror_mode": {
    "name": "ipython",
    "version": 3
   },
   "file_extension": ".py",
   "mimetype": "text/x-python",
   "name": "python",
   "nbconvert_exporter": "python",
   "pygments_lexer": "ipython3",
   "version": "3.11.2"
  },
  "orig_nbformat": 4
 },
 "nbformat": 4,
 "nbformat_minor": 2
}
