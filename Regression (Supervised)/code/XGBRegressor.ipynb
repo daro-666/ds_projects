{
 "cells": [
  {
   "cell_type": "code",
   "execution_count": 60,
   "metadata": {},
   "outputs": [
    {
     "name": "stderr",
     "output_type": "stream",
     "text": [
      "Intel(R) Extension for Scikit-learn* enabled (https://github.com/intel/scikit-learn-intelex)\n"
     ]
    }
   ],
   "source": [
    "import pandas as pd\n",
    "import numpy as np\n",
    "\n",
    "from sklearnex import patch_sklearn\n",
    "patch_sklearn()\n",
    "\n",
    "from sklearn.model_selection import train_test_split, GridSearchCV\n",
    "from sklearn.pipeline import Pipeline\n",
    "from sklearn.compose import ColumnTransformer\n",
    "from sklearn.preprocessing import OneHotEncoder, RobustScaler, StandardScaler, MinMaxScaler, PolynomialFeatures\n",
    "from sklearn.metrics import mean_squared_log_error, make_scorer\n",
    "from sklearn.ensemble import GradientBoostingRegressor\n",
    "\n",
    "from xgboost import XGBRegressor"
   ]
  },
  {
   "cell_type": "code",
   "execution_count": 61,
   "metadata": {},
   "outputs": [],
   "source": [
    "bike = pd.read_csv(\"../data/train.csv\", index_col=0, parse_dates=True)\n",
    "biketest = pd.read_csv(\"../data/test.csv\", index_col=0, parse_dates=True)"
   ]
  },
  {
   "cell_type": "code",
   "execution_count": 62,
   "metadata": {},
   "outputs": [
    {
     "name": "stdout",
     "output_type": "stream",
     "text": [
      "['season', 'holiday', 'workingday', 'weather', 'temp', 'atemp', 'humidity', 'windspeed', 'casual', 'registered', 'count', 'year', 'month', 'weekday', 'hour']\n"
     ]
    }
   ],
   "source": [
    "bike[\"year\"] = bike.index.year\n",
    "bike[\"month\"] = bike.index.month\n",
    "bike[\"weekday\"] = bike.index.weekday #from 0-6\n",
    "bike[\"hour\"] = bike.index.hour\n",
    "\n",
    "biketest[\"year\"] = biketest.index.year\n",
    "biketest[\"month\"] = biketest.index.month\n",
    "biketest[\"weekday\"] = biketest.index.weekday #from 0-6\n",
    "biketest[\"hour\"] = biketest.index.hour\n",
    "\n",
    "print(list(bike.columns))"
   ]
  },
  {
   "cell_type": "code",
   "execution_count": 63,
   "metadata": {},
   "outputs": [],
   "source": [
    "X = bike[['temp', \"humidity\", 'windspeed', 'year', 'month','weekday', 'hour']]\n",
    "y = bike['count']\n",
    "\n",
    "Xtrain, Xtest, ytrain, ytest = train_test_split(X, y, random_state=42)\n",
    "\n",
    "ytrainlog = np.log1p(ytrain)\n",
    "ytestlog= np.log1p(ytest)"
   ]
  },
  {
   "cell_type": "code",
   "execution_count": 64,
   "metadata": {},
   "outputs": [],
   "source": [
    "sclr = MinMaxScaler()\n",
    "\n",
    "ohe_pipe = Pipeline([\n",
    "    (\"ohe\", OneHotEncoder(sparse_output=False, drop=\"first\")),\n",
    "])\n",
    "\n",
    "pol4_scl_pipe = Pipeline([\n",
    "    (\"poly\", PolynomialFeatures(degree=4)),\n",
    "    (\"scl\", sclr),\n",
    "])\n",
    "\n",
    "pol2_scl_pipe = Pipeline([\n",
    "    (\"poly\", PolynomialFeatures(degree=2)),\n",
    "    (\"scl\", sclr),\n",
    "])"
   ]
  },
  {
   "cell_type": "code",
   "execution_count": 65,
   "metadata": {},
   "outputs": [
    {
     "name": "stdout",
     "output_type": "stream",
     "text": [
      "['temp', 'humidity', 'windspeed', 'year', 'month', 'weekday', 'hour']\n"
     ]
    }
   ],
   "source": [
    "print(list(Xtrain.columns))"
   ]
  },
  {
   "cell_type": "code",
   "execution_count": 66,
   "metadata": {},
   "outputs": [],
   "source": [
    "ct = ColumnTransformer(\n",
    "    [\n",
    "        (\"ohe\", ohe_pipe, [\"year\"]),\n",
    "        #(\"poly2_scl\", pol2_scl_pipe, ['temp', 'month']),\n",
    "        #(\"poly4_scl\", pol4_scl_pipe, ['hour']),\n",
    "        (\"poly_scl\", pol4_scl_pipe, ['temp', \"humidity\", 'windspeed', 'month', 'weekday', 'hour']),\n",
    "    ],\n",
    "    remainder=sclr\n",
    ").set_output(transform=\"pandas\")"
   ]
  },
  {
   "cell_type": "code",
   "execution_count": 67,
   "metadata": {},
   "outputs": [
    {
     "name": "stdout",
     "output_type": "stream",
     "text": [
      "skipping\n"
     ]
    }
   ],
   "source": [
    "%%script echo skipping\n",
    "\n",
    "gbr = GradientBoostingRegressor(verbose=True, loss=\"absolute_error\", max_features=None, max_depth=4, n_estimators=200)\n",
    "\n",
    "ctplusmodel = Pipeline(\n",
    "    [\n",
    "        (\"ct\", ct),\n",
    "        (\"model\", gbr),\n",
    "    ]\n",
    ")"
   ]
  },
  {
   "cell_type": "code",
   "execution_count": 68,
   "metadata": {},
   "outputs": [
    {
     "name": "stdout",
     "output_type": "stream",
     "text": [
      "skipping\n"
     ]
    }
   ],
   "source": [
    "%%script echo skipping\n",
    "\n",
    "ctplusmodel.fit(Xtrain, ytrainlog)"
   ]
  },
  {
   "cell_type": "code",
   "execution_count": 69,
   "metadata": {},
   "outputs": [],
   "source": [
    "def rmsle(ytrue, ypred):\n",
    "    return np.sqrt(mean_squared_log_error(ytrue, ypred))"
   ]
  },
  {
   "cell_type": "code",
   "execution_count": 70,
   "metadata": {},
   "outputs": [],
   "source": [
    "rmsle_scorer = make_scorer(rmsle, greater_is_better=False)"
   ]
  },
  {
   "cell_type": "code",
   "execution_count": 71,
   "metadata": {},
   "outputs": [
    {
     "name": "stdout",
     "output_type": "stream",
     "text": [
      "skipping\n"
     ]
    }
   ],
   "source": [
    "%%script echo skipping\n",
    "\n",
    "print(\"train r^2 = \",round(ctplusmodel.score(Xtrain, ytrainlog), 3))\n",
    "print(\"test r^2  = \",round(ctplusmodel.score(Xtest, ytestlog), 3))\n",
    "print()\n",
    "print(\"train rmsle = \",round(rmsle(ytrain, np.expm1(ctplusmodel.predict(Xtrain))), 3))\n",
    "print(\"test rmsle  = \",round(rmsle(ytest, np.expm1(ctplusmodel.predict(Xtest))), 3))"
   ]
  },
  {
   "cell_type": "code",
   "execution_count": 72,
   "metadata": {},
   "outputs": [],
   "source": [
    "Xtrain_fe = ct.fit_transform(Xtrain)\n",
    "Xtest_fe = ct.transform(Xtest)\n",
    "X_fe = ct.fit_transform(X)\n",
    "ylog = np.log1p(y)"
   ]
  },
  {
   "cell_type": "code",
   "execution_count": 73,
   "metadata": {},
   "outputs": [
    {
     "name": "stdout",
     "output_type": "stream",
     "text": [
      "skip\n"
     ]
    }
   ],
   "source": [
    "%%script echo skip\n",
    "\n",
    "maxthreads = 12\n",
    "threads = 6\n",
    "\n",
    "xgb_model = XGBRegressor(\n",
    "        #n_jobs=maxthreads//threads,\n",
    "        tree_method=\"gpu_hist\",\n",
    "        objective=\"reg:squaredlogerror\",\n",
    "    )\n",
    "\n",
    "clf = GridSearchCV(\n",
    "        xgb_model,\n",
    "        {\"max_depth\": [4, 5, 6], \"n_estimators\": [50, 100, 200]},\n",
    "        scoring=\"neg_mean_squared_log_error\",\n",
    "        verbose=3,\n",
    "        #n_jobs=threads,\n",
    "        #cv=5,\n",
    "    )\n",
    "\n",
    "clf.fit(Xtrain_fe, ytrainlog)\n",
    "print()\n",
    "print(clf.best_score_)\n",
    "print(clf.best_params_)"
   ]
  },
  {
   "cell_type": "code",
   "execution_count": 74,
   "metadata": {},
   "outputs": [
    {
     "name": "stdout",
     "output_type": "stream",
     "text": [
      "train rmsle =  0.09\n",
      "test rmsle  =  0.334\n"
     ]
    }
   ],
   "source": [
    "xgb_final_model = XGBRegressor(\n",
    "    tree_method=\"gpu_hist\",\n",
    "    objective=\"reg:squaredlogerror\",\n",
    "    max_depth=5,\n",
    "    n_estimators=500,\n",
    ")\n",
    "\n",
    "xgb_final_model.fit(Xtrain_fe, ytrainlog);\n",
    "\n",
    "print(\"train rmsle = \",round(rmsle(ytrain, np.expm1(xgb_final_model.predict(Xtrain_fe))), 3))\n",
    "print(\"test rmsle  = \",round(rmsle(ytest, np.expm1(xgb_final_model.predict(Xtest_fe))), 3))"
   ]
  },
  {
   "cell_type": "code",
   "execution_count": 75,
   "metadata": {},
   "outputs": [
    {
     "name": "stdout",
     "output_type": "stream",
     "text": [
      "rmsle =  0.106\n"
     ]
    }
   ],
   "source": [
    "xgb_final_model.fit(X_fe, ylog);\n",
    "\n",
    "print(\"rmsle = \",round(rmsle(y, np.expm1(xgb_final_model.predict(X_fe))), 3))"
   ]
  },
  {
   "cell_type": "code",
   "execution_count": 76,
   "metadata": {},
   "outputs": [],
   "source": [
    "superX = biketest[X.columns]\n",
    "superX_fe = ct.transform(superX)\n",
    "\n",
    "submission = pd.DataFrame()\n",
    "\n",
    "submission[\"datetime\"] = superX.index\n",
    "submission[\"count\"] = np.expm1(xgb_final_model.predict(superX_fe))"
   ]
  },
  {
   "cell_type": "code",
   "execution_count": 77,
   "metadata": {},
   "outputs": [
    {
     "data": {
      "text/html": [
       "<div>\n",
       "<style scoped>\n",
       "    .dataframe tbody tr th:only-of-type {\n",
       "        vertical-align: middle;\n",
       "    }\n",
       "\n",
       "    .dataframe tbody tr th {\n",
       "        vertical-align: top;\n",
       "    }\n",
       "\n",
       "    .dataframe thead th {\n",
       "        text-align: right;\n",
       "    }\n",
       "</style>\n",
       "<table border=\"1\" class=\"dataframe\">\n",
       "  <thead>\n",
       "    <tr style=\"text-align: right;\">\n",
       "      <th></th>\n",
       "      <th>datetime</th>\n",
       "      <th>count</th>\n",
       "    </tr>\n",
       "  </thead>\n",
       "  <tbody>\n",
       "    <tr>\n",
       "      <th>0</th>\n",
       "      <td>2011-01-20 00:00:00</td>\n",
       "      <td>9.473688</td>\n",
       "    </tr>\n",
       "    <tr>\n",
       "      <th>1</th>\n",
       "      <td>2011-01-20 01:00:00</td>\n",
       "      <td>3.758754</td>\n",
       "    </tr>\n",
       "    <tr>\n",
       "      <th>2</th>\n",
       "      <td>2011-01-20 02:00:00</td>\n",
       "      <td>3.030836</td>\n",
       "    </tr>\n",
       "    <tr>\n",
       "      <th>3</th>\n",
       "      <td>2011-01-20 03:00:00</td>\n",
       "      <td>2.720711</td>\n",
       "    </tr>\n",
       "    <tr>\n",
       "      <th>4</th>\n",
       "      <td>2011-01-20 04:00:00</td>\n",
       "      <td>1.512363</td>\n",
       "    </tr>\n",
       "    <tr>\n",
       "      <th>...</th>\n",
       "      <td>...</td>\n",
       "      <td>...</td>\n",
       "    </tr>\n",
       "    <tr>\n",
       "      <th>6488</th>\n",
       "      <td>2012-12-31 19:00:00</td>\n",
       "      <td>329.979919</td>\n",
       "    </tr>\n",
       "    <tr>\n",
       "      <th>6489</th>\n",
       "      <td>2012-12-31 20:00:00</td>\n",
       "      <td>240.685211</td>\n",
       "    </tr>\n",
       "    <tr>\n",
       "      <th>6490</th>\n",
       "      <td>2012-12-31 21:00:00</td>\n",
       "      <td>141.417130</td>\n",
       "    </tr>\n",
       "    <tr>\n",
       "      <th>6491</th>\n",
       "      <td>2012-12-31 22:00:00</td>\n",
       "      <td>104.800705</td>\n",
       "    </tr>\n",
       "    <tr>\n",
       "      <th>6492</th>\n",
       "      <td>2012-12-31 23:00:00</td>\n",
       "      <td>66.968750</td>\n",
       "    </tr>\n",
       "  </tbody>\n",
       "</table>\n",
       "<p>6493 rows × 2 columns</p>\n",
       "</div>"
      ],
      "text/plain": [
       "                datetime       count\n",
       "0    2011-01-20 00:00:00    9.473688\n",
       "1    2011-01-20 01:00:00    3.758754\n",
       "2    2011-01-20 02:00:00    3.030836\n",
       "3    2011-01-20 03:00:00    2.720711\n",
       "4    2011-01-20 04:00:00    1.512363\n",
       "...                  ...         ...\n",
       "6488 2012-12-31 19:00:00  329.979919\n",
       "6489 2012-12-31 20:00:00  240.685211\n",
       "6490 2012-12-31 21:00:00  141.417130\n",
       "6491 2012-12-31 22:00:00  104.800705\n",
       "6492 2012-12-31 23:00:00   66.968750\n",
       "\n",
       "[6493 rows x 2 columns]"
      ]
     },
     "execution_count": 77,
     "metadata": {},
     "output_type": "execute_result"
    }
   ],
   "source": [
    "submission"
   ]
  },
  {
   "cell_type": "code",
   "execution_count": 78,
   "metadata": {},
   "outputs": [],
   "source": [
    "#submission.to_csv(\"../data/bike_pred_v10.csv\", index=False)"
   ]
  }
 ],
 "metadata": {
  "kernelspec": {
   "display_name": "spiced_projects",
   "language": "python",
   "name": "python3"
  },
  "language_info": {
   "codemirror_mode": {
    "name": "ipython",
    "version": 3
   },
   "file_extension": ".py",
   "mimetype": "text/x-python",
   "name": "python",
   "nbconvert_exporter": "python",
   "pygments_lexer": "ipython3",
   "version": "3.11.3"
  },
  "orig_nbformat": 4
 },
 "nbformat": 4,
 "nbformat_minor": 2
}
