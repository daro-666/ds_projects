{
 "cells": [
  {
   "cell_type": "markdown",
   "metadata": {},
   "source": [
    "module imports"
   ]
  },
  {
   "cell_type": "code",
   "execution_count": 21,
   "metadata": {},
   "outputs": [],
   "source": [
    "import os\n",
    "import pandas as pd\n",
    "import matplotlib.pyplot as plt\n",
    "import seaborn as sns\n",
    "import re\n",
    "\n",
    "if os.environ['CONDA_PREFIX'] == '/home/david/.miniforge3/envs/tf-gpu':\n",
    "    import tensorrt\n",
    "os.environ['TF_CPP_MIN_LOG_LEVEL'] = '1'\n",
    "\n",
    "import tensorflow as tf"
   ]
  },
  {
   "cell_type": "markdown",
   "metadata": {},
   "source": [
    "config"
   ]
  },
  {
   "cell_type": "code",
   "execution_count": 22,
   "metadata": {},
   "outputs": [],
   "source": [
    "data_dir = '/home/david/spiced_projects/final_project/data/train_val'\n",
    "input_samplerate = 22050\n",
    "bsize = 32\n",
    "\n",
    "plt.style.use('seaborn-v0_8-darkgrid')"
   ]
  },
  {
   "cell_type": "markdown",
   "metadata": {},
   "source": [
    "file imports"
   ]
  },
  {
   "cell_type": "code",
   "execution_count": 23,
   "metadata": {},
   "outputs": [
    {
     "name": "stdout",
     "output_type": "stream",
     "text": [
      "Found 800 files belonging to 8 classes.\n",
      "Using 640 files for training.\n",
      "Using 160 files for validation.\n"
     ]
    }
   ],
   "source": [
    "train_ds, val_ds = tf.keras.utils.audio_dataset_from_directory(\n",
    "    directory=data_dir,\n",
    "    batch_size=bsize,\n",
    "    seed=40,\n",
    "    output_sequence_length=input_samplerate,\n",
    "    validation_split=0.2,\n",
    "    subset='both'\n",
    ")"
   ]
  },
  {
   "cell_type": "code",
   "execution_count": 24,
   "metadata": {},
   "outputs": [
    {
     "name": "stdout",
     "output_type": "stream",
     "text": [
      "label names: ['close', 'exit', 'files', 'mail', 'media', 'open', 'silence', 'web']\n"
     ]
    }
   ],
   "source": [
    "label_names = train_ds.class_names\n",
    "print(\"label names:\", label_names)"
   ]
  },
  {
   "cell_type": "markdown",
   "metadata": {},
   "source": [
    "export `label_names` to config.py"
   ]
  },
  {
   "cell_type": "code",
   "execution_count": 25,
   "metadata": {},
   "outputs": [],
   "source": [
    "config_file = open(\"/home/david/spiced_projects/final_project/code/config.py\", \"r\")\n",
    "config_content = config_file.read()\n",
    "config_file.close()\n",
    "\n",
    "config_content_updated = re.sub(\"label_names.*]\", f\"label_names = {label_names}\", config_content)\n",
    "\n",
    "config_file = open(\"/home/david/spiced_projects/final_project/code/config.py\", \"w\")\n",
    "config_file.write(config_content_updated)\n",
    "config_file.close()"
   ]
  },
  {
   "cell_type": "markdown",
   "metadata": {},
   "source": [
    "utility functions"
   ]
  },
  {
   "cell_type": "code",
   "execution_count": 26,
   "metadata": {},
   "outputs": [],
   "source": [
    "def make_squeezed_ds(ds):\n",
    "    return ds.map(\n",
    "        lambda wave, label: (tf.squeeze(wave, axis=-1), label),\n",
    "        num_parallel_calls=tf.data.AUTOTUNE\n",
    "    )\n",
    "\n",
    "def get_spectrogram(wave):\n",
    "    spec = tf.signal.stft(wave, frame_length=300, frame_step=85)\n",
    "    spec = tf.abs(spec)\n",
    "    spec = spec[..., tf.newaxis]\n",
    "    return spec\n",
    "\n",
    "\n",
    "def make_spec_ds(ds):\n",
    "    return ds.map(\n",
    "        lambda wave, label: (get_spectrogram(wave), label),\n",
    "        num_parallel_calls=tf.data.AUTOTUNE\n",
    "    )"
   ]
  },
  {
   "cell_type": "code",
   "execution_count": 27,
   "metadata": {},
   "outputs": [],
   "source": [
    "train_spec_ds = make_spec_ds(make_squeezed_ds(train_ds))\n",
    "val_spec_ds = make_spec_ds(make_squeezed_ds(val_ds))"
   ]
  },
  {
   "cell_type": "code",
   "execution_count": 28,
   "metadata": {},
   "outputs": [],
   "source": [
    "# extract example spectrograms for input shape\n",
    "for example_spec_batch, _ in train_spec_ds.take(1):\n",
    "  break"
   ]
  },
  {
   "cell_type": "markdown",
   "metadata": {},
   "source": [
    "final shape check:"
   ]
  },
  {
   "cell_type": "code",
   "execution_count": 29,
   "metadata": {},
   "outputs": [
    {
     "data": {
      "text/plain": [
       "TensorShape([32, 256, 257, 1])"
      ]
     },
     "execution_count": 29,
     "metadata": {},
     "output_type": "execute_result"
    }
   ],
   "source": [
    "example_spec_batch.shape\n",
    "# expected: TensorShape([bsize, spec_rows, spec_cols, n_channels])"
   ]
  },
  {
   "cell_type": "code",
   "execution_count": 30,
   "metadata": {},
   "outputs": [],
   "source": [
    "# for fitting speed increase\n",
    "train_spec_ds = train_spec_ds.cache().shuffle(10000, reshuffle_each_iteration=False).prefetch(tf.data.AUTOTUNE)\n",
    "val_spec_ds = val_spec_ds.cache().prefetch(tf.data.AUTOTUNE)"
   ]
  },
  {
   "cell_type": "markdown",
   "metadata": {},
   "source": [
    "model architecture"
   ]
  },
  {
   "cell_type": "code",
   "execution_count": 31,
   "metadata": {},
   "outputs": [],
   "source": [
    "input_shape = example_spec_batch.shape[1:]\n",
    "last_layer_neurons = len(label_names)\n",
    "\n",
    "# create normalization layer and fit its parameters to the training dataset\n",
    "normalization_layer = tf.keras.layers.Normalization()\n",
    "normalization_layer.adapt(data=train_spec_ds.map(lambda spec, label: spec))\n",
    "\n",
    "model = tf.keras.models.Sequential([\n",
    "    \n",
    "    tf.keras.layers.Input(shape=input_shape),\n",
    "    tf.keras.layers.Resizing(32, 32, interpolation='gaussian'),\n",
    "    normalization_layer,\n",
    "    \n",
    "    tf.keras.layers.Conv2D(16, 3, activation='selu'),\n",
    "    tf.keras.layers.MaxPooling2D(),\n",
    "    tf.keras.layers.Conv2D(32, 3, activation='selu'),\n",
    "    tf.keras.layers.MaxPooling2D(),\n",
    "    tf.keras.layers.Conv2D(64, 3, activation='selu'),\n",
    "    tf.keras.layers.MaxPooling2D(),\n",
    "\n",
    "    tf.keras.layers.Flatten(),\n",
    "    \n",
    "    tf.keras.layers.Dense(64, 'selu'),\n",
    "    \n",
    "    tf.keras.layers.Dense(last_layer_neurons),\n",
    "])"
   ]
  },
  {
   "cell_type": "markdown",
   "metadata": {},
   "source": []
  },
  {
   "cell_type": "code",
   "execution_count": 32,
   "metadata": {},
   "outputs": [
    {
     "name": "stdout",
     "output_type": "stream",
     "text": [
      "Model: \"sequential_1\"\n",
      "_________________________________________________________________\n",
      " Layer (type)                Output Shape              Param #   \n",
      "=================================================================\n",
      " resizing_1 (Resizing)       (None, 32, 32, 1)         0         \n",
      "                                                                 \n",
      " normalization_1 (Normaliza  (None, 32, 32, 1)         3         \n",
      " tion)                                                           \n",
      "                                                                 \n",
      " conv2d_3 (Conv2D)           (None, 30, 30, 16)        160       \n",
      "                                                                 \n",
      " max_pooling2d_3 (MaxPoolin  (None, 15, 15, 16)        0         \n",
      " g2D)                                                            \n",
      "                                                                 \n",
      " conv2d_4 (Conv2D)           (None, 13, 13, 32)        4640      \n",
      "                                                                 \n",
      " max_pooling2d_4 (MaxPoolin  (None, 6, 6, 32)          0         \n",
      " g2D)                                                            \n",
      "                                                                 \n",
      " conv2d_5 (Conv2D)           (None, 4, 4, 64)          18496     \n",
      "                                                                 \n",
      " max_pooling2d_5 (MaxPoolin  (None, 2, 2, 64)          0         \n",
      " g2D)                                                            \n",
      "                                                                 \n",
      " flatten_1 (Flatten)         (None, 256)               0         \n",
      "                                                                 \n",
      " dense_2 (Dense)             (None, 64)                16448     \n",
      "                                                                 \n",
      " dense_3 (Dense)             (None, 8)                 520       \n",
      "                                                                 \n",
      "=================================================================\n",
      "Total params: 40267 (157.30 KB)\n",
      "Trainable params: 40264 (157.28 KB)\n",
      "Non-trainable params: 3 (16.00 Byte)\n",
      "_________________________________________________________________\n"
     ]
    }
   ],
   "source": [
    "model.summary()"
   ]
  },
  {
   "cell_type": "code",
   "execution_count": 33,
   "metadata": {},
   "outputs": [],
   "source": [
    "model.compile(\n",
    "    optimizer=tf.keras.optimizers.Adam(),\n",
    "    loss=tf.keras.losses.SparseCategoricalCrossentropy(from_logits=True),\n",
    "    metrics=['accuracy'],\n",
    ")"
   ]
  },
  {
   "cell_type": "markdown",
   "metadata": {},
   "source": [
    "model training"
   ]
  },
  {
   "cell_type": "code",
   "execution_count": 53,
   "metadata": {},
   "outputs": [
    {
     "name": "stdout",
     "output_type": "stream",
     "text": [
      "Epoch 1/100\n",
      "20/20 [==============================] - 0s 5ms/step - loss: 2.3060e-07 - accuracy: 1.0000 - val_loss: 2.5468e-04 - val_accuracy: 1.0000\n",
      "Epoch 2/100\n",
      "20/20 [==============================] - 0s 5ms/step - loss: 2.2817e-07 - accuracy: 1.0000 - val_loss: 2.5352e-04 - val_accuracy: 1.0000\n",
      "Epoch 3/100\n",
      "20/20 [==============================] - 0s 5ms/step - loss: 2.2463e-07 - accuracy: 1.0000 - val_loss: 2.5214e-04 - val_accuracy: 1.0000\n",
      "Epoch 4/100\n",
      "20/20 [==============================] - 0s 5ms/step - loss: 2.2184e-07 - accuracy: 1.0000 - val_loss: 2.5132e-04 - val_accuracy: 1.0000\n",
      "Epoch 5/100\n",
      "20/20 [==============================] - 0s 5ms/step - loss: 2.1998e-07 - accuracy: 1.0000 - val_loss: 2.5054e-04 - val_accuracy: 1.0000\n",
      "Epoch 6/100\n",
      "20/20 [==============================] - 0s 5ms/step - loss: 2.1793e-07 - accuracy: 1.0000 - val_loss: 2.4979e-04 - val_accuracy: 1.0000\n",
      "Epoch 7/100\n",
      "20/20 [==============================] - 0s 5ms/step - loss: 2.1588e-07 - accuracy: 1.0000 - val_loss: 2.4887e-04 - val_accuracy: 1.0000\n",
      "Epoch 8/100\n",
      "20/20 [==============================] - 0s 5ms/step - loss: 2.1290e-07 - accuracy: 1.0000 - val_loss: 2.4789e-04 - val_accuracy: 1.0000\n",
      "Epoch 9/100\n",
      "20/20 [==============================] - 0s 5ms/step - loss: 2.1048e-07 - accuracy: 1.0000 - val_loss: 2.4687e-04 - val_accuracy: 1.0000\n",
      "Epoch 10/100\n",
      "20/20 [==============================] - 0s 5ms/step - loss: 2.0880e-07 - accuracy: 1.0000 - val_loss: 2.4611e-04 - val_accuracy: 1.0000\n",
      "Epoch 11/100\n",
      "20/20 [==============================] - 0s 4ms/step - loss: 2.0619e-07 - accuracy: 1.0000 - val_loss: 2.4561e-04 - val_accuracy: 1.0000\n",
      "Epoch 12/100\n",
      "20/20 [==============================] - 0s 4ms/step - loss: 2.0377e-07 - accuracy: 1.0000 - val_loss: 2.4504e-04 - val_accuracy: 1.0000\n",
      "Epoch 13/100\n",
      "20/20 [==============================] - 0s 5ms/step - loss: 2.0154e-07 - accuracy: 1.0000 - val_loss: 2.4431e-04 - val_accuracy: 1.0000\n",
      "Epoch 14/100\n",
      "20/20 [==============================] - 0s 5ms/step - loss: 1.9949e-07 - accuracy: 1.0000 - val_loss: 2.4365e-04 - val_accuracy: 1.0000\n",
      "Epoch 15/100\n",
      "20/20 [==============================] - 0s 5ms/step - loss: 1.9763e-07 - accuracy: 1.0000 - val_loss: 2.4291e-04 - val_accuracy: 1.0000\n",
      "Epoch 16/100\n",
      "20/20 [==============================] - 0s 4ms/step - loss: 1.9483e-07 - accuracy: 1.0000 - val_loss: 2.4185e-04 - val_accuracy: 1.0000\n",
      "Epoch 17/100\n",
      "20/20 [==============================] - 0s 4ms/step - loss: 1.9260e-07 - accuracy: 1.0000 - val_loss: 2.4032e-04 - val_accuracy: 1.0000\n",
      "Epoch 18/100\n",
      "20/20 [==============================] - 0s 4ms/step - loss: 1.9036e-07 - accuracy: 1.0000 - val_loss: 2.3851e-04 - val_accuracy: 1.0000\n",
      "Epoch 19/100\n",
      "20/20 [==============================] - 0s 5ms/step - loss: 1.8831e-07 - accuracy: 1.0000 - val_loss: 2.3671e-04 - val_accuracy: 1.0000\n",
      "Epoch 20/100\n",
      "20/20 [==============================] - 0s 5ms/step - loss: 1.8664e-07 - accuracy: 1.0000 - val_loss: 2.3527e-04 - val_accuracy: 1.0000\n",
      "Epoch 21/100\n",
      "20/20 [==============================] - 0s 5ms/step - loss: 1.8515e-07 - accuracy: 1.0000 - val_loss: 2.3385e-04 - val_accuracy: 1.0000\n",
      "Epoch 22/100\n",
      "20/20 [==============================] - 0s 5ms/step - loss: 1.8347e-07 - accuracy: 1.0000 - val_loss: 2.3248e-04 - val_accuracy: 1.0000\n",
      "Epoch 23/100\n",
      "20/20 [==============================] - 0s 5ms/step - loss: 1.8105e-07 - accuracy: 1.0000 - val_loss: 2.3139e-04 - val_accuracy: 1.0000\n",
      "Epoch 24/100\n",
      "20/20 [==============================] - 0s 5ms/step - loss: 1.7807e-07 - accuracy: 1.0000 - val_loss: 2.3034e-04 - val_accuracy: 1.0000\n",
      "Epoch 25/100\n",
      "20/20 [==============================] - 0s 5ms/step - loss: 1.7658e-07 - accuracy: 1.0000 - val_loss: 2.2949e-04 - val_accuracy: 1.0000\n",
      "Epoch 26/100\n",
      "20/20 [==============================] - 0s 5ms/step - loss: 1.7509e-07 - accuracy: 1.0000 - val_loss: 2.2878e-04 - val_accuracy: 1.0000\n",
      "Epoch 27/100\n",
      "20/20 [==============================] - 0s 5ms/step - loss: 1.7360e-07 - accuracy: 1.0000 - val_loss: 2.2822e-04 - val_accuracy: 1.0000\n",
      "Epoch 28/100\n",
      "20/20 [==============================] - 0s 5ms/step - loss: 1.7248e-07 - accuracy: 1.0000 - val_loss: 2.2802e-04 - val_accuracy: 1.0000\n",
      "Epoch 29/100\n",
      "20/20 [==============================] - 0s 5ms/step - loss: 1.7025e-07 - accuracy: 1.0000 - val_loss: 2.2811e-04 - val_accuracy: 1.0000\n",
      "Epoch 30/100\n",
      "20/20 [==============================] - 0s 5ms/step - loss: 1.6782e-07 - accuracy: 1.0000 - val_loss: 2.2843e-04 - val_accuracy: 1.0000\n",
      "Epoch 31/100\n",
      "20/20 [==============================] - 0s 5ms/step - loss: 1.6522e-07 - accuracy: 1.0000 - val_loss: 2.2846e-04 - val_accuracy: 1.0000\n",
      "Epoch 32/100\n",
      "20/20 [==============================] - 0s 5ms/step - loss: 1.6261e-07 - accuracy: 1.0000 - val_loss: 2.2829e-04 - val_accuracy: 1.0000\n",
      "Epoch 33/100\n",
      "20/20 [==============================] - 0s 5ms/step - loss: 1.6037e-07 - accuracy: 1.0000 - val_loss: 2.2804e-04 - val_accuracy: 1.0000\n",
      "Epoch 34/100\n",
      "20/20 [==============================] - 0s 5ms/step - loss: 1.5832e-07 - accuracy: 1.0000 - val_loss: 2.2725e-04 - val_accuracy: 1.0000\n",
      "Epoch 35/100\n",
      "20/20 [==============================] - 0s 4ms/step - loss: 1.5665e-07 - accuracy: 1.0000 - val_loss: 2.2648e-04 - val_accuracy: 1.0000\n",
      "Epoch 36/100\n",
      "20/20 [==============================] - 0s 4ms/step - loss: 1.5572e-07 - accuracy: 1.0000 - val_loss: 2.2569e-04 - val_accuracy: 1.0000\n",
      "Epoch 37/100\n",
      "20/20 [==============================] - 0s 5ms/step - loss: 1.5404e-07 - accuracy: 1.0000 - val_loss: 2.2494e-04 - val_accuracy: 1.0000\n",
      "Epoch 38/100\n",
      "20/20 [==============================] - 0s 5ms/step - loss: 1.5162e-07 - accuracy: 1.0000 - val_loss: 2.2433e-04 - val_accuracy: 1.0000\n",
      "Epoch 39/100\n",
      "20/20 [==============================] - 0s 5ms/step - loss: 1.5069e-07 - accuracy: 1.0000 - val_loss: 2.2372e-04 - val_accuracy: 1.0000\n",
      "Epoch 40/100\n",
      "20/20 [==============================] - 0s 5ms/step - loss: 1.4901e-07 - accuracy: 1.0000 - val_loss: 2.2309e-04 - val_accuracy: 1.0000\n",
      "Epoch 41/100\n",
      "20/20 [==============================] - 0s 5ms/step - loss: 1.4696e-07 - accuracy: 1.0000 - val_loss: 2.2242e-04 - val_accuracy: 1.0000\n",
      "Epoch 42/100\n",
      "20/20 [==============================] - 0s 5ms/step - loss: 1.4547e-07 - accuracy: 1.0000 - val_loss: 2.2191e-04 - val_accuracy: 1.0000\n",
      "Epoch 43/100\n",
      "20/20 [==============================] - 0s 5ms/step - loss: 1.4417e-07 - accuracy: 1.0000 - val_loss: 2.2148e-04 - val_accuracy: 1.0000\n",
      "Epoch 44/100\n",
      "20/20 [==============================] - 0s 5ms/step - loss: 1.4249e-07 - accuracy: 1.0000 - val_loss: 2.2127e-04 - val_accuracy: 1.0000\n",
      "Epoch 45/100\n",
      "20/20 [==============================] - 0s 4ms/step - loss: 1.3988e-07 - accuracy: 1.0000 - val_loss: 2.2048e-04 - val_accuracy: 1.0000\n",
      "Epoch 46/100\n",
      "20/20 [==============================] - 0s 5ms/step - loss: 1.3784e-07 - accuracy: 1.0000 - val_loss: 2.1950e-04 - val_accuracy: 1.0000\n",
      "Epoch 47/100\n",
      "20/20 [==============================] - 0s 5ms/step - loss: 1.3672e-07 - accuracy: 1.0000 - val_loss: 2.1860e-04 - val_accuracy: 1.0000\n",
      "Epoch 48/100\n",
      "20/20 [==============================] - 0s 5ms/step - loss: 1.3504e-07 - accuracy: 1.0000 - val_loss: 2.1770e-04 - val_accuracy: 1.0000\n",
      "Epoch 49/100\n",
      "20/20 [==============================] - 0s 5ms/step - loss: 1.3411e-07 - accuracy: 1.0000 - val_loss: 2.1680e-04 - val_accuracy: 1.0000\n",
      "Epoch 50/100\n",
      "20/20 [==============================] - 0s 5ms/step - loss: 1.3243e-07 - accuracy: 1.0000 - val_loss: 2.1583e-04 - val_accuracy: 1.0000\n",
      "Epoch 51/100\n",
      "20/20 [==============================] - 0s 5ms/step - loss: 1.3113e-07 - accuracy: 1.0000 - val_loss: 2.1435e-04 - val_accuracy: 1.0000\n",
      "Epoch 52/100\n",
      "20/20 [==============================] - 0s 5ms/step - loss: 1.2983e-07 - accuracy: 1.0000 - val_loss: 2.1264e-04 - val_accuracy: 1.0000\n",
      "Epoch 53/100\n",
      "20/20 [==============================] - 0s 6ms/step - loss: 1.2852e-07 - accuracy: 1.0000 - val_loss: 2.1115e-04 - val_accuracy: 1.0000\n",
      "Epoch 54/100\n",
      "20/20 [==============================] - 0s 5ms/step - loss: 1.2722e-07 - accuracy: 1.0000 - val_loss: 2.0985e-04 - val_accuracy: 1.0000\n",
      "Epoch 55/100\n",
      "20/20 [==============================] - 0s 4ms/step - loss: 1.2573e-07 - accuracy: 1.0000 - val_loss: 2.0912e-04 - val_accuracy: 1.0000\n",
      "Epoch 56/100\n",
      "20/20 [==============================] - 0s 4ms/step - loss: 1.2424e-07 - accuracy: 1.0000 - val_loss: 2.0837e-04 - val_accuracy: 1.0000\n",
      "Epoch 57/100\n",
      "20/20 [==============================] - 0s 5ms/step - loss: 1.2219e-07 - accuracy: 1.0000 - val_loss: 2.0751e-04 - val_accuracy: 1.0000\n",
      "Epoch 58/100\n",
      "20/20 [==============================] - 0s 5ms/step - loss: 1.2144e-07 - accuracy: 1.0000 - val_loss: 2.0646e-04 - val_accuracy: 1.0000\n",
      "Epoch 59/100\n",
      "20/20 [==============================] - 0s 4ms/step - loss: 1.2014e-07 - accuracy: 1.0000 - val_loss: 2.0530e-04 - val_accuracy: 1.0000\n",
      "Epoch 60/100\n",
      "20/20 [==============================] - 0s 5ms/step - loss: 1.1846e-07 - accuracy: 1.0000 - val_loss: 2.0428e-04 - val_accuracy: 1.0000\n",
      "Epoch 61/100\n",
      "20/20 [==============================] - 0s 4ms/step - loss: 1.1679e-07 - accuracy: 1.0000 - val_loss: 2.0326e-04 - val_accuracy: 1.0000\n",
      "Epoch 62/100\n",
      "20/20 [==============================] - 0s 5ms/step - loss: 1.1548e-07 - accuracy: 1.0000 - val_loss: 2.0220e-04 - val_accuracy: 1.0000\n",
      "Epoch 63/100\n",
      "20/20 [==============================] - 0s 5ms/step - loss: 1.1455e-07 - accuracy: 1.0000 - val_loss: 2.0142e-04 - val_accuracy: 1.0000\n",
      "Epoch 64/100\n",
      "20/20 [==============================] - 0s 4ms/step - loss: 1.1362e-07 - accuracy: 1.0000 - val_loss: 2.0070e-04 - val_accuracy: 1.0000\n",
      "Epoch 65/100\n",
      "20/20 [==============================] - 0s 5ms/step - loss: 1.1232e-07 - accuracy: 1.0000 - val_loss: 1.9973e-04 - val_accuracy: 1.0000\n",
      "Epoch 66/100\n",
      "20/20 [==============================] - 0s 4ms/step - loss: 1.1139e-07 - accuracy: 1.0000 - val_loss: 1.9864e-04 - val_accuracy: 1.0000\n",
      "Epoch 67/100\n",
      "20/20 [==============================] - 0s 4ms/step - loss: 1.1101e-07 - accuracy: 1.0000 - val_loss: 1.9765e-04 - val_accuracy: 1.0000\n",
      "Epoch 68/100\n",
      "20/20 [==============================] - 0s 4ms/step - loss: 1.0952e-07 - accuracy: 1.0000 - val_loss: 1.9701e-04 - val_accuracy: 1.0000\n",
      "Epoch 69/100\n",
      "20/20 [==============================] - 0s 5ms/step - loss: 1.0766e-07 - accuracy: 1.0000 - val_loss: 1.9680e-04 - val_accuracy: 1.0000\n",
      "Epoch 70/100\n",
      "20/20 [==============================] - 0s 4ms/step - loss: 1.0598e-07 - accuracy: 1.0000 - val_loss: 1.9643e-04 - val_accuracy: 1.0000\n",
      "Epoch 71/100\n",
      "20/20 [==============================] - 0s 5ms/step - loss: 1.0543e-07 - accuracy: 1.0000 - val_loss: 1.9608e-04 - val_accuracy: 1.0000\n",
      "Epoch 72/100\n",
      "20/20 [==============================] - 0s 4ms/step - loss: 1.0524e-07 - accuracy: 1.0000 - val_loss: 1.9572e-04 - val_accuracy: 1.0000\n",
      "Epoch 73/100\n",
      "20/20 [==============================] - 0s 4ms/step - loss: 1.0412e-07 - accuracy: 1.0000 - val_loss: 1.9526e-04 - val_accuracy: 1.0000\n",
      "Epoch 74/100\n",
      "20/20 [==============================] - 0s 5ms/step - loss: 1.0207e-07 - accuracy: 1.0000 - val_loss: 1.9490e-04 - val_accuracy: 1.0000\n",
      "Epoch 75/100\n",
      "20/20 [==============================] - 0s 4ms/step - loss: 1.0096e-07 - accuracy: 1.0000 - val_loss: 1.9489e-04 - val_accuracy: 1.0000\n",
      "Epoch 76/100\n",
      "20/20 [==============================] - 0s 4ms/step - loss: 9.9651e-08 - accuracy: 1.0000 - val_loss: 1.9485e-04 - val_accuracy: 1.0000\n",
      "Epoch 77/100\n",
      "20/20 [==============================] - 0s 4ms/step - loss: 9.8161e-08 - accuracy: 1.0000 - val_loss: 1.9516e-04 - val_accuracy: 1.0000\n",
      "Epoch 78/100\n",
      "20/20 [==============================] - 0s 4ms/step - loss: 9.6671e-08 - accuracy: 1.0000 - val_loss: 1.9556e-04 - val_accuracy: 1.0000\n",
      "Epoch 79/100\n",
      "20/20 [==============================] - 0s 4ms/step - loss: 9.5367e-08 - accuracy: 1.0000 - val_loss: 1.9616e-04 - val_accuracy: 1.0000\n",
      "Epoch 80/100\n",
      "20/20 [==============================] - 0s 5ms/step - loss: 9.3877e-08 - accuracy: 1.0000 - val_loss: 1.9672e-04 - val_accuracy: 1.0000\n",
      "Epoch 81/100\n",
      "20/20 [==============================] - 0s 5ms/step - loss: 9.2946e-08 - accuracy: 1.0000 - val_loss: 1.9713e-04 - val_accuracy: 1.0000\n",
      "Epoch 82/100\n",
      "20/20 [==============================] - 0s 4ms/step - loss: 9.1642e-08 - accuracy: 1.0000 - val_loss: 1.9707e-04 - val_accuracy: 1.0000\n",
      "Epoch 83/100\n",
      "20/20 [==============================] - 0s 5ms/step - loss: 9.0338e-08 - accuracy: 1.0000 - val_loss: 1.9717e-04 - val_accuracy: 1.0000\n",
      "Epoch 84/100\n",
      "20/20 [==============================] - 0s 5ms/step - loss: 8.9221e-08 - accuracy: 1.0000 - val_loss: 1.9733e-04 - val_accuracy: 1.0000\n",
      "Epoch 85/100\n",
      "20/20 [==============================] - 0s 4ms/step - loss: 8.8662e-08 - accuracy: 1.0000 - val_loss: 1.9701e-04 - val_accuracy: 1.0000\n",
      "Epoch 86/100\n",
      "20/20 [==============================] - 0s 4ms/step - loss: 8.7544e-08 - accuracy: 1.0000 - val_loss: 1.9587e-04 - val_accuracy: 1.0000\n",
      "Epoch 87/100\n",
      "20/20 [==============================] - 0s 5ms/step - loss: 8.6985e-08 - accuracy: 1.0000 - val_loss: 1.9461e-04 - val_accuracy: 1.0000\n",
      "Epoch 88/100\n",
      "20/20 [==============================] - 0s 4ms/step - loss: 8.6054e-08 - accuracy: 1.0000 - val_loss: 1.9310e-04 - val_accuracy: 1.0000\n",
      "Epoch 89/100\n",
      "20/20 [==============================] - 0s 5ms/step - loss: 8.5309e-08 - accuracy: 1.0000 - val_loss: 1.9142e-04 - val_accuracy: 1.0000\n",
      "Epoch 90/100\n",
      "20/20 [==============================] - 0s 5ms/step - loss: 8.4378e-08 - accuracy: 1.0000 - val_loss: 1.8984e-04 - val_accuracy: 1.0000\n",
      "Epoch 91/100\n",
      "20/20 [==============================] - 0s 5ms/step - loss: 8.3260e-08 - accuracy: 1.0000 - val_loss: 1.8805e-04 - val_accuracy: 1.0000\n",
      "Epoch 92/100\n",
      "20/20 [==============================] - 0s 4ms/step - loss: 8.2515e-08 - accuracy: 1.0000 - val_loss: 1.8651e-04 - val_accuracy: 1.0000\n",
      "Epoch 93/100\n",
      "20/20 [==============================] - 0s 4ms/step - loss: 8.1398e-08 - accuracy: 1.0000 - val_loss: 1.8504e-04 - val_accuracy: 1.0000\n",
      "Epoch 94/100\n",
      "20/20 [==============================] - 0s 4ms/step - loss: 8.0466e-08 - accuracy: 1.0000 - val_loss: 1.8349e-04 - val_accuracy: 1.0000\n",
      "Epoch 95/100\n",
      "20/20 [==============================] - 0s 5ms/step - loss: 7.9535e-08 - accuracy: 1.0000 - val_loss: 1.8213e-04 - val_accuracy: 1.0000\n",
      "Epoch 96/100\n",
      "20/20 [==============================] - 0s 4ms/step - loss: 7.8604e-08 - accuracy: 1.0000 - val_loss: 1.8028e-04 - val_accuracy: 1.0000\n",
      "Epoch 97/100\n",
      "20/20 [==============================] - 0s 4ms/step - loss: 7.8231e-08 - accuracy: 1.0000 - val_loss: 1.7858e-04 - val_accuracy: 1.0000\n",
      "Epoch 98/100\n",
      "20/20 [==============================] - 0s 4ms/step - loss: 7.6927e-08 - accuracy: 1.0000 - val_loss: 1.7799e-04 - val_accuracy: 1.0000\n",
      "Epoch 99/100\n",
      "20/20 [==============================] - 0s 5ms/step - loss: 7.5810e-08 - accuracy: 1.0000 - val_loss: 1.7791e-04 - val_accuracy: 1.0000\n",
      "Epoch 100/100\n",
      "20/20 [==============================] - 0s 4ms/step - loss: 7.4878e-08 - accuracy: 1.0000 - val_loss: 1.7786e-04 - val_accuracy: 1.0000\n"
     ]
    }
   ],
   "source": [
    "history = model.fit(\n",
    "    train_spec_ds,\n",
    "    validation_data=val_spec_ds,\n",
    "    epochs=100,\n",
    ")"
   ]
  },
  {
   "cell_type": "code",
   "execution_count": 35,
   "metadata": {},
   "outputs": [
    {
     "name": "stdout",
     "output_type": "stream",
     "text": [
      "saving skipped\n"
     ]
    }
   ],
   "source": [
    "%%script echo saving skipped\n",
    "\n",
    "model.save(\"/home/david/spiced_projects/final_project/models/voice_command_model_small_v2.h5\", save_format='h5', overwrite=False)\n",
    "print(\"Model saved!\")"
   ]
  },
  {
   "cell_type": "markdown",
   "metadata": {},
   "source": [
    "model evaluation"
   ]
  },
  {
   "cell_type": "code",
   "execution_count": 36,
   "metadata": {},
   "outputs": [
    {
     "data": {
      "image/png": "[encoded data removed]",
      "text/plain": [
       "<Figure size 1800x800 with 1 Axes>"
      ]
     },
     "metadata": {},
     "output_type": "display_data"
    }
   ],
   "source": [
    "r = 4/9\n",
    "s = 18\n",
    "pd.DataFrame(history.history).plot(figsize=(s,s*r))\n",
    "plt.ylim([-0.1,1.1])\n",
    "plt.title(\"Model Summary\")\n",
    "plt.xlabel(\"epochs\");"
   ]
  },
  {
   "cell_type": "code",
   "execution_count": 37,
   "metadata": {},
   "outputs": [
    {
     "name": "stdout",
     "output_type": "stream",
     "text": [
      "Found 80 files belonging to 8 classes.\n"
     ]
    }
   ],
   "source": [
    "test_ds = tf.keras.utils.audio_dataset_from_directory(\n",
    "    directory='/home/david/spiced_projects/final_project/data/test',\n",
    "    output_sequence_length=input_samplerate,\n",
    "    batch_size=5,\n",
    "    shuffle=False\n",
    ")"
   ]
  },
  {
   "cell_type": "code",
   "execution_count": 38,
   "metadata": {},
   "outputs": [],
   "source": [
    "test_squeezed_ds = make_squeezed_ds(test_ds)\n",
    "test_spec_ds = make_spec_ds(test_squeezed_ds)\n",
    "test_spec_ds = test_spec_ds.cache().prefetch(tf.data.AUTOTUNE)"
   ]
  },
  {
   "cell_type": "code",
   "execution_count": 54,
   "metadata": {},
   "outputs": [
    {
     "name": "stdout",
     "output_type": "stream",
     "text": [
      " 1/16 [>.............................] - ETA: 0s"
     ]
    },
    {
     "name": "stdout",
     "output_type": "stream",
     "text": [
      "16/16 [==============================] - 0s 2ms/step\n"
     ]
    }
   ],
   "source": [
    "y_pred = tf.argmax(tf.nn.softmax(model.predict(test_spec_ds)), axis=1)\n",
    "y_true = tf.concat(list(test_spec_ds.map(lambda _, label: label)), axis=0)"
   ]
  },
  {
   "cell_type": "code",
   "execution_count": 55,
   "metadata": {},
   "outputs": [
    {
     "data": {
      "image/png": "[encoded data removed]",
      "text/plain": [
       "<Figure size 1800x800 with 2 Axes>"
      ]
     },
     "metadata": {},
     "output_type": "display_data"
    }
   ],
   "source": [
    "cmx = tf.math.confusion_matrix(y_true, y_pred)\n",
    "plt.figure(figsize=(18, 18*(4/9)))\n",
    "sns.heatmap(cmx,\n",
    "            xticklabels=label_names,\n",
    "            yticklabels=label_names,\n",
    "            annot=True,\n",
    "            fmt='g'\n",
    "            )\n",
    "plt.xlabel('Predicted Label', {\"fontsize\": \"x-large\"})\n",
    "plt.ylabel('True Label', {\"fontsize\": \"x-large\"})\n",
    "plt.show()"
   ]
  }
 ],
 "metadata": {
  "kernelspec": {
   "display_name": "tf-gpu",
   "language": "python",
   "name": "python3"
  },
  "language_info": {
   "codemirror_mode": {
    "name": "ipython",
    "version": 3
   },
   "file_extension": ".py",
   "mimetype": "text/x-python",
   "name": "python",
   "nbconvert_exporter": "python",
   "pygments_lexer": "ipython3",
   "version": "3.9.16"
  },
  "orig_nbformat": 4
 },
 "nbformat": 4,
 "nbformat_minor": 2
}
