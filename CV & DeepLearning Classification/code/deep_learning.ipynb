{
 "cells": [
  {
   "cell_type": "code",
   "execution_count": null,
   "metadata": {},
   "outputs": [],
   "source": [
    "from config import classes\n",
    "\n",
    "import os\n",
    "import numpy as np\n",
    "import pandas as pd\n",
    "from matplotlib import pyplot as plt\n",
    "from PIL import Image as im\n",
    "\n",
    "if os.environ['CONDA_PREFIX'] == '/home/david/.miniforge3/envs/tf-gpu':\n",
    "    import tensorrt\n",
    "\n",
    "import tensorflow as tf\n",
    "load_img   = tf.keras.preprocessing.image.load_img\n",
    "load_model = tf.keras.models.load_model "
   ]
  },
  {
   "cell_type": "code",
   "execution_count": null,
   "metadata": {},
   "outputs": [],
   "source": [
    "data_dir = '../pics/'\n",
    "img_height = 224\n",
    "img_width  = 224\n",
    "\n",
    "dataset = tf.keras.utils.image_dataset_from_directory(\n",
    "  data_dir,\n",
    "  image_size=(img_height, img_width),\n",
    "  seed=42\n",
    ")\n",
    "\n",
    "X, y = [], []\n",
    "\n",
    "for image, label in dataset:\n",
    "    X.append(image)\n",
    "    y.append(label)\n",
    "\n",
    "X = np.concatenate(X)\n",
    "y = np.concatenate(y)"
   ]
  },
  {
   "cell_type": "code",
   "execution_count": 3,
   "metadata": {},
   "outputs": [
    {
     "name": "stdout",
     "output_type": "stream",
     "text": [
      "skip\n"
     ]
    }
   ],
   "source": [
    "%%script echo skip\n",
    "\n",
    "data_dir = '../pics/'\n",
    "img_height = 224\n",
    "img_width  = 224\n",
    "\n",
    "train_ds = tf.keras.utils.image_dataset_from_directory(\n",
    "  data_dir,\n",
    "  validation_split=0.2,\n",
    "  subset=\"training\",\n",
    "  seed=42,\n",
    "  image_size=(img_height, img_width),\n",
    ")\n",
    "\n",
    "test_ds = tf.keras.utils.image_dataset_from_directory(\n",
    "  data_dir,\n",
    "  validation_split=0.2,\n",
    "  subset=\"validation\",\n",
    "  seed=42,\n",
    "  image_size=(img_height, img_width),\n",
    ")\n"
   ]
  },
  {
   "cell_type": "code",
   "execution_count": 4,
   "metadata": {},
   "outputs": [
    {
     "name": "stdout",
     "output_type": "stream",
     "text": [
      "skip\n"
     ]
    }
   ],
   "source": [
    "%%script echo skip\n",
    "\n",
    "Xtrain, ytrain, Xtest, ytest = [],[],[],[]\n",
    "\n",
    "for image, label in train_ds:\n",
    "    Xtrain.append(image)\n",
    "    ytrain.append(label)\n",
    "\n",
    "for image, label in test_ds:\n",
    "    Xtest.append(image)\n",
    "    ytest.append(label)\n",
    "\n",
    "Xtrain = np.concatenate(Xtrain)\n",
    "Xtest  = np.concatenate(Xtest)\n",
    "ytrain = np.concatenate(ytrain)\n",
    "ytest  = np.concatenate(ytest)"
   ]
  },
  {
   "cell_type": "code",
   "execution_count": 5,
   "metadata": {},
   "outputs": [],
   "source": [
    "#Xtrain.shape, Xtest.shape"
   ]
  },
  {
   "cell_type": "code",
   "execution_count": 6,
   "metadata": {},
   "outputs": [],
   "source": [
    "#ytrain.shape, ytest.shape"
   ]
  },
  {
   "cell_type": "code",
   "execution_count": 7,
   "metadata": {},
   "outputs": [
    {
     "name": "stdout",
     "output_type": "stream",
     "text": [
      "skip\n"
     ]
    }
   ],
   "source": [
    "%%script echo skip\n",
    "\n",
    "X = []\n",
    "y = []\n",
    "base_path = '../pics'\n",
    "\n",
    "\n",
    "for i, target in enumerate(classes):\n",
    "      \n",
    "      files = os.listdir(base_path+'/'+target)\n",
    "      for file in files:\n",
    "\n",
    "         img = load_img(base_path+'/'+target+'/'+file)\n",
    "         img_array = np.asarray(img)\n",
    "         X.append(img_array)\n",
    "         y.append(i)\n",
    "\n",
    "\n",
    "X = np.array(X)\n",
    "y = np.array(y)\n",
    "\n",
    "shuffler = np.random.permutation(len(X))\n",
    "X = X[shuffler]\n",
    "y = y[shuffler]"
   ]
  },
  {
   "cell_type": "code",
   "execution_count": 8,
   "metadata": {},
   "outputs": [
    {
     "data": {
      "text/plain": [
       "((732, 224, 224, 3), (732,))"
      ]
     },
     "execution_count": 8,
     "metadata": {},
     "output_type": "execute_result"
    }
   ],
   "source": [
    "X.shape, y.shape"
   ]
  },
  {
   "cell_type": "code",
   "execution_count": 9,
   "metadata": {},
   "outputs": [],
   "source": [
    "tf.keras.backend.clear_session()\n",
    "\n",
    "\n",
    "ll_neurons = len(classes)\n",
    "filters    = 16\n",
    "ksize      = 3\n",
    "av         = 'relu'\n",
    "\n",
    "\n",
    "model = tf.keras.Sequential([\n",
    "  \n",
    "  tf.keras.layers.Rescaling(1/255, input_shape=X.shape[1:]),\n",
    "  \n",
    "  tf.keras.layers.Conv2D(filters, ksize, activation=av),\n",
    "  tf.keras.layers.MaxPooling2D(),\n",
    "  \n",
    "  tf.keras.layers.Conv2D(filters*2, ksize, activation=av),\n",
    "  tf.keras.layers.MaxPooling2D(),\n",
    "  \n",
    "  tf.keras.layers.Conv2D(filters*4, ksize, activation=av),\n",
    "  tf.keras.layers.MaxPooling2D(),\n",
    "  \n",
    "  tf.keras.layers.Flatten(),\n",
    "  \n",
    "  tf.keras.layers.Dense(units=filters*8, activation=av),\n",
    "  \n",
    "  tf.keras.layers.Dense(ll_neurons, activation='softmax')\n",
    "])\n"
   ]
  },
  {
   "cell_type": "code",
   "execution_count": 10,
   "metadata": {},
   "outputs": [],
   "source": [
    "model.compile(\n",
    "  optimizer=tf.keras.optimizers.Adam(),\n",
    "  loss=tf.keras.losses.categorical_crossentropy,\n",
    "  metrics=['accuracy']\n",
    ")"
   ]
  },
  {
   "cell_type": "code",
   "execution_count": null,
   "metadata": {},
   "outputs": [],
   "source": [
    "history = model.fit(\n",
    "  X,\n",
    "  tf.keras.utils.to_categorical(y),\n",
    "  epochs=4,\n",
    "  batch_size=4,\n",
    "  validation_split=0.2\n",
    ")"
   ]
  },
  {
   "cell_type": "code",
   "execution_count": 7,
   "metadata": {},
   "outputs": [
    {
     "name": "stdout",
     "output_type": "stream",
     "text": [
      "skipped model saving!\n"
     ]
    }
   ],
   "source": [
    "%%script echo skipped model saving!\n",
    "\n",
    "model.save(\"model.h5\")\n",
    "print(\"Model saved!\")"
   ]
  },
  {
   "cell_type": "code",
   "execution_count": 12,
   "metadata": {},
   "outputs": [
    {
     "data": {
      "text/plain": [
       "Text(0.5, 0, 'epochs')"
      ]
     },
     "execution_count": 12,
     "metadata": {},
     "output_type": "execute_result"
    },
    {
     "data": {
      "image/png": "[encoded data removed]",
      "text/plain": [
       "<Figure size 640x480 with 1 Axes>"
      ]
     },
     "metadata": {},
     "output_type": "display_data"
    }
   ],
   "source": [
    "plt.style.use('ggplot')\n",
    "pd.DataFrame(history.history).plot()\n",
    "plt.ylim([-0.1,1.1])\n",
    "plt.title(\"Model Summary\")\n",
    "plt.xlabel(\"epochs\")"
   ]
  },
  {
   "cell_type": "code",
   "execution_count": 2,
   "metadata": {},
   "outputs": [],
   "source": [
    "model = load_model(\"model.h5\")"
   ]
  },
  {
   "cell_type": "code",
   "execution_count": 13,
   "metadata": {},
   "outputs": [
    {
     "name": "stdout",
     "output_type": "stream",
     "text": [
      "23/23 [==============================] - 1s 14ms/step\n"
     ]
    }
   ],
   "source": [
    "preds = model.predict(X)"
   ]
  },
  {
   "cell_type": "code",
   "execution_count": null,
   "metadata": {},
   "outputs": [],
   "source": [
    "n = np.random.randint(0,len(X))\n",
    "print(f\"Prediction: {classes[np.argmax(preds[n])]}\")\n",
    "print(f\"True:       {classes[y[n]]}\")\n",
    "#im.fromarray(X[n])\n",
    "tf.keras.utils.array_to_img(X[n])"
   ]
  }
 ],
 "metadata": {
  "kernelspec": {
   "display_name": "tf-cpu",
   "language": "python",
   "name": "python3"
  },
  "language_info": {
   "codemirror_mode": {
    "name": "ipython",
    "version": 3
   },
   "file_extension": ".py",
   "mimetype": "text/x-python",
   "name": "python",
   "nbconvert_exporter": "python",
   "pygments_lexer": "ipython3",
   "version": "3.9.16"
  },
  "orig_nbformat": 4
 },
 "nbformat": 4,
 "nbformat_minor": 2
}
