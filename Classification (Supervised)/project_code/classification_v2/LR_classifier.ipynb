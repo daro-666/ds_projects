{
 "cells": [
  {
   "attachments": {},
   "cell_type": "markdown",
   "metadata": {},
   "source": [
    "Setup"
   ]
  },
  {
   "cell_type": "code",
   "execution_count": 1,
   "metadata": {},
   "outputs": [
    {
     "data": {
      "text/plain": [
       "Index(['Survived', 'Pclass', 'Name', 'Sex', 'Age', 'SibSp', 'Parch', 'Ticket',\n",
       "       'Fare', 'Cabin', 'Embarked', 'AgeClass', 'is_middleaged', 'is_old',\n",
       "       'is_Male', 'is_Pclass_2', 'is_Pclass_3', 'emb_q', 'emb_s',\n",
       "       'has_relatives', 'scld_Age', 'scld_Fare'],\n",
       "      dtype='object')"
      ]
     },
     "execution_count": 1,
     "metadata": {},
     "output_type": "execute_result"
    }
   ],
   "source": [
    "import pandas as pd\n",
    "import numpy as np\n",
    "from sklearn.linear_model import LogisticRegression\n",
    "from sklearn.model_selection import train_test_split\n",
    "from sklearn.metrics import precision_score, recall_score, f1_score, accuracy_score, confusion_matrix, RocCurveDisplay, roc_curve, auc\n",
    "from matplotlib import pyplot as plt\n",
    "import seaborn as sns\n",
    "\n",
    "titanicdf = pd.read_csv(\"../../data/train_v1_fe.csv\", index_col=0)\n",
    "titanicdf.columns"
   ]
  },
  {
   "cell_type": "code",
   "execution_count": 2,
   "metadata": {},
   "outputs": [],
   "source": [
    "y = titanicdf[\"Survived\"]\n",
    "X = titanicdf[['is_Male', 'is_Pclass_2', 'is_Pclass_3', 'emb_q', 'emb_s', 'has_relatives', 'scld_Age', 'scld_Fare']]"
   ]
  },
  {
   "cell_type": "code",
   "execution_count": 3,
   "metadata": {},
   "outputs": [],
   "source": [
    "X_train, X_test, y_train, y_test = train_test_split(X,y, test_size=0.2, random_state=42)"
   ]
  },
  {
   "cell_type": "code",
   "execution_count": 4,
   "metadata": {},
   "outputs": [],
   "source": [
    "m_lr = LogisticRegression()#class_weight=\"balanced\")"
   ]
  },
  {
   "cell_type": "code",
   "execution_count": 5,
   "metadata": {},
   "outputs": [
    {
     "data": {
      "text/html": [
       "<style>#sk-container-id-1 {color: black;background-color: white;}#sk-container-id-1 pre{padding: 0;}#sk-container-id-1 div.sk-toggleable {background-color: white;}#sk-container-id-1 label.sk-toggleable__label {cursor: pointer;display: block;width: 100%;margin-bottom: 0;padding: 0.3em;box-sizing: border-box;text-align: center;}#sk-container-id-1 label.sk-toggleable__label-arrow:before {content: \"▸\";float: left;margin-right: 0.25em;color: #696969;}#sk-container-id-1 label.sk-toggleable__label-arrow:hover:before {color: black;}#sk-container-id-1 div.sk-estimator:hover label.sk-toggleable__label-arrow:before {color: black;}#sk-container-id-1 div.sk-toggleable__content {max-height: 0;max-width: 0;overflow: hidden;text-align: left;background-color: #f0f8ff;}#sk-container-id-1 div.sk-toggleable__content pre {margin: 0.2em;color: black;border-radius: 0.25em;background-color: #f0f8ff;}#sk-container-id-1 input.sk-toggleable__control:checked~div.sk-toggleable__content {max-height: 200px;max-width: 100%;overflow: auto;}#sk-container-id-1 input.sk-toggleable__control:checked~label.sk-toggleable__label-arrow:before {content: \"▾\";}#sk-container-id-1 div.sk-estimator input.sk-toggleable__control:checked~label.sk-toggleable__label {background-color: #d4ebff;}#sk-container-id-1 div.sk-label input.sk-toggleable__control:checked~label.sk-toggleable__label {background-color: #d4ebff;}#sk-container-id-1 input.sk-hidden--visually {border: 0;clip: rect(1px 1px 1px 1px);clip: rect(1px, 1px, 1px, 1px);height: 1px;margin: -1px;overflow: hidden;padding: 0;position: absolute;width: 1px;}#sk-container-id-1 div.sk-estimator {font-family: monospace;background-color: #f0f8ff;border: 1px dotted black;border-radius: 0.25em;box-sizing: border-box;margin-bottom: 0.5em;}#sk-container-id-1 div.sk-estimator:hover {background-color: #d4ebff;}#sk-container-id-1 div.sk-parallel-item::after {content: \"\";width: 100%;border-bottom: 1px solid gray;flex-grow: 1;}#sk-container-id-1 div.sk-label:hover label.sk-toggleable__label {background-color: #d4ebff;}#sk-container-id-1 div.sk-serial::before {content: \"\";position: absolute;border-left: 1px solid gray;box-sizing: border-box;top: 0;bottom: 0;left: 50%;z-index: 0;}#sk-container-id-1 div.sk-serial {display: flex;flex-direction: column;align-items: center;background-color: white;padding-right: 0.2em;padding-left: 0.2em;position: relative;}#sk-container-id-1 div.sk-item {position: relative;z-index: 1;}#sk-container-id-1 div.sk-parallel {display: flex;align-items: stretch;justify-content: center;background-color: white;position: relative;}#sk-container-id-1 div.sk-item::before, #sk-container-id-1 div.sk-parallel-item::before {content: \"\";position: absolute;border-left: 1px solid gray;box-sizing: border-box;top: 0;bottom: 0;left: 50%;z-index: -1;}#sk-container-id-1 div.sk-parallel-item {display: flex;flex-direction: column;z-index: 1;position: relative;background-color: white;}#sk-container-id-1 div.sk-parallel-item:first-child::after {align-self: flex-end;width: 50%;}#sk-container-id-1 div.sk-parallel-item:last-child::after {align-self: flex-start;width: 50%;}#sk-container-id-1 div.sk-parallel-item:only-child::after {width: 0;}#sk-container-id-1 div.sk-dashed-wrapped {border: 1px dashed gray;margin: 0 0.4em 0.5em 0.4em;box-sizing: border-box;padding-bottom: 0.4em;background-color: white;}#sk-container-id-1 div.sk-label label {font-family: monospace;font-weight: bold;display: inline-block;line-height: 1.2em;}#sk-container-id-1 div.sk-label-container {text-align: center;}#sk-container-id-1 div.sk-container {/* jupyter's `normalize.less` sets `[hidden] { display: none; }` but bootstrap.min.css set `[hidden] { display: none !important; }` so we also need the `!important` here to be able to override the default hidden behavior on the sphinx rendered scikit-learn.org. See: https://github.com/scikit-learn/scikit-learn/issues/21755 */display: inline-block !important;position: relative;}#sk-container-id-1 div.sk-text-repr-fallback {display: none;}</style><div id=\"sk-container-id-1\" class=\"sk-top-container\"><div class=\"sk-text-repr-fallback\"><pre>LogisticRegression()</pre><b>In a Jupyter environment, please rerun this cell to show the HTML representation or trust the notebook. <br />On GitHub, the HTML representation is unable to render, please try loading this page with nbviewer.org.</b></div><div class=\"sk-container\" hidden><div class=\"sk-item\"><div class=\"sk-estimator sk-toggleable\"><input class=\"sk-toggleable__control sk-hidden--visually\" id=\"sk-estimator-id-1\" type=\"checkbox\" checked><label for=\"sk-estimator-id-1\" class=\"sk-toggleable__label sk-toggleable__label-arrow\">LogisticRegression</label><div class=\"sk-toggleable__content\"><pre>LogisticRegression()</pre></div></div></div></div></div>"
      ],
      "text/plain": [
       "LogisticRegression()"
      ]
     },
     "execution_count": 5,
     "metadata": {},
     "output_type": "execute_result"
    }
   ],
   "source": [
    "m_lr.fit(X_train, y_train)"
   ]
  },
  {
   "attachments": {},
   "cell_type": "markdown",
   "metadata": {},
   "source": [
    "Display Keys, coefficients and intecept of model"
   ]
  },
  {
   "cell_type": "code",
   "execution_count": 6,
   "metadata": {},
   "outputs": [
    {
     "data": {
      "text/plain": [
       "(Index(['is_Male', 'is_Pclass_2', 'is_Pclass_3', 'emb_q', 'emb_s',\n",
       "        'has_relatives', 'scld_Age', 'scld_Fare'],\n",
       "       dtype='object'),\n",
       " array([-2.45006632, -0.44194252, -1.72472988, -0.13446361, -0.60333457,\n",
       "        -0.02941794, -1.3276559 ,  0.44592498]),\n",
       " 2.922084695172682)"
      ]
     },
     "execution_count": 6,
     "metadata": {},
     "output_type": "execute_result"
    }
   ],
   "source": [
    "X_train.keys(), m_lr.coef_[0], m_lr.intercept_[0]"
   ]
  },
  {
   "attachments": {},
   "cell_type": "markdown",
   "metadata": {},
   "source": [
    "Visualization of model predictions /w probabilities"
   ]
  },
  {
   "cell_type": "code",
   "execution_count": 7,
   "metadata": {},
   "outputs": [
    {
     "data": {
      "text/html": [
       "<div>\n",
       "<style scoped>\n",
       "    .dataframe tbody tr th:only-of-type {\n",
       "        vertical-align: middle;\n",
       "    }\n",
       "\n",
       "    .dataframe tbody tr th {\n",
       "        vertical-align: top;\n",
       "    }\n",
       "\n",
       "    .dataframe thead th {\n",
       "        text-align: right;\n",
       "    }\n",
       "</style>\n",
       "<table border=\"1\" class=\"dataframe\">\n",
       "  <thead>\n",
       "    <tr style=\"text-align: right;\">\n",
       "      <th></th>\n",
       "      <th>Survived?</th>\n",
       "      <th>prediction</th>\n",
       "      <th>prob for surv</th>\n",
       "      <th>prob for drow</th>\n",
       "    </tr>\n",
       "    <tr>\n",
       "      <th>PassengerId</th>\n",
       "      <th></th>\n",
       "      <th></th>\n",
       "      <th></th>\n",
       "      <th></th>\n",
       "    </tr>\n",
       "  </thead>\n",
       "  <tbody>\n",
       "    <tr>\n",
       "      <th>733</th>\n",
       "      <td>0</td>\n",
       "      <td>0</td>\n",
       "      <td>0.256022</td>\n",
       "      <td>0.743978</td>\n",
       "    </tr>\n",
       "    <tr>\n",
       "      <th>159</th>\n",
       "      <td>0</td>\n",
       "      <td>0</td>\n",
       "      <td>0.087704</td>\n",
       "      <td>0.912296</td>\n",
       "    </tr>\n",
       "    <tr>\n",
       "      <th>21</th>\n",
       "      <td>0</td>\n",
       "      <td>0</td>\n",
       "      <td>0.244616</td>\n",
       "      <td>0.755384</td>\n",
       "    </tr>\n",
       "    <tr>\n",
       "      <th>125</th>\n",
       "      <td>0</td>\n",
       "      <td>0</td>\n",
       "      <td>0.271435</td>\n",
       "      <td>0.728565</td>\n",
       "    </tr>\n",
       "    <tr>\n",
       "      <th>224</th>\n",
       "      <td>0</td>\n",
       "      <td>0</td>\n",
       "      <td>0.087651</td>\n",
       "      <td>0.912349</td>\n",
       "    </tr>\n",
       "    <tr>\n",
       "      <th>428</th>\n",
       "      <td>1</td>\n",
       "      <td>1</td>\n",
       "      <td>0.830540</td>\n",
       "      <td>0.169460</td>\n",
       "    </tr>\n",
       "    <tr>\n",
       "      <th>512</th>\n",
       "      <td>0</td>\n",
       "      <td>0</td>\n",
       "      <td>0.087661</td>\n",
       "      <td>0.912339</td>\n",
       "    </tr>\n",
       "    <tr>\n",
       "      <th>634</th>\n",
       "      <td>0</td>\n",
       "      <td>0</td>\n",
       "      <td>0.348689</td>\n",
       "      <td>0.651311</td>\n",
       "    </tr>\n",
       "    <tr>\n",
       "      <th>69</th>\n",
       "      <td>1</td>\n",
       "      <td>1</td>\n",
       "      <td>0.573193</td>\n",
       "      <td>0.426807</td>\n",
       "    </tr>\n",
       "    <tr>\n",
       "      <th>123</th>\n",
       "      <td>0</td>\n",
       "      <td>0</td>\n",
       "      <td>0.375576</td>\n",
       "      <td>0.624424</td>\n",
       "    </tr>\n",
       "  </tbody>\n",
       "</table>\n",
       "</div>"
      ],
      "text/plain": [
       "             Survived?  prediction  prob for surv  prob for drow\n",
       "PassengerId                                                     \n",
       "733                  0           0       0.256022       0.743978\n",
       "159                  0           0       0.087704       0.912296\n",
       "21                   0           0       0.244616       0.755384\n",
       "125                  0           0       0.271435       0.728565\n",
       "224                  0           0       0.087651       0.912349\n",
       "428                  1           1       0.830540       0.169460\n",
       "512                  0           0       0.087661       0.912339\n",
       "634                  0           0       0.348689       0.651311\n",
       "69                   1           1       0.573193       0.426807\n",
       "123                  0           0       0.375576       0.624424"
      ]
     },
     "execution_count": 7,
     "metadata": {},
     "output_type": "execute_result"
    }
   ],
   "source": [
    "y_train_pred = m_lr.predict(X_train)\n",
    "y_train_pred_prob = m_lr.predict_proba(X_train)\n",
    "\n",
    "eval_tdata = pd.DataFrame()\n",
    "eval_tdata['Survived?'] = y_train\n",
    "eval_tdata['prediction'] = y_train_pred\n",
    "eval_tdata['prob for surv'] = m_lr.predict_proba(X_train)[:,1]\n",
    "eval_tdata['prob for drow'] = m_lr.predict_proba(X_train)[:,0]\n",
    "eval_tdata.sample(10)"
   ]
  },
  {
   "attachments": {},
   "cell_type": "markdown",
   "metadata": {},
   "source": [
    "Accuracy Score"
   ]
  },
  {
   "cell_type": "code",
   "execution_count": 8,
   "metadata": {},
   "outputs": [
    {
     "name": "stdout",
     "output_type": "stream",
     "text": [
      "79.4% of survival-statuses were predicted correctly for train data\n",
      "78.8% of survival-statuses were predicted correctly for test data\n"
     ]
    }
   ],
   "source": [
    "trn_scr = m_lr.score(X_train, y_train)\n",
    "tst_scr = m_lr.score(X_test, y_test)\n",
    "print(f\"{round(trn_scr,3)*100:0.1f}% of survival-statuses were predicted correctly for train data\")\n",
    "print(f\"{round(tst_scr,3)*100:0.1f}% of survival-statuses were predicted correctly for test data\")"
   ]
  },
  {
   "attachments": {},
   "cell_type": "markdown",
   "metadata": {},
   "source": [
    "try 90% and 10% threshholds"
   ]
  },
  {
   "cell_type": "code",
   "execution_count": 9,
   "metadata": {},
   "outputs": [],
   "source": [
    "new_thresh_eval90 = eval_tdata.copy()\n",
    "new_thresh_eval10 = eval_tdata.copy()"
   ]
  },
  {
   "cell_type": "code",
   "execution_count": 10,
   "metadata": {},
   "outputs": [],
   "source": [
    "new_thresh_eval90.loc[new_thresh_eval90[\"prob for surv\"] >= 0.9, \"prob for surv\"] = 1\n",
    "new_thresh_eval90.loc[new_thresh_eval90[\"prob for surv\"] < 0.9, \"prob for surv\"] = 0\n",
    "\n",
    "new_thresh_eval10.loc[new_thresh_eval10[\"prob for surv\"] >= 0.1, \"prob for surv\"] = 1\n",
    "new_thresh_eval10.loc[new_thresh_eval10[\"prob for surv\"] < 0.1, \"prob for surv\"] = 0\n",
    "\n",
    "\n",
    "#new_thresh_eval"
   ]
  },
  {
   "cell_type": "code",
   "execution_count": 11,
   "metadata": {},
   "outputs": [
    {
     "name": "stdout",
     "output_type": "stream",
     "text": [
      "With threshold at 90%, the percentage of correct predictions is: 65.7%\n",
      "With threshold at 10%, the percentage of correct predictions is: 54.4%\n"
     ]
    }
   ],
   "source": [
    "corr_pred90 = (new_thresh_eval90[\"prob for surv\"].astype(int) == new_thresh_eval90[\"Survived?\"]).value_counts()\n",
    "\n",
    "corr_pred10 = (new_thresh_eval10[\"prob for surv\"].astype(int) == new_thresh_eval10[\"Survived?\"]).value_counts()\n",
    "\n",
    "th90 = round(corr_pred90[0] / corr_pred90.sum()*100,1)\n",
    "th10 = round(corr_pred10[0] / corr_pred10.sum()*100,1)\n",
    "\n",
    "print(f\"With threshold at 90%, the percentage of correct predictions is: {th90}%\")\n",
    "print(f\"With threshold at 10%, the percentage of correct predictions is: {th10}%\")"
   ]
  },
  {
   "attachments": {},
   "cell_type": "markdown",
   "metadata": {},
   "source": [
    "Precision-, Recall- and F1-Score"
   ]
  },
  {
   "cell_type": "code",
   "execution_count": 12,
   "metadata": {},
   "outputs": [],
   "source": [
    "ps = precision_score(y_train, y_train_pred)\n",
    "rs = recall_score(y_train, y_train_pred)\n",
    "fs = f1_score(y_train, y_train_pred)"
   ]
  },
  {
   "cell_type": "code",
   "execution_count": 13,
   "metadata": {},
   "outputs": [
    {
     "name": "stdout",
     "output_type": "stream",
     "text": [
      "Precision score = 73.9%\n",
      "Recall score = 69.8%\n",
      "F1 score = 71.8%\n"
     ]
    }
   ],
   "source": [
    "print(f\"Precision score = {round(ps*100,1)}%\")\n",
    "print(f\"Recall score = {round(rs*100,1)}%\")\n",
    "print(f\"F1 score = {round(fs*100,1)}%\")"
   ]
  },
  {
   "attachments": {},
   "cell_type": "markdown",
   "metadata": {},
   "source": [
    "Confusion Matrix"
   ]
  },
  {
   "cell_type": "code",
   "execution_count": 14,
   "metadata": {},
   "outputs": [],
   "source": [
    "cm = confusion_matrix(y_train, y_train_pred)"
   ]
  },
  {
   "cell_type": "code",
   "execution_count": 15,
   "metadata": {},
   "outputs": [
    {
     "data": {
      "image/png": "[encoded data removed]",
      "text/plain": [
       "<Figure size 640x480 with 2 Axes>"
      ]
     },
     "metadata": {},
     "output_type": "display_data"
    }
   ],
   "source": [
    "sns.heatmap(cm,\n",
    "            annot=True,\n",
    "            fmt = 'g'\n",
    "            )\n",
    "plt.xlabel('Predicted')\n",
    "plt.ylabel('Reality')\n",
    "plt.show()"
   ]
  },
  {
   "attachments": {},
   "cell_type": "markdown",
   "metadata": {},
   "source": [
    "ROCurve"
   ]
  },
  {
   "cell_type": "code",
   "execution_count": 16,
   "metadata": {},
   "outputs": [],
   "source": [
    "fpr, tpr, thresholds = roc_curve(y_train, y_train_pred_prob[:,1])\n",
    "roc_auc = auc(fpr, tpr)"
   ]
  },
  {
   "cell_type": "code",
   "execution_count": 17,
   "metadata": {},
   "outputs": [
    {
     "data": {
      "image/png": "[encoded data removed]",
      "text/plain": [
       "<Figure size 640x480 with 1 Axes>"
      ]
     },
     "metadata": {},
     "output_type": "display_data"
    }
   ],
   "source": [
    "dp = RocCurveDisplay(fpr=fpr, tpr=tpr, roc_auc=roc_auc)\n",
    "dp.plot()\n",
    "plt.show()"
   ]
  },
  {
   "attachments": {},
   "cell_type": "markdown",
   "metadata": {},
   "source": [
    "Find optimal threshold"
   ]
  },
  {
   "cell_type": "code",
   "execution_count": 18,
   "metadata": {},
   "outputs": [
    {
     "data": {
      "text/html": [
       "<div>\n",
       "<style scoped>\n",
       "    .dataframe tbody tr th:only-of-type {\n",
       "        vertical-align: middle;\n",
       "    }\n",
       "\n",
       "    .dataframe tbody tr th {\n",
       "        vertical-align: top;\n",
       "    }\n",
       "\n",
       "    .dataframe thead th {\n",
       "        text-align: right;\n",
       "    }\n",
       "</style>\n",
       "<table border=\"1\" class=\"dataframe\">\n",
       "  <thead>\n",
       "    <tr style=\"text-align: right;\">\n",
       "      <th></th>\n",
       "      <th>tpr</th>\n",
       "      <th>fpr</th>\n",
       "      <th>thresholds</th>\n",
       "    </tr>\n",
       "  </thead>\n",
       "  <tbody>\n",
       "    <tr>\n",
       "      <th>0</th>\n",
       "      <td>0.000000</td>\n",
       "      <td>0.000000</td>\n",
       "      <td>1.942536</td>\n",
       "    </tr>\n",
       "    <tr>\n",
       "      <th>1</th>\n",
       "      <td>0.003731</td>\n",
       "      <td>0.000000</td>\n",
       "      <td>0.942536</td>\n",
       "    </tr>\n",
       "    <tr>\n",
       "      <th>2</th>\n",
       "      <td>0.026119</td>\n",
       "      <td>0.000000</td>\n",
       "      <td>0.930931</td>\n",
       "    </tr>\n",
       "    <tr>\n",
       "      <th>3</th>\n",
       "      <td>0.033582</td>\n",
       "      <td>0.000000</td>\n",
       "      <td>0.930151</td>\n",
       "    </tr>\n",
       "    <tr>\n",
       "      <th>4</th>\n",
       "      <td>0.059701</td>\n",
       "      <td>0.000000</td>\n",
       "      <td>0.918821</td>\n",
       "    </tr>\n",
       "    <tr>\n",
       "      <th>...</th>\n",
       "      <td>...</td>\n",
       "      <td>...</td>\n",
       "      <td>...</td>\n",
       "    </tr>\n",
       "    <tr>\n",
       "      <th>243</th>\n",
       "      <td>0.992537</td>\n",
       "      <td>0.941441</td>\n",
       "      <td>0.076644</td>\n",
       "    </tr>\n",
       "    <tr>\n",
       "      <th>244</th>\n",
       "      <td>0.996269</td>\n",
       "      <td>0.943694</td>\n",
       "      <td>0.076365</td>\n",
       "    </tr>\n",
       "    <tr>\n",
       "      <th>245</th>\n",
       "      <td>0.996269</td>\n",
       "      <td>0.968468</td>\n",
       "      <td>0.070693</td>\n",
       "    </tr>\n",
       "    <tr>\n",
       "      <th>246</th>\n",
       "      <td>1.000000</td>\n",
       "      <td>0.968468</td>\n",
       "      <td>0.070686</td>\n",
       "    </tr>\n",
       "    <tr>\n",
       "      <th>247</th>\n",
       "      <td>1.000000</td>\n",
       "      <td>1.000000</td>\n",
       "      <td>0.044073</td>\n",
       "    </tr>\n",
       "  </tbody>\n",
       "</table>\n",
       "<p>248 rows × 3 columns</p>\n",
       "</div>"
      ],
      "text/plain": [
       "          tpr       fpr  thresholds\n",
       "0    0.000000  0.000000    1.942536\n",
       "1    0.003731  0.000000    0.942536\n",
       "2    0.026119  0.000000    0.930931\n",
       "3    0.033582  0.000000    0.930151\n",
       "4    0.059701  0.000000    0.918821\n",
       "..        ...       ...         ...\n",
       "243  0.992537  0.941441    0.076644\n",
       "244  0.996269  0.943694    0.076365\n",
       "245  0.996269  0.968468    0.070693\n",
       "246  1.000000  0.968468    0.070686\n",
       "247  1.000000  1.000000    0.044073\n",
       "\n",
       "[248 rows x 3 columns]"
      ]
     },
     "execution_count": 18,
     "metadata": {},
     "output_type": "execute_result"
    }
   ],
   "source": [
    "roc_params = pd.DataFrame()\n",
    "\n",
    "roc_params[\"tpr\"] = tpr\n",
    "roc_params[\"fpr\"] = fpr\n",
    "roc_params[\"thresholds\"] = thresholds\n",
    "\n",
    "roc_params"
   ]
  },
  {
   "cell_type": "code",
   "execution_count": 19,
   "metadata": {},
   "outputs": [
    {
     "name": "stdout",
     "output_type": "stream",
     "text": [
      "Optimal True-Positive-Rate: 0.7089552238805971\n",
      "Optimal False-Positive-Rate: 0.15090090090090091\n",
      "Optimal Threshold: 0.49070893445651365\n"
     ]
    }
   ],
   "source": [
    "opti = np.argmax(tpr-fpr)\n",
    "\n",
    "print(f\"Optimal True-Positive-Rate: {tpr[opti]}\")\n",
    "print(f\"Optimal False-Positive-Rate: {fpr[opti]}\")\n",
    "print(f\"Optimal Threshold: {thresholds[opti]}\")"
   ]
  }
 ],
 "metadata": {
  "kernelspec": {
   "display_name": "spiced_projects",
   "language": "python",
   "name": "python3"
  },
  "language_info": {
   "codemirror_mode": {
    "name": "ipython",
    "version": 3
   },
   "file_extension": ".py",
   "mimetype": "text/x-python",
   "name": "python",
   "nbconvert_exporter": "python",
   "pygments_lexer": "ipython3",
   "version": "3.11.3"
  },
  "orig_nbformat": 4
 },
 "nbformat": 4,
 "nbformat_minor": 2
}
