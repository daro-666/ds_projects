{
 "cells": [
  {
   "attachments": {},
   "cell_type": "markdown",
   "metadata": {},
   "source": [
    "Setup"
   ]
  },
  {
   "cell_type": "code",
   "execution_count": 145,
   "metadata": {},
   "outputs": [
    {
     "data": {
      "text/plain": [
       "Index(['Survived', 'Pclass', 'Name', 'Sex', 'Age', 'SibSp', 'Parch', 'Ticket',\n",
       "       'Fare', 'Cabin', 'Embarked', 'AgeClass', 'is_middleaged', 'is_old',\n",
       "       'is_Male', 'is_Pclass_2', 'is_Pclass_3', 'emb_q', 'emb_s',\n",
       "       'has_relatives', 'scld_Age', 'scld_Fare'],\n",
       "      dtype='object')"
      ]
     },
     "execution_count": 145,
     "metadata": {},
     "output_type": "execute_result"
    }
   ],
   "source": [
    "import pandas as pd\n",
    "import numpy as np\n",
    "from sklearn.ensemble import RandomForestClassifier\n",
    "from sklearn.model_selection import train_test_split\n",
    "from sklearn.metrics import precision_score, recall_score, f1_score, accuracy_score, confusion_matrix, RocCurveDisplay, roc_curve, auc\n",
    "from matplotlib import pyplot as plt\n",
    "import seaborn as sns\n",
    "\n",
    "titanicdf = pd.read_csv(\"../../data/train_v1_fe.csv\", index_col=0)\n",
    "titanicdf.columns"
   ]
  },
  {
   "cell_type": "code",
   "execution_count": 146,
   "metadata": {},
   "outputs": [],
   "source": [
    "y = titanicdf[\"Survived\"]\n",
    "X = titanicdf[['is_Male', 'is_Pclass_2', 'is_Pclass_3', 'emb_q', 'emb_s', 'has_relatives', 'scld_Age', 'scld_Fare']]"
   ]
  },
  {
   "cell_type": "code",
   "execution_count": 147,
   "metadata": {},
   "outputs": [],
   "source": [
    "X_train, X_test, y_train, y_test = train_test_split(X,y, test_size=0.2)#, random_state=42)"
   ]
  },
  {
   "cell_type": "code",
   "execution_count": 148,
   "metadata": {},
   "outputs": [],
   "source": [
    "m_rf = RandomForestClassifier(max_depth=5, n_estimators=500, class_weight=\"balanced\")"
   ]
  },
  {
   "cell_type": "code",
   "execution_count": 149,
   "metadata": {},
   "outputs": [
    {
     "data": {
      "text/html": [
       "<style>#sk-container-id-10 {color: black;background-color: white;}#sk-container-id-10 pre{padding: 0;}#sk-container-id-10 div.sk-toggleable {background-color: white;}#sk-container-id-10 label.sk-toggleable__label {cursor: pointer;display: block;width: 100%;margin-bottom: 0;padding: 0.3em;box-sizing: border-box;text-align: center;}#sk-container-id-10 label.sk-toggleable__label-arrow:before {content: \"▸\";float: left;margin-right: 0.25em;color: #696969;}#sk-container-id-10 label.sk-toggleable__label-arrow:hover:before {color: black;}#sk-container-id-10 div.sk-estimator:hover label.sk-toggleable__label-arrow:before {color: black;}#sk-container-id-10 div.sk-toggleable__content {max-height: 0;max-width: 0;overflow: hidden;text-align: left;background-color: #f0f8ff;}#sk-container-id-10 div.sk-toggleable__content pre {margin: 0.2em;color: black;border-radius: 0.25em;background-color: #f0f8ff;}#sk-container-id-10 input.sk-toggleable__control:checked~div.sk-toggleable__content {max-height: 200px;max-width: 100%;overflow: auto;}#sk-container-id-10 input.sk-toggleable__control:checked~label.sk-toggleable__label-arrow:before {content: \"▾\";}#sk-container-id-10 div.sk-estimator input.sk-toggleable__control:checked~label.sk-toggleable__label {background-color: #d4ebff;}#sk-container-id-10 div.sk-label input.sk-toggleable__control:checked~label.sk-toggleable__label {background-color: #d4ebff;}#sk-container-id-10 input.sk-hidden--visually {border: 0;clip: rect(1px 1px 1px 1px);clip: rect(1px, 1px, 1px, 1px);height: 1px;margin: -1px;overflow: hidden;padding: 0;position: absolute;width: 1px;}#sk-container-id-10 div.sk-estimator {font-family: monospace;background-color: #f0f8ff;border: 1px dotted black;border-radius: 0.25em;box-sizing: border-box;margin-bottom: 0.5em;}#sk-container-id-10 div.sk-estimator:hover {background-color: #d4ebff;}#sk-container-id-10 div.sk-parallel-item::after {content: \"\";width: 100%;border-bottom: 1px solid gray;flex-grow: 1;}#sk-container-id-10 div.sk-label:hover label.sk-toggleable__label {background-color: #d4ebff;}#sk-container-id-10 div.sk-serial::before {content: \"\";position: absolute;border-left: 1px solid gray;box-sizing: border-box;top: 0;bottom: 0;left: 50%;z-index: 0;}#sk-container-id-10 div.sk-serial {display: flex;flex-direction: column;align-items: center;background-color: white;padding-right: 0.2em;padding-left: 0.2em;position: relative;}#sk-container-id-10 div.sk-item {position: relative;z-index: 1;}#sk-container-id-10 div.sk-parallel {display: flex;align-items: stretch;justify-content: center;background-color: white;position: relative;}#sk-container-id-10 div.sk-item::before, #sk-container-id-10 div.sk-parallel-item::before {content: \"\";position: absolute;border-left: 1px solid gray;box-sizing: border-box;top: 0;bottom: 0;left: 50%;z-index: -1;}#sk-container-id-10 div.sk-parallel-item {display: flex;flex-direction: column;z-index: 1;position: relative;background-color: white;}#sk-container-id-10 div.sk-parallel-item:first-child::after {align-self: flex-end;width: 50%;}#sk-container-id-10 div.sk-parallel-item:last-child::after {align-self: flex-start;width: 50%;}#sk-container-id-10 div.sk-parallel-item:only-child::after {width: 0;}#sk-container-id-10 div.sk-dashed-wrapped {border: 1px dashed gray;margin: 0 0.4em 0.5em 0.4em;box-sizing: border-box;padding-bottom: 0.4em;background-color: white;}#sk-container-id-10 div.sk-label label {font-family: monospace;font-weight: bold;display: inline-block;line-height: 1.2em;}#sk-container-id-10 div.sk-label-container {text-align: center;}#sk-container-id-10 div.sk-container {/* jupyter's `normalize.less` sets `[hidden] { display: none; }` but bootstrap.min.css set `[hidden] { display: none !important; }` so we also need the `!important` here to be able to override the default hidden behavior on the sphinx rendered scikit-learn.org. See: https://github.com/scikit-learn/scikit-learn/issues/21755 */display: inline-block !important;position: relative;}#sk-container-id-10 div.sk-text-repr-fallback {display: none;}</style><div id=\"sk-container-id-10\" class=\"sk-top-container\"><div class=\"sk-text-repr-fallback\"><pre>RandomForestClassifier(class_weight=&#x27;balanced&#x27;, max_depth=5, n_estimators=500)</pre><b>In a Jupyter environment, please rerun this cell to show the HTML representation or trust the notebook. <br />On GitHub, the HTML representation is unable to render, please try loading this page with nbviewer.org.</b></div><div class=\"sk-container\" hidden><div class=\"sk-item\"><div class=\"sk-estimator sk-toggleable\"><input class=\"sk-toggleable__control sk-hidden--visually\" id=\"sk-estimator-id-10\" type=\"checkbox\" checked><label for=\"sk-estimator-id-10\" class=\"sk-toggleable__label sk-toggleable__label-arrow\">RandomForestClassifier</label><div class=\"sk-toggleable__content\"><pre>RandomForestClassifier(class_weight=&#x27;balanced&#x27;, max_depth=5, n_estimators=500)</pre></div></div></div></div></div>"
      ],
      "text/plain": [
       "RandomForestClassifier(class_weight='balanced', max_depth=5, n_estimators=500)"
      ]
     },
     "execution_count": 149,
     "metadata": {},
     "output_type": "execute_result"
    }
   ],
   "source": [
    "m_rf.fit(X_train, y_train)"
   ]
  },
  {
   "attachments": {},
   "cell_type": "markdown",
   "metadata": {},
   "source": [
    "Visualization of model predictions /w probabilities"
   ]
  },
  {
   "cell_type": "code",
   "execution_count": 150,
   "metadata": {},
   "outputs": [
    {
     "data": {
      "text/html": [
       "<div>\n",
       "<style scoped>\n",
       "    .dataframe tbody tr th:only-of-type {\n",
       "        vertical-align: middle;\n",
       "    }\n",
       "\n",
       "    .dataframe tbody tr th {\n",
       "        vertical-align: top;\n",
       "    }\n",
       "\n",
       "    .dataframe thead th {\n",
       "        text-align: right;\n",
       "    }\n",
       "</style>\n",
       "<table border=\"1\" class=\"dataframe\">\n",
       "  <thead>\n",
       "    <tr style=\"text-align: right;\">\n",
       "      <th></th>\n",
       "      <th>Survived?</th>\n",
       "      <th>prediction</th>\n",
       "      <th>prob for surv</th>\n",
       "      <th>prob for drow</th>\n",
       "    </tr>\n",
       "    <tr>\n",
       "      <th>PassengerId</th>\n",
       "      <th></th>\n",
       "      <th></th>\n",
       "      <th></th>\n",
       "      <th></th>\n",
       "    </tr>\n",
       "  </thead>\n",
       "  <tbody>\n",
       "    <tr>\n",
       "      <th>131</th>\n",
       "      <td>0</td>\n",
       "      <td>0</td>\n",
       "      <td>0.223655</td>\n",
       "      <td>0.776345</td>\n",
       "    </tr>\n",
       "    <tr>\n",
       "      <th>284</th>\n",
       "      <td>1</td>\n",
       "      <td>0</td>\n",
       "      <td>0.173702</td>\n",
       "      <td>0.826298</td>\n",
       "    </tr>\n",
       "    <tr>\n",
       "      <th>327</th>\n",
       "      <td>0</td>\n",
       "      <td>0</td>\n",
       "      <td>0.155394</td>\n",
       "      <td>0.844606</td>\n",
       "    </tr>\n",
       "    <tr>\n",
       "      <th>41</th>\n",
       "      <td>0</td>\n",
       "      <td>0</td>\n",
       "      <td>0.402858</td>\n",
       "      <td>0.597142</td>\n",
       "    </tr>\n",
       "    <tr>\n",
       "      <th>101</th>\n",
       "      <td>0</td>\n",
       "      <td>0</td>\n",
       "      <td>0.469800</td>\n",
       "      <td>0.530200</td>\n",
       "    </tr>\n",
       "    <tr>\n",
       "      <th>601</th>\n",
       "      <td>1</td>\n",
       "      <td>1</td>\n",
       "      <td>0.885183</td>\n",
       "      <td>0.114817</td>\n",
       "    </tr>\n",
       "    <tr>\n",
       "      <th>792</th>\n",
       "      <td>0</td>\n",
       "      <td>0</td>\n",
       "      <td>0.305376</td>\n",
       "      <td>0.694624</td>\n",
       "    </tr>\n",
       "    <tr>\n",
       "      <th>78</th>\n",
       "      <td>0</td>\n",
       "      <td>0</td>\n",
       "      <td>0.178979</td>\n",
       "      <td>0.821021</td>\n",
       "    </tr>\n",
       "    <tr>\n",
       "      <th>332</th>\n",
       "      <td>0</td>\n",
       "      <td>0</td>\n",
       "      <td>0.452602</td>\n",
       "      <td>0.547398</td>\n",
       "    </tr>\n",
       "    <tr>\n",
       "      <th>568</th>\n",
       "      <td>0</td>\n",
       "      <td>0</td>\n",
       "      <td>0.452238</td>\n",
       "      <td>0.547762</td>\n",
       "    </tr>\n",
       "  </tbody>\n",
       "</table>\n",
       "</div>"
      ],
      "text/plain": [
       "             Survived?  prediction  prob for surv  prob for drow\n",
       "PassengerId                                                     \n",
       "131                  0           0       0.223655       0.776345\n",
       "284                  1           0       0.173702       0.826298\n",
       "327                  0           0       0.155394       0.844606\n",
       "41                   0           0       0.402858       0.597142\n",
       "101                  0           0       0.469800       0.530200\n",
       "601                  1           1       0.885183       0.114817\n",
       "792                  0           0       0.305376       0.694624\n",
       "78                   0           0       0.178979       0.821021\n",
       "332                  0           0       0.452602       0.547398\n",
       "568                  0           0       0.452238       0.547762"
      ]
     },
     "execution_count": 150,
     "metadata": {},
     "output_type": "execute_result"
    }
   ],
   "source": [
    "y_train_pred = m_rf.predict(X_train)\n",
    "y_train_pred_prob = m_rf.predict_proba(X_train)\n",
    "\n",
    "eval_tdata = pd.DataFrame()\n",
    "eval_tdata['Survived?'] = y_train\n",
    "eval_tdata['prediction'] = y_train_pred\n",
    "eval_tdata['prob for surv'] = m_rf.predict_proba(X_train)[:,1]\n",
    "eval_tdata['prob for drow'] = m_rf.predict_proba(X_train)[:,0]\n",
    "eval_tdata.sample(10)"
   ]
  },
  {
   "attachments": {},
   "cell_type": "markdown",
   "metadata": {},
   "source": [
    "Accuracy Score"
   ]
  },
  {
   "cell_type": "code",
   "execution_count": 151,
   "metadata": {},
   "outputs": [
    {
     "name": "stdout",
     "output_type": "stream",
     "text": [
      "86.5% of survival-statuses were predicted correctly for train data\n",
      "82.1% of survival-statuses were predicted correctly for test data\n"
     ]
    }
   ],
   "source": [
    "trn_scr = m_rf.score(X_train, y_train)\n",
    "tst_scr = m_rf.score(X_test, y_test)\n",
    "print(f\"{round(trn_scr,3)*100:0.1f}% of survival-statuses were predicted correctly for train data\")\n",
    "print(f\"{round(tst_scr,3)*100:0.1f}% of survival-statuses were predicted correctly for test data\")"
   ]
  },
  {
   "attachments": {},
   "cell_type": "markdown",
   "metadata": {},
   "source": [
    "Precision-, Recall- and F1-Score"
   ]
  },
  {
   "cell_type": "code",
   "execution_count": 152,
   "metadata": {},
   "outputs": [],
   "source": [
    "ps = precision_score(y_train, y_train_pred)\n",
    "rs = recall_score(y_train, y_train_pred)\n",
    "fs = f1_score(y_train, y_train_pred)"
   ]
  },
  {
   "cell_type": "code",
   "execution_count": 153,
   "metadata": {},
   "outputs": [
    {
     "name": "stdout",
     "output_type": "stream",
     "text": [
      "Precision score = 82.5%\n",
      "Recall score = 80.0%\n",
      "F1 score = 81.2%\n"
     ]
    }
   ],
   "source": [
    "print(f\"Precision score = {round(ps*100,1)}%\")\n",
    "print(f\"Recall score = {round(rs*100,1)}%\")\n",
    "print(f\"F1 score = {round(fs*100,1)}%\")"
   ]
  },
  {
   "attachments": {},
   "cell_type": "markdown",
   "metadata": {},
   "source": [
    "Confusion Matrix"
   ]
  },
  {
   "cell_type": "code",
   "execution_count": 154,
   "metadata": {},
   "outputs": [],
   "source": [
    "cm = confusion_matrix(y_train, y_train_pred)"
   ]
  },
  {
   "cell_type": "code",
   "execution_count": 155,
   "metadata": {},
   "outputs": [
    {
     "data": {
      "image/png": "[encoded data removed]",
      "text/plain": [
       "<Figure size 640x480 with 2 Axes>"
      ]
     },
     "metadata": {},
     "output_type": "display_data"
    }
   ],
   "source": [
    "sns.heatmap(cm,\n",
    "            annot=True,\n",
    "            fmt = 'g'\n",
    "            )\n",
    "plt.xlabel('Predicted')\n",
    "plt.ylabel('Reality')\n",
    "plt.show()"
   ]
  },
  {
   "attachments": {},
   "cell_type": "markdown",
   "metadata": {},
   "source": [
    "ROCurve"
   ]
  },
  {
   "cell_type": "code",
   "execution_count": 156,
   "metadata": {},
   "outputs": [],
   "source": [
    "fpr, tpr, thresholds = roc_curve(y_train, y_train_pred_prob[:,1])\n",
    "roc_auc = auc(fpr, tpr)"
   ]
  },
  {
   "cell_type": "code",
   "execution_count": 157,
   "metadata": {},
   "outputs": [
    {
     "data": {
      "image/png": "[encoded data removed]",
      "text/plain": [
       "<Figure size 640x480 with 1 Axes>"
      ]
     },
     "metadata": {},
     "output_type": "display_data"
    }
   ],
   "source": [
    "dp = RocCurveDisplay(fpr=fpr, tpr=tpr, roc_auc=roc_auc)\n",
    "dp.plot()\n",
    "plt.show()"
   ]
  },
  {
   "attachments": {},
   "cell_type": "markdown",
   "metadata": {},
   "source": [
    "Find optimal threshold"
   ]
  },
  {
   "cell_type": "code",
   "execution_count": 158,
   "metadata": {},
   "outputs": [
    {
     "data": {
      "text/html": [
       "<div>\n",
       "<style scoped>\n",
       "    .dataframe tbody tr th:only-of-type {\n",
       "        vertical-align: middle;\n",
       "    }\n",
       "\n",
       "    .dataframe tbody tr th {\n",
       "        vertical-align: top;\n",
       "    }\n",
       "\n",
       "    .dataframe thead th {\n",
       "        text-align: right;\n",
       "    }\n",
       "</style>\n",
       "<table border=\"1\" class=\"dataframe\">\n",
       "  <thead>\n",
       "    <tr style=\"text-align: right;\">\n",
       "      <th></th>\n",
       "      <th>tpr</th>\n",
       "      <th>fpr</th>\n",
       "      <th>thresholds</th>\n",
       "    </tr>\n",
       "  </thead>\n",
       "  <tbody>\n",
       "    <tr>\n",
       "      <th>0</th>\n",
       "      <td>0.000000</td>\n",
       "      <td>0.000000</td>\n",
       "      <td>1.961372</td>\n",
       "    </tr>\n",
       "    <tr>\n",
       "      <th>1</th>\n",
       "      <td>0.003846</td>\n",
       "      <td>0.000000</td>\n",
       "      <td>0.961372</td>\n",
       "    </tr>\n",
       "    <tr>\n",
       "      <th>2</th>\n",
       "      <td>0.111538</td>\n",
       "      <td>0.000000</td>\n",
       "      <td>0.934209</td>\n",
       "    </tr>\n",
       "    <tr>\n",
       "      <th>3</th>\n",
       "      <td>0.119231</td>\n",
       "      <td>0.000000</td>\n",
       "      <td>0.931618</td>\n",
       "    </tr>\n",
       "    <tr>\n",
       "      <th>4</th>\n",
       "      <td>0.273077</td>\n",
       "      <td>0.000000</td>\n",
       "      <td>0.883853</td>\n",
       "    </tr>\n",
       "    <tr>\n",
       "      <th>...</th>\n",
       "      <td>...</td>\n",
       "      <td>...</td>\n",
       "      <td>...</td>\n",
       "    </tr>\n",
       "    <tr>\n",
       "      <th>210</th>\n",
       "      <td>1.000000</td>\n",
       "      <td>0.964602</td>\n",
       "      <td>0.159650</td>\n",
       "    </tr>\n",
       "    <tr>\n",
       "      <th>211</th>\n",
       "      <td>1.000000</td>\n",
       "      <td>0.969027</td>\n",
       "      <td>0.159030</td>\n",
       "    </tr>\n",
       "    <tr>\n",
       "      <th>212</th>\n",
       "      <td>1.000000</td>\n",
       "      <td>0.975664</td>\n",
       "      <td>0.158089</td>\n",
       "    </tr>\n",
       "    <tr>\n",
       "      <th>213</th>\n",
       "      <td>1.000000</td>\n",
       "      <td>0.984513</td>\n",
       "      <td>0.157403</td>\n",
       "    </tr>\n",
       "    <tr>\n",
       "      <th>214</th>\n",
       "      <td>1.000000</td>\n",
       "      <td>1.000000</td>\n",
       "      <td>0.147859</td>\n",
       "    </tr>\n",
       "  </tbody>\n",
       "</table>\n",
       "<p>215 rows × 3 columns</p>\n",
       "</div>"
      ],
      "text/plain": [
       "          tpr       fpr  thresholds\n",
       "0    0.000000  0.000000    1.961372\n",
       "1    0.003846  0.000000    0.961372\n",
       "2    0.111538  0.000000    0.934209\n",
       "3    0.119231  0.000000    0.931618\n",
       "4    0.273077  0.000000    0.883853\n",
       "..        ...       ...         ...\n",
       "210  1.000000  0.964602    0.159650\n",
       "211  1.000000  0.969027    0.159030\n",
       "212  1.000000  0.975664    0.158089\n",
       "213  1.000000  0.984513    0.157403\n",
       "214  1.000000  1.000000    0.147859\n",
       "\n",
       "[215 rows x 3 columns]"
      ]
     },
     "execution_count": 158,
     "metadata": {},
     "output_type": "execute_result"
    }
   ],
   "source": [
    "roc_params = pd.DataFrame()\n",
    "\n",
    "roc_params[\"tpr\"] = tpr\n",
    "roc_params[\"fpr\"] = fpr\n",
    "roc_params[\"thresholds\"] = thresholds\n",
    "\n",
    "roc_params"
   ]
  },
  {
   "cell_type": "code",
   "execution_count": 159,
   "metadata": {},
   "outputs": [
    {
     "name": "stdout",
     "output_type": "stream",
     "text": [
      "Optimal True-Positive-Rate: 0.823076923076923\n",
      "Optimal False-Positive-Rate: 0.1084070796460177\n",
      "Optimal Threshold: 0.4945313131171516\n"
     ]
    }
   ],
   "source": [
    "opti = np.argmax(tpr-fpr)\n",
    "\n",
    "print(f\"Optimal True-Positive-Rate: {tpr[opti]}\")\n",
    "print(f\"Optimal False-Positive-Rate: {fpr[opti]}\")\n",
    "print(f\"Optimal Threshold: {thresholds[opti]}\")"
   ]
  },
  {
   "attachments": {},
   "cell_type": "markdown",
   "metadata": {},
   "source": [
    "Feature Importance"
   ]
  },
  {
   "cell_type": "code",
   "execution_count": 160,
   "metadata": {},
   "outputs": [
    {
     "data": {
      "text/html": [
       "<div>\n",
       "<style scoped>\n",
       "    .dataframe tbody tr th:only-of-type {\n",
       "        vertical-align: middle;\n",
       "    }\n",
       "\n",
       "    .dataframe tbody tr th {\n",
       "        vertical-align: top;\n",
       "    }\n",
       "\n",
       "    .dataframe thead th {\n",
       "        text-align: right;\n",
       "    }\n",
       "</style>\n",
       "<table border=\"1\" class=\"dataframe\">\n",
       "  <thead>\n",
       "    <tr style=\"text-align: right;\">\n",
       "      <th></th>\n",
       "      <th>Feature Importance</th>\n",
       "    </tr>\n",
       "    <tr>\n",
       "      <th>Feature Label</th>\n",
       "      <th></th>\n",
       "    </tr>\n",
       "  </thead>\n",
       "  <tbody>\n",
       "    <tr>\n",
       "      <th>is_Male</th>\n",
       "      <td>0.410324</td>\n",
       "    </tr>\n",
       "    <tr>\n",
       "      <th>scld_Fare</th>\n",
       "      <td>0.223966</td>\n",
       "    </tr>\n",
       "    <tr>\n",
       "      <th>is_Pclass_3</th>\n",
       "      <td>0.135882</td>\n",
       "    </tr>\n",
       "    <tr>\n",
       "      <th>scld_Age</th>\n",
       "      <td>0.126588</td>\n",
       "    </tr>\n",
       "    <tr>\n",
       "      <th>emb_s</th>\n",
       "      <td>0.039725</td>\n",
       "    </tr>\n",
       "    <tr>\n",
       "      <th>has_relatives</th>\n",
       "      <td>0.026851</td>\n",
       "    </tr>\n",
       "    <tr>\n",
       "      <th>is_Pclass_2</th>\n",
       "      <td>0.023623</td>\n",
       "    </tr>\n",
       "    <tr>\n",
       "      <th>emb_q</th>\n",
       "      <td>0.013042</td>\n",
       "    </tr>\n",
       "  </tbody>\n",
       "</table>\n",
       "</div>"
      ],
      "text/plain": [
       "               Feature Importance\n",
       "Feature Label                    \n",
       "is_Male                  0.410324\n",
       "scld_Fare                0.223966\n",
       "is_Pclass_3              0.135882\n",
       "scld_Age                 0.126588\n",
       "emb_s                    0.039725\n",
       "has_relatives            0.026851\n",
       "is_Pclass_2              0.023623\n",
       "emb_q                    0.013042"
      ]
     },
     "execution_count": 160,
     "metadata": {},
     "output_type": "execute_result"
    }
   ],
   "source": [
    "feature_label = pd.DataFrame(X_train).columns\n",
    "feature_importance = m_rf.feature_importances_\n",
    "\n",
    "fi_df = pd.DataFrame()\n",
    "\n",
    "fi_df[\"Feature Label\"] = feature_label\n",
    "fi_df[\"Feature Importance\"] = feature_importance\n",
    "fi_df.set_index(\"Feature Label\", inplace=True)\n",
    "\n",
    "fi_df.sort_values(\"Feature Importance\", ascending=False)"
   ]
  },
  {
   "cell_type": "code",
   "execution_count": 176,
   "metadata": {},
   "outputs": [],
   "source": [
    "titanic_test_df = pd.read_csv(\"../../data/test_fe.csv\", index_col=0)\n",
    "titanic_test_df = titanic_test_df[['is_Male', 'is_Pclass_2', 'is_Pclass_3', 'emb_q', 'emb_s', 'has_relatives', 'scld_Age', 'scld_Fare']]"
   ]
  },
  {
   "cell_type": "code",
   "execution_count": 177,
   "metadata": {},
   "outputs": [],
   "source": [
    "titanic_test_df.fillna(titanic_test_df[\"scld_Fare\"].mean(), inplace=True)"
   ]
  },
  {
   "cell_type": "code",
   "execution_count": 178,
   "metadata": {},
   "outputs": [],
   "source": [
    "export = pd.DataFrame()\n",
    "export[\"PassengerId\"] = titanic_test_df.index\n",
    "export[\"Survived\"] = m_rf.predict(titanic_test_df)\n",
    "\n",
    "export.head(10)\n",
    "export.to_csv(\"../../data/titanic_pred.csv\", index=False)"
   ]
  }
 ],
 "metadata": {
  "kernelspec": {
   "display_name": "spiced_projects",
   "language": "python",
   "name": "python3"
  },
  "language_info": {
   "codemirror_mode": {
    "name": "ipython",
    "version": 3
   },
   "file_extension": ".py",
   "mimetype": "text/x-python",
   "name": "python",
   "nbconvert_exporter": "python",
   "pygments_lexer": "ipython3",
   "version": "3.11.3"
  },
  "orig_nbformat": 4
 },
 "nbformat": 4,
 "nbformat_minor": 2
}
